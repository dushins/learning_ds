{
 "cells": [
  {
   "cell_type": "markdown",
   "id": "c353de9a",
   "metadata": {},
   "source": [
    "# Проект: классификация"
   ]
  },
  {
   "cell_type": "code",
   "execution_count": 1,
   "id": "4a6e54dc",
   "metadata": {},
   "outputs": [],
   "source": [
    "import pandas as pd\n",
    "import numpy as np\n",
    "import matplotlib.pyplot as plt\n",
    "import seaborn as sns\n",
    "from  sklearn.ensemble import IsolationForest\n",
    "import warnings\n",
    "warnings.filterwarnings('ignore')\n",
    "from sklearn.preprocessing  import LabelEncoder\n",
    "from sklearn import linear_model \n",
    "from sklearn import tree \n",
    "from sklearn import ensemble \n",
    "from sklearn import metrics \n",
    "from sklearn import preprocessing \n",
    "from sklearn import model_selection\n",
    "from sklearn.model_selection import train_test_split \n",
    "from sklearn.feature_selection import SelectKBest, f_classif\n",
    "import optuna\n"
   ]
  },
  {
   "cell_type": "markdown",
   "id": "71559b60",
   "metadata": {},
   "source": [
    "## Часть 1. Знакомство с данными, обработка пропусков и выбросов"
   ]
  },
  {
   "cell_type": "markdown",
   "id": "7c5e31b2",
   "metadata": {},
   "source": [
    "### Задание 1"
   ]
  },
  {
   "cell_type": "code",
   "execution_count": 1001,
   "id": "20730cd7",
   "metadata": {},
   "outputs": [],
   "source": [
    "df = pd.read_csv('data/bank_fin.csv', sep = ';'"
   ]
  },
  {
   "cell_type": "code",
   "execution_count": 1002,
   "id": "ba11dc67",
   "metadata": {},
   "outputs": [
    {
     "name": "stdout",
     "output_type": "stream",
     "text": [
      "age           0\n",
      "job           0\n",
      "marital       0\n",
      "education     0\n",
      "default       0\n",
      "balance      25\n",
      "housing       0\n",
      "loan          0\n",
      "contact       0\n",
      "day           0\n",
      "month         0\n",
      "duration      0\n",
      "campaign      0\n",
      "pdays         0\n",
      "previous      0\n",
      "poutcome      0\n",
      "deposit       0\n",
      "dtype: int64\n"
     ]
    }
   ],
   "source": [
    "# исследуйте данные на предмет пропусков. Где есть пропущенные значения? Сколько их?\n",
    "# ваш код\n",
    "\n",
    "dd = df.isna().sum()\n",
    "print(dd)"
   ]
  },
  {
   "cell_type": "markdown",
   "id": "6366f059",
   "metadata": {},
   "source": [
    "### Задание 2"
   ]
  },
  {
   "cell_type": "code",
   "execution_count": 1003,
   "id": "98ea29d4",
   "metadata": {},
   "outputs": [
    {
     "name": "stdout",
     "output_type": "stream",
     "text": [
      "job\n",
      "management       2566\n",
      "blue-collar      1944\n",
      "technician       1823\n",
      "admin.           1334\n",
      "services          923\n",
      "retired           778\n",
      "self-employed     405\n",
      "student           360\n",
      "unemployed        357\n",
      "entrepreneur      328\n",
      "housemaid         274\n",
      "unknown            70\n",
      "Name: count, dtype: int64\n"
     ]
    }
   ],
   "source": [
    "# есть ли в признаке job пропущенные значения? Возможно, они обозначены каким-то специальным словом?\n",
    "# ваш код\n",
    "\n",
    "print(df['job'].value_counts())"
   ]
  },
  {
   "cell_type": "markdown",
   "id": "8fcf4fcd",
   "metadata": {},
   "source": [
    "### Задание 3"
   ]
  },
  {
   "cell_type": "code",
   "execution_count": null,
   "id": "48ceb49b",
   "metadata": {},
   "outputs": [],
   "source": []
  },
  {
   "cell_type": "code",
   "execution_count": 1004,
   "id": "3a01be5e",
   "metadata": {},
   "outputs": [],
   "source": [
    "# преобразуйте признак balance таким образом, чтобы он корректно считывался, как вещественное число (float)\n",
    "df['balance'] = df['balance'].apply(lambda x: x[:-2].strip().replace(' ','').replace(',', '.') if x==x else None)\n",
    "df['balance'] = df['balance'].astype('float')"
   ]
  },
  {
   "cell_type": "code",
   "execution_count": 1005,
   "id": "32169200",
   "metadata": {},
   "outputs": [
    {
     "data": {
      "text/plain": [
       "np.float64(1529.1290293615875)"
      ]
     },
     "execution_count": 1005,
     "metadata": {},
     "output_type": "execute_result"
    }
   ],
   "source": [
    "df['balance'].mean()"
   ]
  },
  {
   "cell_type": "markdown",
   "id": "6de63fd7",
   "metadata": {},
   "source": [
    "### Задание 4"
   ]
  },
  {
   "cell_type": "code",
   "execution_count": 1006,
   "id": "6a684a63",
   "metadata": {},
   "outputs": [
    {
     "data": {
      "text/plain": [
       "np.float64(1526.9360329690019)"
      ]
     },
     "execution_count": 1006,
     "metadata": {},
     "output_type": "execute_result"
    }
   ],
   "source": [
    "# обработайте пропуски в признаки balance , заменив их на медианные значения по данному признаку\n",
    "# ваш код\n",
    "\n",
    "df['balance'] = df['balance'].fillna(df['balance'].median())\n",
    "df.balance.mean()"
   ]
  },
  {
   "cell_type": "markdown",
   "id": "1097ec42",
   "metadata": {},
   "source": [
    "### Задание 5"
   ]
  },
  {
   "cell_type": "code",
   "execution_count": 1007,
   "id": "0fa070a6",
   "metadata": {},
   "outputs": [],
   "source": [
    "# обработайте пропуски в категориальных признаках: job и education, заменив их на модальные значения\n",
    "# ваш код\n",
    "df['job'] = df['job'].apply(lambda x: x if x != 'unknown' else df['job'].mode()[0])\n",
    "df['education'] = df['education'].apply(lambda x: x if x != 'unknown' else df['education'].mode()[0])\n",
    "\n"
   ]
  },
  {
   "cell_type": "code",
   "execution_count": 1008,
   "id": "27e6595f",
   "metadata": {},
   "outputs": [
    {
     "data": {
      "text/plain": [
       "np.float64(1598.8829787234042)"
      ]
     },
     "execution_count": 1008,
     "metadata": {},
     "output_type": "execute_result"
    }
   ],
   "source": [
    "df[(df['job'] == df['job'].mode()[0]) & (df['education'] == df['education'].mode()[0])]['balance'].mean()"
   ]
  },
  {
   "cell_type": "markdown",
   "id": "02af77c6",
   "metadata": {},
   "source": [
    "### Задание 6"
   ]
  },
  {
   "cell_type": "code",
   "execution_count": 1009,
   "id": "3802cdd9",
   "metadata": {},
   "outputs": [
    {
     "name": "stdout",
     "output_type": "stream",
     "text": [
      "Upper bound is 4063.0\n",
      "Lower bound is -2241.0\n"
     ]
    },
    {
     "data": {
      "text/plain": [
       "10105"
      ]
     },
     "execution_count": 1009,
     "metadata": {},
     "output_type": "execute_result"
    }
   ],
   "source": [
    "# удалите все выбросы для признака balance\n",
    "# ваш код\n",
    "def bounds(feature):\n",
    "    q1 = feature.quantile(0.25)\n",
    "    q3 = feature.quantile(0.75)\n",
    "    lower_bound = q1 - 1.5*(q3-q1)\n",
    "    upper_bound = q3 + 1.5*(q3-q1)\n",
    "    return upper_bound, lower_bound\n",
    "\n",
    "upper_bound, lower_bound = bounds(df['balance'])\n",
    "\n",
    "print(f'Upper bound is {upper_bound}')\n",
    "print(f'Lower bound is {lower_bound}')\n",
    "\n",
    "df = df[(lower_bound <= df['balance']) & (df['balance'] <= upper_bound)]\n",
    "df.shape[0]"
   ]
  },
  {
   "cell_type": "markdown",
   "id": "5d22b8cd",
   "metadata": {},
   "source": [
    "## Часть 2:  Разведывательный анализ"
   ]
  },
  {
   "cell_type": "markdown",
   "id": "21e1f083",
   "metadata": {},
   "source": [
    "### Задание 1"
   ]
  },
  {
   "cell_type": "code",
   "execution_count": 1010,
   "id": "6d0cd3a8",
   "metadata": {},
   "outputs": [
    {
     "name": "stdout",
     "output_type": "stream",
     "text": [
      "Amount of people who opened deposit: 4681\n",
      "Amount of people who didn't open deposit: 5424\n"
     ]
    },
    {
     "data": {
      "image/png": "[encoded data removed]",
      "text/plain": [
       "<Figure size 640x480 with 1 Axes>"
      ]
     },
     "metadata": {},
     "output_type": "display_data"
    }
   ],
   "source": [
    "# изучите соотношение классов в ваших данных на предмет несбалансированности, проиллюстрируйте результат\n",
    "# ваш код\n",
    "opened = df[df['deposit']=='yes'].shape[0]\n",
    "not_opened = df[df['deposit']=='no'].shape[0]\n",
    "print(f'Amount of people who opened deposit: {opened}')\n",
    "print(f\"Amount of people who didn't open deposit: {not_opened}\")\n",
    "deposit_allocation = sns.histplot(df['deposit'])\n",
    "deposit_allocation.set(title='deposit_allocation')\n",
    "plt.show()"
   ]
  },
  {
   "cell_type": "markdown",
   "id": "426b1d40",
   "metadata": {},
   "source": [
    "### Задания 2 и 3"
   ]
  },
  {
   "cell_type": "code",
   "execution_count": 1011,
   "id": "603cdb3c",
   "metadata": {},
   "outputs": [
    {
     "name": "stdout",
     "output_type": "stream",
     "text": [
      "95\n",
      "2\n"
     ]
    }
   ],
   "source": [
    "#рассчитайте описательные статистики для количественных переменных, проинтерпретируйте результат\n",
    "#ваш код\n",
    "\n",
    "print(df['age'].max())\n",
    "print(df['duration'].min())\n"
   ]
  },
  {
   "cell_type": "markdown",
   "id": "821dc39e",
   "metadata": {},
   "source": [
    "### Задания 4 и 5"
   ]
  },
  {
   "cell_type": "code",
   "execution_count": 1012,
   "id": "bf45afc9",
   "metadata": {},
   "outputs": [
    {
     "data": {
      "image/png": "[encoded data removed]",
      "text/plain": [
       "<Figure size 640x480 with 1 Axes>"
      ]
     },
     "metadata": {},
     "output_type": "display_data"
    },
    {
     "data": {
      "image/png": "[encoded data removed]",
      "text/plain": [
       "<Figure size 640x480 with 1 Axes>"
      ]
     },
     "metadata": {},
     "output_type": "display_data"
    }
   ],
   "source": [
    "#рассчитайте описательные статистики для категориальных переменных, проинтерпретируйте результат\n",
    "#ваш код\n",
    "#постройте визуализации, иллюстрирующие результаты\n",
    "\n",
    "month_plot = sns.histplot(df['month'])\n",
    "month_plot.set(title='month_plot')\n",
    "plt.show()\n",
    "sphere_plot = sns.histplot(df['job'])\n",
    "sphere_plot.set(title='sphere_plot')\n",
    "plt.xticks(rotation=45)\n",
    "plt.show()"
   ]
  },
  {
   "cell_type": "markdown",
   "id": "472cff5b",
   "metadata": {},
   "source": [
    "### Задание 6"
   ]
  },
  {
   "cell_type": "code",
   "execution_count": 1013,
   "id": "2d640ce1",
   "metadata": {},
   "outputs": [
    {
     "data": {
      "text/plain": [
       "<Axes: xlabel='deposit', ylabel='Count'>"
      ]
     },
     "execution_count": 1013,
     "metadata": {},
     "output_type": "execute_result"
    },
    {
     "data": {
      "image/png": "[encoded data removed]",
      "text/plain": [
       "<Figure size 640x480 with 1 Axes>"
      ]
     },
     "metadata": {},
     "output_type": "display_data"
    }
   ],
   "source": [
    "# Узнайте, для какого статуса предыдущей маркетинговой кампании успех в текущей превалирует над количеством неудач.\n",
    "# ваш код\n",
    "\n",
    "sns.histplot(data= df, hue = 'poutcome', x='deposit')"
   ]
  },
  {
   "cell_type": "markdown",
   "id": "9c32e3aa",
   "metadata": {},
   "source": [
    "### Задание 7"
   ]
  },
  {
   "cell_type": "code",
   "execution_count": 1014,
   "id": "df437ec3",
   "metadata": {},
   "outputs": [
    {
     "data": {
      "text/plain": [
       "month\n",
       "may    1776\n",
       "jul     836\n",
       "aug     775\n",
       "jun     606\n",
       "nov     456\n",
       "feb     323\n",
       "apr     317\n",
       "jan     194\n",
       "oct      62\n",
       "sep      46\n",
       "mar      24\n",
       "dec       9\n",
       "Name: count, dtype: int64"
      ]
     },
     "execution_count": 1014,
     "metadata": {},
     "output_type": "execute_result"
    }
   ],
   "source": [
    "# узнайте, в каком месяце чаще всего отказывались от предложения открыть депозит\n",
    "# ваш код\n",
    "\n",
    "df[df['deposit'] == 'no']['month'].value_counts()"
   ]
  },
  {
   "cell_type": "markdown",
   "id": "5f20762f",
   "metadata": {},
   "source": [
    "### Задание 8"
   ]
  },
  {
   "cell_type": "code",
   "execution_count": 1015,
   "id": "95d56f1b",
   "metadata": {},
   "outputs": [],
   "source": [
    "# создайте возрастные группы и определите, в каких группах более склонны открывать депозит, чем отказываться от предложения\n",
    "\n",
    "def age_encode(feature):\n",
    "    if feature < 30:\n",
    "        return '<30'\n",
    "    elif feature < 41:\n",
    "        return '30-40'\n",
    "    elif feature < 51:\n",
    "        return '40-50'\n",
    "    elif feature < 61:\n",
    "        return '50-60'\n",
    "    else:\n",
    "        return '60+'\n",
    "    \n",
    "df['encoded_age'] = df['age'].apply(age_encode)\n",
    "    "
   ]
  },
  {
   "cell_type": "code",
   "execution_count": 1016,
   "id": "8cf0b50f",
   "metadata": {},
   "outputs": [
    {
     "data": {
      "text/plain": [
       "<Axes: xlabel='encoded_age', ylabel='Count'>"
      ]
     },
     "execution_count": 1016,
     "metadata": {},
     "output_type": "execute_result"
    },
    {
     "data": {
      "image/png": "[encoded data removed]",
      "text/plain": [
       "<Figure size 640x480 with 1 Axes>"
      ]
     },
     "metadata": {},
     "output_type": "display_data"
    }
   ],
   "source": [
    "sns.histplot(data = df, x='encoded_age', hue='deposit')"
   ]
  },
  {
   "cell_type": "markdown",
   "id": "0841c685",
   "metadata": {},
   "source": [
    "### Задания 9 и 10"
   ]
  },
  {
   "cell_type": "code",
   "execution_count": 1017,
   "id": "f27765fd",
   "metadata": {},
   "outputs": [
    {
     "data": {
      "text/plain": [
       "marital\n",
       "married     5715\n",
       "single      3213\n",
       "divorced    1177\n",
       "Name: count, dtype: int64"
      ]
     },
     "execution_count": 1017,
     "metadata": {},
     "output_type": "execute_result"
    }
   ],
   "source": [
    "df['marital'].value_counts()"
   ]
  },
  {
   "cell_type": "code",
   "execution_count": 1018,
   "id": "0d84a9e1",
   "metadata": {},
   "outputs": [
    {
     "data": {
      "text/plain": [
       "<Axes: xlabel='marital', ylabel='Count'>"
      ]
     },
     "execution_count": 1018,
     "metadata": {},
     "output_type": "execute_result"
    },
    {
     "data": {
      "image/png": "[encoded data removed]",
      "text/plain": [
       "<Figure size 640x480 with 1 Axes>"
      ]
     },
     "metadata": {},
     "output_type": "display_data"
    }
   ],
   "source": [
    "# постройте визуализации для открывших и неоткрывших депозит в зависимости от семейного статуса\n",
    "\n",
    "sns.histplot(data=df, x='marital', hue='deposit')"
   ]
  },
  {
   "cell_type": "code",
   "execution_count": 1019,
   "id": "16333967",
   "metadata": {},
   "outputs": [
    {
     "data": {
      "text/plain": [
       "<Axes: xlabel='education', ylabel='Count'>"
      ]
     },
     "execution_count": 1019,
     "metadata": {},
     "output_type": "execute_result"
    },
    {
     "data": {
      "image/png": "[encoded data removed]",
      "text/plain": [
       "<Figure size 640x480 with 1 Axes>"
      ]
     },
     "metadata": {},
     "output_type": "display_data"
    }
   ],
   "source": [
    "# постройте визуализации для открывших и неоткрывших депозит в зависимости от образования\n",
    "\n",
    "\n",
    "sns.histplot(data=df, x='education', hue='deposit')"
   ]
  },
  {
   "cell_type": "code",
   "execution_count": 1020,
   "id": "738224f8",
   "metadata": {},
   "outputs": [
    {
     "data": {
      "image/png": "[encoded data removed]",
      "text/plain": [
       "<Figure size 640x480 with 1 Axes>"
      ]
     },
     "metadata": {},
     "output_type": "display_data"
    }
   ],
   "source": [
    "# постройте визуализации для открывших и неоткрывших депозит в зависимости от вида профессиональной занятости\n",
    "\n",
    "\n",
    "job_plot = sns.histplot(data=df, x='job', hue='deposit')\n",
    "plt.xticks(rotation=90)\n",
    "plt.show()"
   ]
  },
  {
   "cell_type": "markdown",
   "id": "a521e204",
   "metadata": {},
   "source": [
    "### Задание 11"
   ]
  },
  {
   "cell_type": "code",
   "execution_count": 1021,
   "id": "35ab0413",
   "metadata": {},
   "outputs": [
    {
     "data": {
      "image/png": "[encoded data removed]",
      "text/plain": [
       "<Figure size 640x480 with 1 Axes>"
      ]
     },
     "metadata": {},
     "output_type": "display_data"
    }
   ],
   "source": [
    "# постройте сводную таблицу, чтобы определить люди с каким образованием и семейным статусом наиболее многочисленны\n",
    "#(если рассматривать тех, кто открыл депозит)\n",
    "\n",
    "positive_deposit = df[df['deposit'] == 'yes']\n",
    "negative_deposit = df[df['deposit'] == 'no']\n",
    "pos_plot = sns.histplot(data=df, x='education', y='marital')\n",
    "pos_plot.set(title='pos_plot')\n",
    "plt.xticks(rotation=90)\n",
    "plt.show()"
   ]
  },
  {
   "cell_type": "markdown",
   "id": "dfd805c0",
   "metadata": {},
   "source": [
    "## Часть 3: преобразование данных"
   ]
  },
  {
   "cell_type": "markdown",
   "id": "e44e715b",
   "metadata": {},
   "source": [
    "### Задание 1"
   ]
  },
  {
   "cell_type": "code",
   "execution_count": 1022,
   "id": "1e815773",
   "metadata": {},
   "outputs": [
    {
     "data": {
      "text/plain": [
       "np.int64(11995)"
      ]
     },
     "execution_count": 1022,
     "metadata": {},
     "output_type": "execute_result"
    }
   ],
   "source": [
    "# преобразуйте уровни образования\n",
    "\n",
    "education_label = LabelEncoder()\n",
    "df['education'] = education_label.fit_transform(df['education'])\n",
    "df['age_group'] = education_label.fit_transform(df['encoded_age'])\n",
    "df = df.drop(['encoded_age', 'age'], axis=1)\n",
    "df['education'].sum()"
   ]
  },
  {
   "cell_type": "markdown",
   "id": "8c93e73d",
   "metadata": {},
   "source": [
    "### Задания 2 и 3"
   ]
  },
  {
   "cell_type": "code",
   "execution_count": 1023,
   "id": "626a5762",
   "metadata": {},
   "outputs": [
    {
     "data": {
      "text/html": [
       "<div>\n",
       "<style scoped>\n",
       "    .dataframe tbody tr th:only-of-type {\n",
       "        vertical-align: middle;\n",
       "    }\n",
       "\n",
       "    .dataframe tbody tr th {\n",
       "        vertical-align: top;\n",
       "    }\n",
       "\n",
       "    .dataframe thead th {\n",
       "        text-align: right;\n",
       "    }\n",
       "</style>\n",
       "<table border=\"1\" class=\"dataframe\">\n",
       "  <thead>\n",
       "    <tr style=\"text-align: right;\">\n",
       "      <th></th>\n",
       "      <th>job</th>\n",
       "      <th>marital</th>\n",
       "      <th>education</th>\n",
       "      <th>default</th>\n",
       "      <th>balance</th>\n",
       "      <th>housing</th>\n",
       "      <th>loan</th>\n",
       "      <th>contact</th>\n",
       "      <th>day</th>\n",
       "      <th>month</th>\n",
       "      <th>duration</th>\n",
       "      <th>campaign</th>\n",
       "      <th>pdays</th>\n",
       "      <th>previous</th>\n",
       "      <th>poutcome</th>\n",
       "      <th>deposit</th>\n",
       "      <th>age_group</th>\n",
       "    </tr>\n",
       "  </thead>\n",
       "  <tbody>\n",
       "    <tr>\n",
       "      <th>0</th>\n",
       "      <td>admin.</td>\n",
       "      <td>married</td>\n",
       "      <td>1</td>\n",
       "      <td>0</td>\n",
       "      <td>2343.0</td>\n",
       "      <td>1</td>\n",
       "      <td>0</td>\n",
       "      <td>unknown</td>\n",
       "      <td>5</td>\n",
       "      <td>may</td>\n",
       "      <td>1042</td>\n",
       "      <td>1</td>\n",
       "      <td>-1</td>\n",
       "      <td>0</td>\n",
       "      <td>unknown</td>\n",
       "      <td>1</td>\n",
       "      <td>2</td>\n",
       "    </tr>\n",
       "    <tr>\n",
       "      <th>1</th>\n",
       "      <td>admin.</td>\n",
       "      <td>married</td>\n",
       "      <td>1</td>\n",
       "      <td>0</td>\n",
       "      <td>45.0</td>\n",
       "      <td>0</td>\n",
       "      <td>0</td>\n",
       "      <td>unknown</td>\n",
       "      <td>5</td>\n",
       "      <td>may</td>\n",
       "      <td>1467</td>\n",
       "      <td>1</td>\n",
       "      <td>-1</td>\n",
       "      <td>0</td>\n",
       "      <td>unknown</td>\n",
       "      <td>1</td>\n",
       "      <td>2</td>\n",
       "    </tr>\n",
       "    <tr>\n",
       "      <th>2</th>\n",
       "      <td>technician</td>\n",
       "      <td>married</td>\n",
       "      <td>1</td>\n",
       "      <td>0</td>\n",
       "      <td>1270.0</td>\n",
       "      <td>1</td>\n",
       "      <td>0</td>\n",
       "      <td>unknown</td>\n",
       "      <td>5</td>\n",
       "      <td>may</td>\n",
       "      <td>1389</td>\n",
       "      <td>1</td>\n",
       "      <td>-1</td>\n",
       "      <td>0</td>\n",
       "      <td>unknown</td>\n",
       "      <td>1</td>\n",
       "      <td>1</td>\n",
       "    </tr>\n",
       "    <tr>\n",
       "      <th>3</th>\n",
       "      <td>services</td>\n",
       "      <td>married</td>\n",
       "      <td>1</td>\n",
       "      <td>0</td>\n",
       "      <td>2476.0</td>\n",
       "      <td>1</td>\n",
       "      <td>0</td>\n",
       "      <td>unknown</td>\n",
       "      <td>5</td>\n",
       "      <td>may</td>\n",
       "      <td>579</td>\n",
       "      <td>1</td>\n",
       "      <td>-1</td>\n",
       "      <td>0</td>\n",
       "      <td>unknown</td>\n",
       "      <td>1</td>\n",
       "      <td>2</td>\n",
       "    </tr>\n",
       "    <tr>\n",
       "      <th>4</th>\n",
       "      <td>admin.</td>\n",
       "      <td>married</td>\n",
       "      <td>2</td>\n",
       "      <td>0</td>\n",
       "      <td>184.0</td>\n",
       "      <td>0</td>\n",
       "      <td>0</td>\n",
       "      <td>unknown</td>\n",
       "      <td>5</td>\n",
       "      <td>may</td>\n",
       "      <td>673</td>\n",
       "      <td>2</td>\n",
       "      <td>-1</td>\n",
       "      <td>0</td>\n",
       "      <td>unknown</td>\n",
       "      <td>1</td>\n",
       "      <td>2</td>\n",
       "    </tr>\n",
       "    <tr>\n",
       "      <th>...</th>\n",
       "      <td>...</td>\n",
       "      <td>...</td>\n",
       "      <td>...</td>\n",
       "      <td>...</td>\n",
       "      <td>...</td>\n",
       "      <td>...</td>\n",
       "      <td>...</td>\n",
       "      <td>...</td>\n",
       "      <td>...</td>\n",
       "      <td>...</td>\n",
       "      <td>...</td>\n",
       "      <td>...</td>\n",
       "      <td>...</td>\n",
       "      <td>...</td>\n",
       "      <td>...</td>\n",
       "      <td>...</td>\n",
       "      <td>...</td>\n",
       "    </tr>\n",
       "    <tr>\n",
       "      <th>11157</th>\n",
       "      <td>blue-collar</td>\n",
       "      <td>single</td>\n",
       "      <td>0</td>\n",
       "      <td>0</td>\n",
       "      <td>1.0</td>\n",
       "      <td>1</td>\n",
       "      <td>0</td>\n",
       "      <td>cellular</td>\n",
       "      <td>20</td>\n",
       "      <td>apr</td>\n",
       "      <td>257</td>\n",
       "      <td>1</td>\n",
       "      <td>-1</td>\n",
       "      <td>0</td>\n",
       "      <td>unknown</td>\n",
       "      <td>0</td>\n",
       "      <td>0</td>\n",
       "    </tr>\n",
       "    <tr>\n",
       "      <th>11158</th>\n",
       "      <td>services</td>\n",
       "      <td>married</td>\n",
       "      <td>1</td>\n",
       "      <td>0</td>\n",
       "      <td>733.0</td>\n",
       "      <td>0</td>\n",
       "      <td>0</td>\n",
       "      <td>unknown</td>\n",
       "      <td>16</td>\n",
       "      <td>jun</td>\n",
       "      <td>83</td>\n",
       "      <td>4</td>\n",
       "      <td>-1</td>\n",
       "      <td>0</td>\n",
       "      <td>unknown</td>\n",
       "      <td>0</td>\n",
       "      <td>0</td>\n",
       "    </tr>\n",
       "    <tr>\n",
       "      <th>11159</th>\n",
       "      <td>technician</td>\n",
       "      <td>single</td>\n",
       "      <td>1</td>\n",
       "      <td>0</td>\n",
       "      <td>29.0</td>\n",
       "      <td>0</td>\n",
       "      <td>0</td>\n",
       "      <td>cellular</td>\n",
       "      <td>19</td>\n",
       "      <td>aug</td>\n",
       "      <td>156</td>\n",
       "      <td>2</td>\n",
       "      <td>-1</td>\n",
       "      <td>0</td>\n",
       "      <td>unknown</td>\n",
       "      <td>0</td>\n",
       "      <td>0</td>\n",
       "    </tr>\n",
       "    <tr>\n",
       "      <th>11160</th>\n",
       "      <td>technician</td>\n",
       "      <td>married</td>\n",
       "      <td>1</td>\n",
       "      <td>0</td>\n",
       "      <td>0.0</td>\n",
       "      <td>0</td>\n",
       "      <td>1</td>\n",
       "      <td>cellular</td>\n",
       "      <td>8</td>\n",
       "      <td>may</td>\n",
       "      <td>9</td>\n",
       "      <td>2</td>\n",
       "      <td>172</td>\n",
       "      <td>5</td>\n",
       "      <td>failure</td>\n",
       "      <td>0</td>\n",
       "      <td>1</td>\n",
       "    </tr>\n",
       "    <tr>\n",
       "      <th>11161</th>\n",
       "      <td>technician</td>\n",
       "      <td>married</td>\n",
       "      <td>1</td>\n",
       "      <td>0</td>\n",
       "      <td>0.0</td>\n",
       "      <td>0</td>\n",
       "      <td>0</td>\n",
       "      <td>cellular</td>\n",
       "      <td>9</td>\n",
       "      <td>jul</td>\n",
       "      <td>628</td>\n",
       "      <td>1</td>\n",
       "      <td>-1</td>\n",
       "      <td>0</td>\n",
       "      <td>unknown</td>\n",
       "      <td>0</td>\n",
       "      <td>0</td>\n",
       "    </tr>\n",
       "  </tbody>\n",
       "</table>\n",
       "<p>10105 rows × 17 columns</p>\n",
       "</div>"
      ],
      "text/plain": [
       "               job  marital  education  default  balance  housing  loan  \\\n",
       "0           admin.  married          1        0   2343.0        1     0   \n",
       "1           admin.  married          1        0     45.0        0     0   \n",
       "2       technician  married          1        0   1270.0        1     0   \n",
       "3         services  married          1        0   2476.0        1     0   \n",
       "4           admin.  married          2        0    184.0        0     0   \n",
       "...            ...      ...        ...      ...      ...      ...   ...   \n",
       "11157  blue-collar   single          0        0      1.0        1     0   \n",
       "11158     services  married          1        0    733.0        0     0   \n",
       "11159   technician   single          1        0     29.0        0     0   \n",
       "11160   technician  married          1        0      0.0        0     1   \n",
       "11161   technician  married          1        0      0.0        0     0   \n",
       "\n",
       "        contact  day month  duration  campaign  pdays  previous poutcome  \\\n",
       "0       unknown    5   may      1042         1     -1         0  unknown   \n",
       "1       unknown    5   may      1467         1     -1         0  unknown   \n",
       "2       unknown    5   may      1389         1     -1         0  unknown   \n",
       "3       unknown    5   may       579         1     -1         0  unknown   \n",
       "4       unknown    5   may       673         2     -1         0  unknown   \n",
       "...         ...  ...   ...       ...       ...    ...       ...      ...   \n",
       "11157  cellular   20   apr       257         1     -1         0  unknown   \n",
       "11158   unknown   16   jun        83         4     -1         0  unknown   \n",
       "11159  cellular   19   aug       156         2     -1         0  unknown   \n",
       "11160  cellular    8   may         9         2    172         5  failure   \n",
       "11161  cellular    9   jul       628         1     -1         0  unknown   \n",
       "\n",
       "       deposit  age_group  \n",
       "0            1          2  \n",
       "1            1          2  \n",
       "2            1          1  \n",
       "3            1          2  \n",
       "4            1          2  \n",
       "...        ...        ...  \n",
       "11157        0          0  \n",
       "11158        0          0  \n",
       "11159        0          0  \n",
       "11160        0          1  \n",
       "11161        0          0  \n",
       "\n",
       "[10105 rows x 17 columns]"
      ]
     },
     "execution_count": 1023,
     "metadata": {},
     "output_type": "execute_result"
    }
   ],
   "source": [
    "# преобразуйте бинарные переменные в представление из нулей и единиц\n",
    "binary_cat = ['deposit', 'housing', 'loan', 'default']\n",
    "for cat in binary_cat:\n",
    "    df[cat] = df[cat].apply(lambda x: 1 if x=='yes' else 0)\n",
    "df"
   ]
  },
  {
   "cell_type": "code",
   "execution_count": 1024,
   "id": "907a5493",
   "metadata": {},
   "outputs": [
    {
     "data": {
      "text/plain": [
       "np.float64(0.6354280059376547)"
      ]
     },
     "execution_count": 1024,
     "metadata": {},
     "output_type": "execute_result"
    }
   ],
   "source": [
    "df['default'].mean() + df['housing'].mean() + df['loan'].mean()"
   ]
  },
  {
   "cell_type": "markdown",
   "id": "c40dc02a",
   "metadata": {},
   "source": [
    "### Задание 4"
   ]
  },
  {
   "cell_type": "code",
   "execution_count": 1025,
   "id": "b996883f",
   "metadata": {},
   "outputs": [
    {
     "data": {
      "text/html": [
       "<div>\n",
       "<style scoped>\n",
       "    .dataframe tbody tr th:only-of-type {\n",
       "        vertical-align: middle;\n",
       "    }\n",
       "\n",
       "    .dataframe tbody tr th {\n",
       "        vertical-align: top;\n",
       "    }\n",
       "\n",
       "    .dataframe thead th {\n",
       "        text-align: right;\n",
       "    }\n",
       "</style>\n",
       "<table border=\"1\" class=\"dataframe\">\n",
       "  <thead>\n",
       "    <tr style=\"text-align: right;\">\n",
       "      <th></th>\n",
       "      <th>job</th>\n",
       "      <th>marital</th>\n",
       "      <th>education</th>\n",
       "      <th>default</th>\n",
       "      <th>balance</th>\n",
       "      <th>housing</th>\n",
       "      <th>loan</th>\n",
       "      <th>contact</th>\n",
       "      <th>day</th>\n",
       "      <th>month</th>\n",
       "      <th>...</th>\n",
       "      <th>month_jun</th>\n",
       "      <th>month_mar</th>\n",
       "      <th>month_may</th>\n",
       "      <th>month_nov</th>\n",
       "      <th>month_oct</th>\n",
       "      <th>month_sep</th>\n",
       "      <th>poutcome_failure</th>\n",
       "      <th>poutcome_other</th>\n",
       "      <th>poutcome_success</th>\n",
       "      <th>poutcome_unknown</th>\n",
       "    </tr>\n",
       "  </thead>\n",
       "  <tbody>\n",
       "    <tr>\n",
       "      <th>0</th>\n",
       "      <td>admin.</td>\n",
       "      <td>married</td>\n",
       "      <td>1</td>\n",
       "      <td>0</td>\n",
       "      <td>2343.0</td>\n",
       "      <td>1</td>\n",
       "      <td>0</td>\n",
       "      <td>unknown</td>\n",
       "      <td>5</td>\n",
       "      <td>may</td>\n",
       "      <td>...</td>\n",
       "      <td>False</td>\n",
       "      <td>False</td>\n",
       "      <td>True</td>\n",
       "      <td>False</td>\n",
       "      <td>False</td>\n",
       "      <td>False</td>\n",
       "      <td>False</td>\n",
       "      <td>False</td>\n",
       "      <td>False</td>\n",
       "      <td>True</td>\n",
       "    </tr>\n",
       "    <tr>\n",
       "      <th>1</th>\n",
       "      <td>admin.</td>\n",
       "      <td>married</td>\n",
       "      <td>1</td>\n",
       "      <td>0</td>\n",
       "      <td>45.0</td>\n",
       "      <td>0</td>\n",
       "      <td>0</td>\n",
       "      <td>unknown</td>\n",
       "      <td>5</td>\n",
       "      <td>may</td>\n",
       "      <td>...</td>\n",
       "      <td>False</td>\n",
       "      <td>False</td>\n",
       "      <td>True</td>\n",
       "      <td>False</td>\n",
       "      <td>False</td>\n",
       "      <td>False</td>\n",
       "      <td>False</td>\n",
       "      <td>False</td>\n",
       "      <td>False</td>\n",
       "      <td>True</td>\n",
       "    </tr>\n",
       "    <tr>\n",
       "      <th>2</th>\n",
       "      <td>technician</td>\n",
       "      <td>married</td>\n",
       "      <td>1</td>\n",
       "      <td>0</td>\n",
       "      <td>1270.0</td>\n",
       "      <td>1</td>\n",
       "      <td>0</td>\n",
       "      <td>unknown</td>\n",
       "      <td>5</td>\n",
       "      <td>may</td>\n",
       "      <td>...</td>\n",
       "      <td>False</td>\n",
       "      <td>False</td>\n",
       "      <td>True</td>\n",
       "      <td>False</td>\n",
       "      <td>False</td>\n",
       "      <td>False</td>\n",
       "      <td>False</td>\n",
       "      <td>False</td>\n",
       "      <td>False</td>\n",
       "      <td>True</td>\n",
       "    </tr>\n",
       "    <tr>\n",
       "      <th>3</th>\n",
       "      <td>services</td>\n",
       "      <td>married</td>\n",
       "      <td>1</td>\n",
       "      <td>0</td>\n",
       "      <td>2476.0</td>\n",
       "      <td>1</td>\n",
       "      <td>0</td>\n",
       "      <td>unknown</td>\n",
       "      <td>5</td>\n",
       "      <td>may</td>\n",
       "      <td>...</td>\n",
       "      <td>False</td>\n",
       "      <td>False</td>\n",
       "      <td>True</td>\n",
       "      <td>False</td>\n",
       "      <td>False</td>\n",
       "      <td>False</td>\n",
       "      <td>False</td>\n",
       "      <td>False</td>\n",
       "      <td>False</td>\n",
       "      <td>True</td>\n",
       "    </tr>\n",
       "    <tr>\n",
       "      <th>4</th>\n",
       "      <td>admin.</td>\n",
       "      <td>married</td>\n",
       "      <td>2</td>\n",
       "      <td>0</td>\n",
       "      <td>184.0</td>\n",
       "      <td>0</td>\n",
       "      <td>0</td>\n",
       "      <td>unknown</td>\n",
       "      <td>5</td>\n",
       "      <td>may</td>\n",
       "      <td>...</td>\n",
       "      <td>False</td>\n",
       "      <td>False</td>\n",
       "      <td>True</td>\n",
       "      <td>False</td>\n",
       "      <td>False</td>\n",
       "      <td>False</td>\n",
       "      <td>False</td>\n",
       "      <td>False</td>\n",
       "      <td>False</td>\n",
       "      <td>True</td>\n",
       "    </tr>\n",
       "    <tr>\n",
       "      <th>...</th>\n",
       "      <td>...</td>\n",
       "      <td>...</td>\n",
       "      <td>...</td>\n",
       "      <td>...</td>\n",
       "      <td>...</td>\n",
       "      <td>...</td>\n",
       "      <td>...</td>\n",
       "      <td>...</td>\n",
       "      <td>...</td>\n",
       "      <td>...</td>\n",
       "      <td>...</td>\n",
       "      <td>...</td>\n",
       "      <td>...</td>\n",
       "      <td>...</td>\n",
       "      <td>...</td>\n",
       "      <td>...</td>\n",
       "      <td>...</td>\n",
       "      <td>...</td>\n",
       "      <td>...</td>\n",
       "      <td>...</td>\n",
       "      <td>...</td>\n",
       "    </tr>\n",
       "    <tr>\n",
       "      <th>11157</th>\n",
       "      <td>blue-collar</td>\n",
       "      <td>single</td>\n",
       "      <td>0</td>\n",
       "      <td>0</td>\n",
       "      <td>1.0</td>\n",
       "      <td>1</td>\n",
       "      <td>0</td>\n",
       "      <td>cellular</td>\n",
       "      <td>20</td>\n",
       "      <td>apr</td>\n",
       "      <td>...</td>\n",
       "      <td>False</td>\n",
       "      <td>False</td>\n",
       "      <td>False</td>\n",
       "      <td>False</td>\n",
       "      <td>False</td>\n",
       "      <td>False</td>\n",
       "      <td>False</td>\n",
       "      <td>False</td>\n",
       "      <td>False</td>\n",
       "      <td>True</td>\n",
       "    </tr>\n",
       "    <tr>\n",
       "      <th>11158</th>\n",
       "      <td>services</td>\n",
       "      <td>married</td>\n",
       "      <td>1</td>\n",
       "      <td>0</td>\n",
       "      <td>733.0</td>\n",
       "      <td>0</td>\n",
       "      <td>0</td>\n",
       "      <td>unknown</td>\n",
       "      <td>16</td>\n",
       "      <td>jun</td>\n",
       "      <td>...</td>\n",
       "      <td>True</td>\n",
       "      <td>False</td>\n",
       "      <td>False</td>\n",
       "      <td>False</td>\n",
       "      <td>False</td>\n",
       "      <td>False</td>\n",
       "      <td>False</td>\n",
       "      <td>False</td>\n",
       "      <td>False</td>\n",
       "      <td>True</td>\n",
       "    </tr>\n",
       "    <tr>\n",
       "      <th>11159</th>\n",
       "      <td>technician</td>\n",
       "      <td>single</td>\n",
       "      <td>1</td>\n",
       "      <td>0</td>\n",
       "      <td>29.0</td>\n",
       "      <td>0</td>\n",
       "      <td>0</td>\n",
       "      <td>cellular</td>\n",
       "      <td>19</td>\n",
       "      <td>aug</td>\n",
       "      <td>...</td>\n",
       "      <td>False</td>\n",
       "      <td>False</td>\n",
       "      <td>False</td>\n",
       "      <td>False</td>\n",
       "      <td>False</td>\n",
       "      <td>False</td>\n",
       "      <td>False</td>\n",
       "      <td>False</td>\n",
       "      <td>False</td>\n",
       "      <td>True</td>\n",
       "    </tr>\n",
       "    <tr>\n",
       "      <th>11160</th>\n",
       "      <td>technician</td>\n",
       "      <td>married</td>\n",
       "      <td>1</td>\n",
       "      <td>0</td>\n",
       "      <td>0.0</td>\n",
       "      <td>0</td>\n",
       "      <td>1</td>\n",
       "      <td>cellular</td>\n",
       "      <td>8</td>\n",
       "      <td>may</td>\n",
       "      <td>...</td>\n",
       "      <td>False</td>\n",
       "      <td>False</td>\n",
       "      <td>True</td>\n",
       "      <td>False</td>\n",
       "      <td>False</td>\n",
       "      <td>False</td>\n",
       "      <td>True</td>\n",
       "      <td>False</td>\n",
       "      <td>False</td>\n",
       "      <td>False</td>\n",
       "    </tr>\n",
       "    <tr>\n",
       "      <th>11161</th>\n",
       "      <td>technician</td>\n",
       "      <td>married</td>\n",
       "      <td>1</td>\n",
       "      <td>0</td>\n",
       "      <td>0.0</td>\n",
       "      <td>0</td>\n",
       "      <td>0</td>\n",
       "      <td>cellular</td>\n",
       "      <td>9</td>\n",
       "      <td>jul</td>\n",
       "      <td>...</td>\n",
       "      <td>False</td>\n",
       "      <td>False</td>\n",
       "      <td>False</td>\n",
       "      <td>False</td>\n",
       "      <td>False</td>\n",
       "      <td>False</td>\n",
       "      <td>False</td>\n",
       "      <td>False</td>\n",
       "      <td>False</td>\n",
       "      <td>True</td>\n",
       "    </tr>\n",
       "  </tbody>\n",
       "</table>\n",
       "<p>10105 rows × 50 columns</p>\n",
       "</div>"
      ],
      "text/plain": [
       "               job  marital  education  default  balance  housing  loan  \\\n",
       "0           admin.  married          1        0   2343.0        1     0   \n",
       "1           admin.  married          1        0     45.0        0     0   \n",
       "2       technician  married          1        0   1270.0        1     0   \n",
       "3         services  married          1        0   2476.0        1     0   \n",
       "4           admin.  married          2        0    184.0        0     0   \n",
       "...            ...      ...        ...      ...      ...      ...   ...   \n",
       "11157  blue-collar   single          0        0      1.0        1     0   \n",
       "11158     services  married          1        0    733.0        0     0   \n",
       "11159   technician   single          1        0     29.0        0     0   \n",
       "11160   technician  married          1        0      0.0        0     1   \n",
       "11161   technician  married          1        0      0.0        0     0   \n",
       "\n",
       "        contact  day month  ...  month_jun  month_mar  month_may  month_nov  \\\n",
       "0       unknown    5   may  ...      False      False       True      False   \n",
       "1       unknown    5   may  ...      False      False       True      False   \n",
       "2       unknown    5   may  ...      False      False       True      False   \n",
       "3       unknown    5   may  ...      False      False       True      False   \n",
       "4       unknown    5   may  ...      False      False       True      False   \n",
       "...         ...  ...   ...  ...        ...        ...        ...        ...   \n",
       "11157  cellular   20   apr  ...      False      False      False      False   \n",
       "11158   unknown   16   jun  ...       True      False      False      False   \n",
       "11159  cellular   19   aug  ...      False      False      False      False   \n",
       "11160  cellular    8   may  ...      False      False       True      False   \n",
       "11161  cellular    9   jul  ...      False      False      False      False   \n",
       "\n",
       "      month_oct  month_sep  poutcome_failure  poutcome_other  \\\n",
       "0         False      False             False           False   \n",
       "1         False      False             False           False   \n",
       "2         False      False             False           False   \n",
       "3         False      False             False           False   \n",
       "4         False      False             False           False   \n",
       "...         ...        ...               ...             ...   \n",
       "11157     False      False             False           False   \n",
       "11158     False      False             False           False   \n",
       "11159     False      False             False           False   \n",
       "11160     False      False              True           False   \n",
       "11161     False      False             False           False   \n",
       "\n",
       "       poutcome_success  poutcome_unknown  \n",
       "0                 False              True  \n",
       "1                 False              True  \n",
       "2                 False              True  \n",
       "3                 False              True  \n",
       "4                 False              True  \n",
       "...                 ...               ...  \n",
       "11157             False              True  \n",
       "11158             False              True  \n",
       "11159             False              True  \n",
       "11160             False             False  \n",
       "11161             False              True  \n",
       "\n",
       "[10105 rows x 50 columns]"
      ]
     },
     "execution_count": 1025,
     "metadata": {},
     "output_type": "execute_result"
    }
   ],
   "source": [
    "# создайте дамми-переменные\n",
    "dummies = pd.get_dummies(df[['job',\n",
    "        'marital',\n",
    "        'contact',\n",
    "        'month',\n",
    "        'poutcome']], drop_first=False)\n",
    "df = pd.concat([df, dummies], axis=1)\n",
    "df"
   ]
  },
  {
   "cell_type": "markdown",
   "id": "9a23e318",
   "metadata": {},
   "source": [
    "### Задания 5 и 6"
   ]
  },
  {
   "cell_type": "code",
   "execution_count": 1026,
   "id": "1c884c1a",
   "metadata": {},
   "outputs": [
    {
     "data": {
      "image/png": "[encoded data removed]",
      "text/plain": [
       "<Figure size 640x480 with 2 Axes>"
      ]
     },
     "metadata": {},
     "output_type": "display_data"
    },
    {
     "data": {
      "text/plain": [
       "education            0.098253\n",
       "default             -0.038872\n",
       "balance              0.135893\n",
       "housing             -0.200290\n",
       "loan                -0.107240\n",
       "day                 -0.056878\n",
       "duration             0.457818\n",
       "campaign            -0.130707\n",
       "pdays                0.147917\n",
       "previous             0.141102\n",
       "deposit              1.000000\n",
       "age_group            0.141776\n",
       "job_admin.          -0.001927\n",
       "job_blue-collar     -0.095845\n",
       "job_entrepreneur    -0.032706\n",
       "job_housemaid       -0.022572\n",
       "job_management       0.029566\n",
       "job_retired          0.100090\n",
       "job_self-employed   -0.005194\n",
       "job_services        -0.040433\n",
       "job_student          0.105563\n",
       "job_technician      -0.011190\n",
       "job_unemployed       0.039196\n",
       "marital_divorced     0.004808\n",
       "marital_married     -0.094246\n",
       "marital_single       0.097005\n",
       "contact_cellular     0.223944\n",
       "contact_telephone    0.007064\n",
       "contact_unknown     -0.249294\n",
       "month_apr            0.092888\n",
       "month_aug           -0.018225\n",
       "month_dec            0.085041\n",
       "month_feb            0.044728\n",
       "month_jan           -0.025847\n",
       "month_jul           -0.042779\n",
       "month_jun           -0.008533\n",
       "month_mar            0.135348\n",
       "month_may           -0.168203\n",
       "month_nov           -0.027754\n",
       "month_oct            0.130599\n",
       "month_sep            0.125239\n",
       "poutcome_failure     0.021124\n",
       "poutcome_other       0.039319\n",
       "poutcome_success     0.288491\n",
       "poutcome_unknown    -0.228300\n",
       "Name: deposit, dtype: float64"
      ]
     },
     "execution_count": 1026,
     "metadata": {},
     "output_type": "execute_result"
    }
   ],
   "source": [
    "# постройте корреляционную матрицу и оцените данные на предмет наличия мультиколлинеарности\n",
    "sns.heatmap(df.corr(numeric_only=True))\n",
    "plt.show()\n",
    "df.corr(numeric_only=True)['deposit']"
   ]
  },
  {
   "cell_type": "markdown",
   "id": "b5b4c1a5",
   "metadata": {},
   "source": [
    "### Задания 7 и 8"
   ]
  },
  {
   "cell_type": "code",
   "execution_count": 1027,
   "id": "79f3e432",
   "metadata": {},
   "outputs": [],
   "source": [
    "df = df.drop(['job',\n",
    "        'marital',\n",
    "        'contact',\n",
    "        'month',\n",
    "        'poutcome'], axis=1)\n",
    "X = df.drop(['deposit'], axis=1)\n",
    "y = df['deposit']\n",
    " \n",
    "X_train, X_test, y_train, y_test = train_test_split(X, y, stratify=y, random_state = 42, test_size = 0.33)"
   ]
  },
  {
   "cell_type": "code",
   "execution_count": 1028,
   "id": "365de7b0",
   "metadata": {},
   "outputs": [
    {
     "name": "stdout",
     "output_type": "stream",
     "text": [
      "<class 'pandas.core.frame.DataFrame'>\n",
      "Index: 10105 entries, 0 to 11161\n",
      "Data columns (total 45 columns):\n",
      " #   Column             Non-Null Count  Dtype  \n",
      "---  ------             --------------  -----  \n",
      " 0   education          10105 non-null  int64  \n",
      " 1   default            10105 non-null  int64  \n",
      " 2   balance            10105 non-null  float64\n",
      " 3   housing            10105 non-null  int64  \n",
      " 4   loan               10105 non-null  int64  \n",
      " 5   day                10105 non-null  int64  \n",
      " 6   duration           10105 non-null  int64  \n",
      " 7   campaign           10105 non-null  int64  \n",
      " 8   pdays              10105 non-null  int64  \n",
      " 9   previous           10105 non-null  int64  \n",
      " 10  deposit            10105 non-null  int64  \n",
      " 11  age_group          10105 non-null  int64  \n",
      " 12  job_admin.         10105 non-null  bool   \n",
      " 13  job_blue-collar    10105 non-null  bool   \n",
      " 14  job_entrepreneur   10105 non-null  bool   \n",
      " 15  job_housemaid      10105 non-null  bool   \n",
      " 16  job_management     10105 non-null  bool   \n",
      " 17  job_retired        10105 non-null  bool   \n",
      " 18  job_self-employed  10105 non-null  bool   \n",
      " 19  job_services       10105 non-null  bool   \n",
      " 20  job_student        10105 non-null  bool   \n",
      " 21  job_technician     10105 non-null  bool   \n",
      " 22  job_unemployed     10105 non-null  bool   \n",
      " 23  marital_divorced   10105 non-null  bool   \n",
      " 24  marital_married    10105 non-null  bool   \n",
      " 25  marital_single     10105 non-null  bool   \n",
      " 26  contact_cellular   10105 non-null  bool   \n",
      " 27  contact_telephone  10105 non-null  bool   \n",
      " 28  contact_unknown    10105 non-null  bool   \n",
      " 29  month_apr          10105 non-null  bool   \n",
      " 30  month_aug          10105 non-null  bool   \n",
      " 31  month_dec          10105 non-null  bool   \n",
      " 32  month_feb          10105 non-null  bool   \n",
      " 33  month_jan          10105 non-null  bool   \n",
      " 34  month_jul          10105 non-null  bool   \n",
      " 35  month_jun          10105 non-null  bool   \n",
      " 36  month_mar          10105 non-null  bool   \n",
      " 37  month_may          10105 non-null  bool   \n",
      " 38  month_nov          10105 non-null  bool   \n",
      " 39  month_oct          10105 non-null  bool   \n",
      " 40  month_sep          10105 non-null  bool   \n",
      " 41  poutcome_failure   10105 non-null  bool   \n",
      " 42  poutcome_other     10105 non-null  bool   \n",
      " 43  poutcome_success   10105 non-null  bool   \n",
      " 44  poutcome_unknown   10105 non-null  bool   \n",
      "dtypes: bool(33), float64(1), int64(11)\n",
      "memory usage: 1.3 MB\n"
     ]
    }
   ],
   "source": [
    "df.info()"
   ]
  },
  {
   "cell_type": "code",
   "execution_count": 1029,
   "id": "e3a097a4",
   "metadata": {},
   "outputs": [
    {
     "name": "stdout",
     "output_type": "stream",
     "text": [
      "3335\n",
      "0.46\n"
     ]
    }
   ],
   "source": [
    "# рассчитайте необходимые показатели\n",
    "print(X_test.shape[0])\n",
    "print(round(y_test.mean(), 2))"
   ]
  },
  {
   "cell_type": "markdown",
   "id": "2e381a4f",
   "metadata": {},
   "source": [
    "### Задание 9"
   ]
  },
  {
   "cell_type": "code",
   "execution_count": 1030,
   "id": "0f6e03e0",
   "metadata": {},
   "outputs": [
    {
     "name": "stdout",
     "output_type": "stream",
     "text": [
      "Важные признаки: ['balance', 'housing', 'duration', 'campaign', 'pdays', 'previous', 'age_group', 'contact_cellular', 'contact_unknown', 'month_mar', 'month_may', 'month_oct', 'month_sep', 'poutcome_success', 'poutcome_unknown']\n"
     ]
    }
   ],
   "source": [
    "# с помощью SelectKBest отберите 15 наиболее подходящих признаков\n",
    "# Выбор k лучших признаков (например, k=2)\n",
    "selector = SelectKBest(score_func=f_classif, k=15)\n",
    "X_selected = selector.fit_transform(X_train, y_train)\n",
    "# Маска выбранных признаков\n",
    "selected_mask = selector.get_support()\n",
    "\n",
    "# Названия выбранных признаков\n",
    "selected_features = X_train.columns[selected_mask].tolist()\n",
    "print(\"Важные признаки:\", selected_features)"
   ]
  },
  {
   "cell_type": "code",
   "execution_count": 1031,
   "id": "0af064e5",
   "metadata": {},
   "outputs": [
    {
     "data": {
      "text/plain": [
       "True"
      ]
     },
     "execution_count": 1031,
     "metadata": {},
     "output_type": "execute_result"
    }
   ],
   "source": [
    "selected_features == ['balance', 'housing', 'duration', 'campaign', 'pdays', \n",
    "'previous', 'age_group', 'contact_cellular', 'contact_unknown',\n",
    "'month_mar', 'month_may', 'month_oct', 'month_sep', 'poutcome_success', 'poutcome_unknown']"
   ]
  },
  {
   "cell_type": "markdown",
   "id": "60132ef3",
   "metadata": {},
   "source": [
    "### Задание 10"
   ]
  },
  {
   "cell_type": "code",
   "execution_count": 1032,
   "id": "e91b06f3",
   "metadata": {},
   "outputs": [
    {
     "data": {
      "text/plain": [
       "np.float64(0.47)"
      ]
     },
     "execution_count": 1032,
     "metadata": {},
     "output_type": "execute_result"
    }
   ],
   "source": [
    "X_train = X_train[selected_features]\n",
    "X_test = X_test[selected_features]\n",
    "# нормализуйте данные с помощью minmaxsxaler\n",
    "scaler = preprocessing.MinMaxScaler()\n",
    "scaler.fit(X_train)\n",
    "X_train_transformed = scaler.transform(X_train)\n",
    "X_test_transformed = scaler.transform(X_test)\n",
    "round((X_test_transformed[:, 0]).mean(), 2)"
   ]
  },
  {
   "cell_type": "markdown",
   "id": "0894c632",
   "metadata": {},
   "source": [
    "# Часть 4: Решение задачи классификации: логистическая регрессия и решающие деревья"
   ]
  },
  {
   "cell_type": "markdown",
   "id": "41b8ff06",
   "metadata": {},
   "source": [
    "### Задание 1"
   ]
  },
  {
   "cell_type": "code",
   "execution_count": 1033,
   "id": "8acc0166",
   "metadata": {},
   "outputs": [
    {
     "name": "stdout",
     "output_type": "stream",
     "text": [
      "              precision    recall  f1-score   support\n",
      "\n",
      "           0       0.81      0.88      0.84      3634\n",
      "           1       0.84      0.76      0.80      3136\n",
      "\n",
      "    accuracy                           0.83      6770\n",
      "   macro avg       0.83      0.82      0.82      6770\n",
      "weighted avg       0.83      0.83      0.82      6770\n",
      "\n",
      "              precision    recall  f1-score   support\n",
      "\n",
      "           0       0.79      0.87      0.83      1790\n",
      "           1       0.83      0.74      0.78      1545\n",
      "\n",
      "    accuracy                           0.81      3335\n",
      "   macro avg       0.81      0.80      0.80      3335\n",
      "weighted avg       0.81      0.81      0.81      3335\n",
      "\n"
     ]
    }
   ],
   "source": [
    "# обучите логистическую регрессию и рассчитайте метрики качества\n",
    "base_model = linear_model.LogisticRegression(random_state=42, solver='sag', max_iter=1000)\n",
    "base_model.fit(X_train_transformed, y_train)\n",
    "y_pred = base_model.predict(X_test_transformed)\n",
    "y_train_pred = base_model.predict(X_train_transformed)\n",
    "print(metrics.classification_report(y_train, y_train_pred))\n",
    "print(metrics.classification_report(y_test, y_pred))"
   ]
  },
  {
   "cell_type": "markdown",
   "id": "29b7e0ba",
   "metadata": {},
   "source": [
    "### Задания 2,3,4"
   ]
  },
  {
   "cell_type": "code",
   "execution_count": 1034,
   "id": "c91a588b",
   "metadata": {},
   "outputs": [
    {
     "name": "stdout",
     "output_type": "stream",
     "text": [
      "              precision    recall  f1-score   support\n",
      "\n",
      "           0       0.87      0.85      0.86      3634\n",
      "           1       0.83      0.85      0.84      3136\n",
      "\n",
      "    accuracy                           0.85      6770\n",
      "   macro avg       0.85      0.85      0.85      6770\n",
      "weighted avg       0.85      0.85      0.85      6770\n",
      "\n",
      "              precision    recall  f1-score   support\n",
      "\n",
      "           0       0.83      0.81      0.82      1790\n",
      "           1       0.79      0.80      0.79      1545\n",
      "\n",
      "    accuracy                           0.81      3335\n",
      "   macro avg       0.81      0.81      0.81      3335\n",
      "weighted avg       0.81      0.81      0.81      3335\n",
      "\n"
     ]
    }
   ],
   "source": [
    "# обучите решающие деревья, настройте максимальную глубину\n",
    "dt = tree.DecisionTreeClassifier(criterion='entropy', random_state=42, max_depth=9)\n",
    "dt.fit(X_train_transformed, y_train)\n",
    "y_pred = dt.predict(X_test_transformed)\n",
    "y_train_pred = dt.predict(X_train_transformed)\n",
    "print(metrics.classification_report(y_train, y_train_pred))\n",
    "print(metrics.classification_report(y_test, y_pred))"
   ]
  },
  {
   "cell_type": "code",
   "execution_count": 1035,
   "id": "01b8ef83",
   "metadata": {},
   "outputs": [
    {
     "name": "stderr",
     "output_type": "stream",
     "text": [
      "[I 2025-02-07 15:34:42,070] A new study created in memory with name: LogisticRegression\n",
      "[I 2025-02-07 15:34:46,430] Trial 0 finished with value: 0.6829150318437807 and parameters: {'max_depth': 2}. Best is trial 0 with value: 0.6829150318437807.\n",
      "[I 2025-02-07 15:34:47,330] Trial 1 finished with value: 0.7103464621176224 and parameters: {'max_depth': 6}. Best is trial 1 with value: 0.7103464621176224.\n",
      "[I 2025-02-07 15:34:48,174] Trial 2 finished with value: 0.743589528919496 and parameters: {'max_depth': 7}. Best is trial 2 with value: 0.743589528919496.\n",
      "[I 2025-02-07 15:34:48,245] Trial 3 finished with value: 0.7438014407145486 and parameters: {'max_depth': 5}. Best is trial 3 with value: 0.7438014407145486.\n",
      "[I 2025-02-07 15:34:48,324] Trial 4 finished with value: 0.7461059109694658 and parameters: {'max_depth': 9}. Best is trial 4 with value: 0.7461059109694658.\n",
      "[I 2025-02-07 15:34:48,391] Trial 5 finished with value: 0.7103464621176224 and parameters: {'max_depth': 6}. Best is trial 4 with value: 0.7461059109694658.\n",
      "[I 2025-02-07 15:34:48,455] Trial 6 finished with value: 0.743589528919496 and parameters: {'max_depth': 7}. Best is trial 4 with value: 0.7461059109694658.\n",
      "[I 2025-02-07 15:34:48,531] Trial 7 finished with value: 0.7368561867391608 and parameters: {'max_depth': 10}. Best is trial 4 with value: 0.7461059109694658.\n",
      "[I 2025-02-07 15:34:48,607] Trial 8 finished with value: 0.7368561867391608 and parameters: {'max_depth': 10}. Best is trial 4 with value: 0.7461059109694658.\n",
      "[I 2025-02-07 15:34:48,661] Trial 9 finished with value: 0.7122151525987965 and parameters: {'max_depth': 3}. Best is trial 4 with value: 0.7461059109694658.\n",
      "[I 2025-02-07 15:34:48,778] Trial 10 finished with value: 0.7461059109694658 and parameters: {'max_depth': 9}. Best is trial 4 with value: 0.7461059109694658.\n",
      "[I 2025-02-07 15:34:48,869] Trial 11 finished with value: 0.7461059109694658 and parameters: {'max_depth': 9}. Best is trial 4 with value: 0.7461059109694658.\n",
      "[I 2025-02-07 15:34:48,949] Trial 12 finished with value: 0.7398365745610926 and parameters: {'max_depth': 8}. Best is trial 4 with value: 0.7461059109694658.\n",
      "[I 2025-02-07 15:34:49,028] Trial 13 finished with value: 0.7461059109694658 and parameters: {'max_depth': 9}. Best is trial 4 with value: 0.7461059109694658.\n",
      "[I 2025-02-07 15:34:49,103] Trial 14 finished with value: 0.7398365745610926 and parameters: {'max_depth': 8}. Best is trial 4 with value: 0.7461059109694658.\n",
      "[I 2025-02-07 15:34:49,172] Trial 15 finished with value: 0.7218522336619823 and parameters: {'max_depth': 4}. Best is trial 4 with value: 0.7461059109694658.\n",
      "[I 2025-02-07 15:34:49,253] Trial 16 finished with value: 0.7461059109694658 and parameters: {'max_depth': 9}. Best is trial 4 with value: 0.7461059109694658.\n",
      "[I 2025-02-07 15:34:49,334] Trial 17 finished with value: 0.7398365745610926 and parameters: {'max_depth': 8}. Best is trial 4 with value: 0.7461059109694658.\n",
      "[I 2025-02-07 15:34:49,414] Trial 18 finished with value: 0.7368561867391608 and parameters: {'max_depth': 10}. Best is trial 4 with value: 0.7461059109694658.\n",
      "[I 2025-02-07 15:34:49,493] Trial 19 finished with value: 0.743589528919496 and parameters: {'max_depth': 7}. Best is trial 4 with value: 0.7461059109694658.\n"
     ]
    },
    {
     "name": "stdout",
     "output_type": "stream",
     "text": [
      "Наилучшие значения гиперпараметров {'max_depth': 9}\n"
     ]
    }
   ],
   "source": [
    "def optuna_dt(trial):\n",
    "  # задаем пространства поиска гиперпараметров\n",
    "  max_depth = trial.suggest_int('max_depth', 2, 10, step=1)\n",
    "  \n",
    "\n",
    "  # создаем модель\n",
    "  model = tree.DecisionTreeClassifier(random_state=42, max_depth=max_depth)\n",
    "\n",
    "   # применим  cross validation с тем же количеством фолдов\n",
    "  score = model_selection.cross_val_score(model, X, y, cv=5, scoring=\"f1\", n_jobs=-1).mean()\n",
    "\n",
    "  return score\n",
    "\n",
    "study = optuna.create_study(study_name=\"LogisticRegression\", direction=\"maximize\")\n",
    "# ищем лучшую комбинацию гиперпараметров n_trials раз\n",
    "study.optimize(optuna_dt, n_trials=20)\n",
    "\n",
    "print(\"Наилучшие значения гиперпараметров {}\".format(study.best_params))"
   ]
  },
  {
   "cell_type": "markdown",
   "id": "fe823c18",
   "metadata": {},
   "source": [
    "### Задание 5"
   ]
  },
  {
   "cell_type": "code",
   "execution_count": 1043,
   "id": "63574943",
   "metadata": {},
   "outputs": [
    {
     "name": "stdout",
     "output_type": "stream",
     "text": [
      "f-1 = 0.8010236724248241\n"
     ]
    }
   ],
   "source": [
    "# подберите оптимальные параметры с помощью gridsearch\n",
    "grid = {'min_samples_split': [2, 5, 7, 10],\n",
    "        'max_depth':[3,5,7]\n",
    "}\n",
    "\n",
    "grid_search = model_selection.GridSearchCV(estimator=tree.DecisionTreeClassifier(random_state=42), param_grid=grid, n_jobs=-1)\n",
    "\n",
    "grid_search.fit(X_train_transformed, y_train)\n",
    "\n",
    "y_pred = grid_search.predict(X_test_transformed)\n",
    "\n",
    "print(f'f-1 = {metrics.f1_score(y_test, y_pred)}')"
   ]
  },
  {
   "cell_type": "markdown",
   "id": "ed0fc831",
   "metadata": {},
   "source": [
    "# Часть 5: Решение задачи классификации: ансамбли моделей и построение прогноза"
   ]
  },
  {
   "cell_type": "markdown",
   "id": "f9e36ff2",
   "metadata": {},
   "source": [
    "### Задание 1"
   ]
  },
  {
   "cell_type": "code",
   "execution_count": 1046,
   "id": "e708e3fe",
   "metadata": {},
   "outputs": [
    {
     "name": "stdout",
     "output_type": "stream",
     "text": [
      "              precision    recall  f1-score   support\n",
      "\n",
      "           0       0.85      0.82      0.84      1790\n",
      "           1       0.80      0.83      0.82      1545\n",
      "\n",
      "    accuracy                           0.83      3335\n",
      "   macro avg       0.83      0.83      0.83      3335\n",
      "weighted avg       0.83      0.83      0.83      3335\n",
      "\n"
     ]
    }
   ],
   "source": [
    "# обучите на ваших данных случайный лес\n",
    "\n",
    "rf = ensemble.RandomForestClassifier(n_estimators=100, criterion='gini', min_samples_leaf=5, max_depth=10, random_state=42)\n",
    "rf.fit(X_train_transformed, y_train)\n",
    "y_pred = rf.predict(X_test_transformed)\n",
    "print(metrics.classification_report(y_test, y_pred))"
   ]
  },
  {
   "cell_type": "markdown",
   "id": "71d7b13d",
   "metadata": {},
   "source": [
    "### Задания 2 и 3"
   ]
  },
  {
   "cell_type": "code",
   "execution_count": 1047,
   "id": "99f12dfe",
   "metadata": {},
   "outputs": [
    {
     "name": "stdout",
     "output_type": "stream",
     "text": [
      "              precision    recall  f1-score   support\n",
      "\n",
      "           0       0.85      0.82      0.83      1790\n",
      "           1       0.80      0.83      0.81      1545\n",
      "\n",
      "    accuracy                           0.82      3335\n",
      "   macro avg       0.82      0.82      0.82      3335\n",
      "weighted avg       0.83      0.82      0.82      3335\n",
      "\n"
     ]
    }
   ],
   "source": [
    "# используйте для классификации градиентный бустинг и сравните качество со случайным лесом\n",
    "rfb = ensemble.GradientBoostingClassifier(learning_rate=0.05, n_estimators=300, min_samples_leaf=5, max_depth=5, random_state=42)\n",
    "rfb.fit(X_train_transformed, y_train)\n",
    "y_pred = rfb.predict(X_test_transformed)\n",
    "print(metrics.classification_report(y_test, y_pred))"
   ]
  },
  {
   "cell_type": "markdown",
   "id": "b08718ae",
   "metadata": {},
   "source": [
    "### Задание 4"
   ]
  },
  {
   "cell_type": "code",
   "execution_count": 1048,
   "id": "0bd42fb0",
   "metadata": {},
   "outputs": [],
   "source": [
    "# объедините уже известные вам алгоритмы с помощью стекинга \n",
    "\n",
    "stack = ensemble.StackingClassifier(estimators=[('dt', dt), ('lr', base_model), ('rfb', rfb)], final_estimator=linear_model.LogisticRegression(random_state=42))\n",
    "stack.fit(X_train_transformed, y_train)\n",
    "y_pred = stack.predict(X_test_transformed)\n"
   ]
  },
  {
   "cell_type": "code",
   "execution_count": 1049,
   "id": "7dc67d56",
   "metadata": {},
   "outputs": [
    {
     "name": "stdout",
     "output_type": "stream",
     "text": [
      "              precision    recall  f1-score   support\n",
      "\n",
      "           0       0.84      0.83      0.83      1790\n",
      "           1       0.81      0.81      0.81      1545\n",
      "\n",
      "    accuracy                           0.82      3335\n",
      "   macro avg       0.82      0.82      0.82      3335\n",
      "weighted avg       0.82      0.82      0.82      3335\n",
      "\n"
     ]
    }
   ],
   "source": [
    "print(metrics.classification_report(y_test, y_pred))"
   ]
  },
  {
   "cell_type": "markdown",
   "id": "6247a5fb",
   "metadata": {},
   "source": [
    "### Задание 5"
   ]
  },
  {
   "cell_type": "code",
   "execution_count": 1060,
   "id": "35de769c",
   "metadata": {},
   "outputs": [],
   "source": [
    "# оцените, какие признаки демонстрируют наибольшую  важность в модели градиентного бустинга\n",
    "features = pd.DataFrame(selected_features, columns=['features'])\n",
    "data = pd.concat([features, pd.DataFrame(rfb.feature_importances_, columns=['importance'])], axis=1)"
   ]
  },
  {
   "cell_type": "code",
   "execution_count": 1062,
   "id": "57d1085c",
   "metadata": {},
   "outputs": [
    {
     "data": {
      "text/html": [
       "<div>\n",
       "<style scoped>\n",
       "    .dataframe tbody tr th:only-of-type {\n",
       "        vertical-align: middle;\n",
       "    }\n",
       "\n",
       "    .dataframe tbody tr th {\n",
       "        vertical-align: top;\n",
       "    }\n",
       "\n",
       "    .dataframe thead th {\n",
       "        text-align: right;\n",
       "    }\n",
       "</style>\n",
       "<table border=\"1\" class=\"dataframe\">\n",
       "  <thead>\n",
       "    <tr style=\"text-align: right;\">\n",
       "      <th></th>\n",
       "      <th>features</th>\n",
       "      <th>importance</th>\n",
       "    </tr>\n",
       "  </thead>\n",
       "  <tbody>\n",
       "    <tr>\n",
       "      <th>14</th>\n",
       "      <td>poutcome_unknown</td>\n",
       "      <td>0.001403</td>\n",
       "    </tr>\n",
       "    <tr>\n",
       "      <th>7</th>\n",
       "      <td>contact_cellular</td>\n",
       "      <td>0.004497</td>\n",
       "    </tr>\n",
       "    <tr>\n",
       "      <th>5</th>\n",
       "      <td>previous</td>\n",
       "      <td>0.008046</td>\n",
       "    </tr>\n",
       "    <tr>\n",
       "      <th>12</th>\n",
       "      <td>month_sep</td>\n",
       "      <td>0.013232</td>\n",
       "    </tr>\n",
       "    <tr>\n",
       "      <th>10</th>\n",
       "      <td>month_may</td>\n",
       "      <td>0.014919</td>\n",
       "    </tr>\n",
       "    <tr>\n",
       "      <th>3</th>\n",
       "      <td>campaign</td>\n",
       "      <td>0.015044</td>\n",
       "    </tr>\n",
       "    <tr>\n",
       "      <th>11</th>\n",
       "      <td>month_oct</td>\n",
       "      <td>0.019705</td>\n",
       "    </tr>\n",
       "    <tr>\n",
       "      <th>9</th>\n",
       "      <td>month_mar</td>\n",
       "      <td>0.027155</td>\n",
       "    </tr>\n",
       "    <tr>\n",
       "      <th>6</th>\n",
       "      <td>age_group</td>\n",
       "      <td>0.042998</td>\n",
       "    </tr>\n",
       "    <tr>\n",
       "      <th>1</th>\n",
       "      <td>housing</td>\n",
       "      <td>0.047964</td>\n",
       "    </tr>\n",
       "    <tr>\n",
       "      <th>4</th>\n",
       "      <td>pdays</td>\n",
       "      <td>0.056593</td>\n",
       "    </tr>\n",
       "    <tr>\n",
       "      <th>0</th>\n",
       "      <td>balance</td>\n",
       "      <td>0.057166</td>\n",
       "    </tr>\n",
       "    <tr>\n",
       "      <th>8</th>\n",
       "      <td>contact_unknown</td>\n",
       "      <td>0.072961</td>\n",
       "    </tr>\n",
       "    <tr>\n",
       "      <th>13</th>\n",
       "      <td>poutcome_success</td>\n",
       "      <td>0.114152</td>\n",
       "    </tr>\n",
       "    <tr>\n",
       "      <th>2</th>\n",
       "      <td>duration</td>\n",
       "      <td>0.504165</td>\n",
       "    </tr>\n",
       "  </tbody>\n",
       "</table>\n",
       "</div>"
      ],
      "text/plain": [
       "            features  importance\n",
       "14  poutcome_unknown    0.001403\n",
       "7   contact_cellular    0.004497\n",
       "5           previous    0.008046\n",
       "12         month_sep    0.013232\n",
       "10         month_may    0.014919\n",
       "3           campaign    0.015044\n",
       "11         month_oct    0.019705\n",
       "9          month_mar    0.027155\n",
       "6          age_group    0.042998\n",
       "1            housing    0.047964\n",
       "4              pdays    0.056593\n",
       "0            balance    0.057166\n",
       "8    contact_unknown    0.072961\n",
       "13  poutcome_success    0.114152\n",
       "2           duration    0.504165"
      ]
     },
     "execution_count": 1062,
     "metadata": {},
     "output_type": "execute_result"
    }
   ],
   "source": [
    "data.sort_values(by='importance')"
   ]
  },
  {
   "cell_type": "markdown",
   "id": "96974dda",
   "metadata": {},
   "source": [
    "### Задания 6,7,8"
   ]
  },
  {
   "cell_type": "code",
   "execution_count": 1064,
   "id": "c48e29e9",
   "metadata": {},
   "outputs": [
    {
     "name": "stderr",
     "output_type": "stream",
     "text": [
      "[I 2025-02-08 00:32:20,829] A new study created in memory with name: gradient boost\n"
     ]
    },
    {
     "name": "stderr",
     "output_type": "stream",
     "text": [
      "[I 2025-02-08 00:33:13,063] Trial 0 finished with value: 0.774837413176637 and parameters: {'n_estimators': 186, 'max_depth': 25, 'min_samples_leaf': 2}. Best is trial 0 with value: 0.774837413176637.\n",
      "[I 2025-02-08 00:33:35,294] Trial 1 finished with value: 0.7853693376237221 and parameters: {'n_estimators': 166, 'max_depth': 14, 'min_samples_leaf': 2}. Best is trial 1 with value: 0.7853693376237221.\n",
      "[I 2025-02-08 00:33:45,789] Trial 2 finished with value: 0.7928581009795047 and parameters: {'n_estimators': 119, 'max_depth': 13, 'min_samples_leaf': 9}. Best is trial 2 with value: 0.7928581009795047.\n",
      "[I 2025-02-08 00:34:20,955] Trial 3 finished with value: 0.7905391968170654 and parameters: {'n_estimators': 199, 'max_depth': 29, 'min_samples_leaf': 9}. Best is trial 2 with value: 0.7928581009795047.\n",
      "[I 2025-02-08 00:34:40,795] Trial 4 finished with value: 0.7803882788693917 and parameters: {'n_estimators': 113, 'max_depth': 29, 'min_samples_leaf': 6}. Best is trial 2 with value: 0.7928581009795047.\n",
      "[I 2025-02-08 00:34:51,903] Trial 5 finished with value: 0.7925414659819234 and parameters: {'n_estimators': 120, 'max_depth': 13, 'min_samples_leaf': 8}. Best is trial 2 with value: 0.7928581009795047.\n",
      "[I 2025-02-08 00:35:17,785] Trial 6 finished with value: 0.7755686629664756 and parameters: {'n_estimators': 134, 'max_depth': 18, 'min_samples_leaf': 2}. Best is trial 2 with value: 0.7928581009795047.\n",
      "[I 2025-02-08 00:35:37,474] Trial 7 finished with value: 0.7873166388790207 and parameters: {'n_estimators': 153, 'max_depth': 16, 'min_samples_leaf': 4}. Best is trial 2 with value: 0.7928581009795047.\n",
      "[I 2025-02-08 00:35:49,771] Trial 8 finished with value: 0.7928155337451356 and parameters: {'n_estimators': 136, 'max_depth': 13, 'min_samples_leaf': 8}. Best is trial 2 with value: 0.7928581009795047.\n",
      "[I 2025-02-08 00:36:03,344] Trial 9 finished with value: 0.7831735098747081 and parameters: {'n_estimators': 151, 'max_depth': 11, 'min_samples_leaf': 2}. Best is trial 2 with value: 0.7928581009795047.\n",
      "[I 2025-02-08 00:36:16,223] Trial 10 finished with value: 0.7897394522141861 and parameters: {'n_estimators': 108, 'max_depth': 22, 'min_samples_leaf': 10}. Best is trial 2 with value: 0.7928581009795047.\n",
      "[I 2025-02-08 00:36:25,562] Trial 11 finished with value: 0.793096638074041 and parameters: {'n_estimators': 132, 'max_depth': 10, 'min_samples_leaf': 7}. Best is trial 11 with value: 0.793096638074041.\n",
      "[I 2025-02-08 00:36:35,268] Trial 12 finished with value: 0.792436455873084 and parameters: {'n_estimators': 132, 'max_depth': 10, 'min_samples_leaf': 6}. Best is trial 11 with value: 0.793096638074041.\n",
      "[I 2025-02-08 00:36:48,092] Trial 13 finished with value: 0.7864715221797909 and parameters: {'n_estimators': 100, 'max_depth': 20, 'min_samples_leaf': 7}. Best is trial 11 with value: 0.793096638074041.\n",
      "[I 2025-02-08 00:36:56,546] Trial 14 finished with value: 0.7910924778068149 and parameters: {'n_estimators': 124, 'max_depth': 10, 'min_samples_leaf': 10}. Best is trial 11 with value: 0.793096638074041.\n",
      "[I 2025-02-08 00:37:14,906] Trial 15 finished with value: 0.7854940893034156 and parameters: {'n_estimators': 142, 'max_depth': 16, 'min_samples_leaf': 4}. Best is trial 11 with value: 0.793096638074041.\n",
      "[I 2025-02-08 00:37:30,922] Trial 16 finished with value: 0.7926565527653762 and parameters: {'n_estimators': 160, 'max_depth': 14, 'min_samples_leaf': 8}. Best is trial 11 with value: 0.793096638074041.\n",
      "[I 2025-02-08 00:37:49,879] Trial 17 finished with value: 0.7826748578506549 and parameters: {'n_estimators': 119, 'max_depth': 23, 'min_samples_leaf': 5}. Best is trial 11 with value: 0.793096638074041.\n",
      "[I 2025-02-08 00:38:09,635] Trial 18 finished with value: 0.7908906137959721 and parameters: {'n_estimators': 174, 'max_depth': 17, 'min_samples_leaf': 9}. Best is trial 11 with value: 0.793096638074041.\n",
      "[I 2025-02-08 00:38:22,170] Trial 19 finished with value: 0.7928055162265087 and parameters: {'n_estimators': 142, 'max_depth': 12, 'min_samples_leaf': 7}. Best is trial 11 with value: 0.793096638074041.\n"
     ]
    },
    {
     "name": "stdout",
     "output_type": "stream",
     "text": [
      "Наилучшие значения гиперпараметров {'n_estimators': 132, 'max_depth': 10, 'min_samples_leaf': 7}\n"
     ]
    }
   ],
   "source": [
    "# реализуйте оптимизацию гиперпараметров с помощью Optuna\n",
    "\n",
    "def optuna_boost(trial):\n",
    "  # задаем пространства поиска гиперпараметров\n",
    "    \n",
    "    n_estimators = trial.suggest_int('n_estimators', 100, 200, 1)\n",
    "    max_depth = trial.suggest_int('max_depth', 10, 30, 1)\n",
    "    min_samples_leaf = trial.suggest_int('min_samples_leaf', 2, 10, 1)\n",
    "\n",
    "  \n",
    "\n",
    "  # создаем модель\n",
    "    model = ensemble.GradientBoostingClassifier(learning_rate=0.05, n_estimators=n_estimators, min_samples_leaf=min_samples_leaf, max_depth=max_depth, random_state=42)\n",
    "\n",
    "   # применим  cross validation с тем же количеством фолдов\n",
    "    score = model_selection.cross_val_score(model, X, y, cv=5, scoring=\"f1\", n_jobs=-1).mean()\n",
    "\n",
    "    return score\n",
    "\n",
    "study = optuna.create_study(study_name=\"gradient boost\", direction=\"maximize\")\n",
    "# ищем лучшую комбинацию гиперпараметров n_trials раз\n",
    "study.optimize(optuna_boost, n_trials=20)\n",
    "\n",
    "print(\"Наилучшие значения гиперпараметров {}\".format(study.best_params))"
   ]
  },
  {
   "cell_type": "code",
   "execution_count": 1068,
   "id": "c6b77849",
   "metadata": {},
   "outputs": [
    {
     "data": {
      "text/plain": [
       "{'n_estimators': 132, 'max_depth': 10, 'min_samples_leaf': 7}"
      ]
     },
     "execution_count": 1068,
     "metadata": {},
     "output_type": "execute_result"
    }
   ],
   "source": []
  },
  {
   "cell_type": "code",
   "execution_count": 1070,
   "id": "9df60a30",
   "metadata": {},
   "outputs": [
    {
     "name": "stdout",
     "output_type": "stream",
     "text": [
      "              precision    recall  f1-score   support\n",
      "\n",
      "           0       0.85      0.82      0.83      1790\n",
      "           1       0.79      0.83      0.81      1545\n",
      "\n",
      "    accuracy                           0.82      3335\n",
      "   macro avg       0.82      0.82      0.82      3335\n",
      "weighted avg       0.82      0.82      0.82      3335\n",
      "\n"
     ]
    }
   ],
   "source": [
    "model = ensemble.GradientBoostingClassifier(**study.best_params, learning_rate=0.05, random_state=42)\n",
    "model.fit(X_train_transformed, y_train)\n",
    "y_pred = model.predict(X_test_transformed)\n",
    "print(metrics.classification_report(y_test, y_pred))"
   ]
  },
  {
   "cell_type": "code",
   "execution_count": 1071,
   "id": "52ec7c59",
   "metadata": {},
   "outputs": [
    {
     "name": "stdout",
     "output_type": "stream",
     "text": [
      "              precision    recall  f1-score   support\n",
      "\n",
      "           0       0.85      0.82      0.83      1790\n",
      "           1       0.79      0.83      0.81      1545\n",
      "\n",
      "    accuracy                           0.82      3335\n",
      "   macro avg       0.82      0.82      0.82      3335\n",
      "weighted avg       0.82      0.82      0.82      3335\n",
      "\n"
     ]
    }
   ],
   "source": [
    "model = ensemble.GradientBoostingClassifier(n_estimators = 132, max_depth = 10, min_samples_leaf = 7, learning_rate=0.05, random_state=42)\n",
    "model.fit(X_train_transformed, y_train)\n",
    "y_pred = model.predict(X_test_transformed)\n",
    "print(metrics.classification_report(y_test, y_pred))"
   ]
  }
 ],
 "metadata": {
  "kernelspec": {
   "display_name": "Python 3 (ipykernel)",
   "language": "python",
   "name": "python3"
  },
  "language_info": {
   "codemirror_mode": {
    "name": "ipython",
    "version": 3
   },
   "file_extension": ".py",
   "mimetype": "text/x-python",
   "name": "python",
   "nbconvert_exporter": "python",
   "pygments_lexer": "ipython3",
   "version": "3.12.4"
  }
 },
 "nbformat": 4,
 "nbformat_minor": 5
}
