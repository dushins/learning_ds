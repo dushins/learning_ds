{
 "cells": [
  {
   "cell_type": "markdown",
   "id": "c353de9a",
   "metadata": {},
   "source": [
    "# Проект: классификация"
   ]
  },
  {
   "cell_type": "code",
   "execution_count": 1,
   "id": "4a6e54dc",
   "metadata": {},
   "outputs": [],
   "source": [
    "import pandas as pd\n",
    "import numpy as np\n",
    "import matplotlib.pyplot as plt\n",
    "import seaborn as sns\n",
    "from  sklearn.ensemble import IsolationForest\n",
    "import warnings\n",
    "warnings.filterwarnings('ignore')\n",
    "from sklearn.preprocessing  import LabelEncoder\n",
    "from sklearn import linear_model \n",
    "from sklearn import tree \n",
    "from sklearn import ensemble \n",
    "from sklearn import metrics \n",
    "from sklearn import preprocessing \n",
    "from sklearn import model_selection\n",
    "from sklearn.model_selection import train_test_split \n",
    "from sklearn.feature_selection import SelectKBest, f_classif\n",
    "import optuna\n"
   ]
  },
  {
   "cell_type": "markdown",
   "id": "71559b60",
   "metadata": {},
   "source": [
    "## 1. Предварительная обработка данных\n",
    "В этом разделе мы выполним:\n",
    "- Анализ и обработку пропущенных значений\n",
    "- Очистку данных от выбросов\n",
    "- Подготовку данных для дальнейшего анализа"
   ]
  },
  {
   "cell_type": "markdown",
   "id": "7c5e31b2",
   "metadata": {},
   "source": []
  },
  {
   "cell_type": "code",
   "execution_count": 2,
   "id": "20730cd7",
   "metadata": {},
   "outputs": [],
   "source": [
    "df = pd.read_csv('data/bank_fin.csv', sep = ';')"
   ]
  },
  {
   "cell_type": "raw",
   "metadata": {
    "vscode": {
     "languageId": "raw"
    }
   },
   "source": [
    "### Анализ пропущенных значений\n",
    "В данных обнаружено 25 пропущенных значений в столбце 'balance'. Остальные столбцы не содержат пропусков.\n"
   ]
  },
  {
   "cell_type": "code",
   "execution_count": 3,
   "id": "ba11dc67",
   "metadata": {},
   "outputs": [
    {
     "name": "stdout",
     "output_type": "stream",
     "text": [
      "age           0\n",
      "job           0\n",
      "marital       0\n",
      "education     0\n",
      "default       0\n",
      "balance      25\n",
      "housing       0\n",
      "loan          0\n",
      "contact       0\n",
      "day           0\n",
      "month         0\n",
      "duration      0\n",
      "campaign      0\n",
      "pdays         0\n",
      "previous      0\n",
      "poutcome      0\n",
      "deposit       0\n",
      "dtype: int64\n"
     ]
    }
   ],
   "source": [
    "# исследуйте данные на предмет пропусков. Где есть пропущенные значения? Сколько их?\n",
    "# ваш код\n",
    "\n",
    "dd = df.isna().sum()\n",
    "print(dd)"
   ]
  },
  {
   "cell_type": "raw",
   "metadata": {
    "vscode": {
     "languageId": "raw"
    }
   },
   "source": [
    "### Анализ категориальных признаков\n",
    "В признаке 'job' обнаружено 70 значений, помеченных как 'unknown'. Эти значения требуют обработки.\n"
   ]
  },
  {
   "cell_type": "markdown",
   "id": "6366f059",
   "metadata": {},
   "source": [
    "### Анализ пропущенных значений в категориальных признаках"
   ]
  },
  {
   "cell_type": "code",
   "execution_count": 4,
   "id": "98ea29d4",
   "metadata": {},
   "outputs": [
    {
     "name": "stdout",
     "output_type": "stream",
     "text": [
      "job\n",
      "management       2566\n",
      "blue-collar      1944\n",
      "technician       1823\n",
      "admin.           1334\n",
      "services          923\n",
      "retired           778\n",
      "self-employed     405\n",
      "student           360\n",
      "unemployed        357\n",
      "entrepreneur      328\n",
      "housemaid         274\n",
      "unknown            70\n",
      "Name: count, dtype: int64\n"
     ]
    }
   ],
   "source": [
    "# есть ли в признаке job пропущенные значения? Возможно, они обозначены каким-то специальным словом?\n",
    "# ваш код\n",
    "\n",
    "print(df['job'].value_counts())"
   ]
  },
  {
   "cell_type": "markdown",
   "id": "8fcf4fcd",
   "metadata": {},
   "source": [
    "### Преобразование числовых данных"
   ]
  },
  {
   "cell_type": "code",
   "execution_count": null,
   "id": "48ceb49b",
   "metadata": {},
   "outputs": [],
   "source": []
  },
  {
   "cell_type": "code",
   "execution_count": 5,
   "id": "3a01be5e",
   "metadata": {},
   "outputs": [],
   "source": [
    "# преобразуйте признак balance таким образом, чтобы он корректно считывался, как вещественное число (float)\n",
    "df['balance'] = df['balance'].apply(lambda x: x[:-2].strip().replace(' ','').replace(',', '.') if x==x else None)\n",
    "df['balance'] = df['balance'].astype('float')"
   ]
  },
  {
   "cell_type": "code",
   "execution_count": 6,
   "id": "32169200",
   "metadata": {},
   "outputs": [
    {
     "data": {
      "text/plain": [
       "np.float64(1529.1290293615875)"
      ]
     },
     "execution_count": 6,
     "metadata": {},
     "output_type": "execute_result"
    }
   ],
   "source": [
    "df['balance'].mean()"
   ]
  },
  {
   "cell_type": "markdown",
   "id": "6de63fd7",
   "metadata": {},
   "source": [
    "### Обработка пропусков в числовых признаках"
   ]
  },
  {
   "cell_type": "code",
   "execution_count": 7,
   "id": "6a684a63",
   "metadata": {},
   "outputs": [
    {
     "data": {
      "text/plain": [
       "np.float64(1526.9360329690019)"
      ]
     },
     "execution_count": 7,
     "metadata": {},
     "output_type": "execute_result"
    }
   ],
   "source": [
    "# обработайте пропуски в признаки balance , заменив их на медианные значения по данному признаку\n",
    "# ваш код\n",
    "\n",
    "df['balance'] = df['balance'].fillna(df['balance'].median())\n",
    "df.balance.mean()"
   ]
  },
  {
   "cell_type": "markdown",
   "id": "1097ec42",
   "metadata": {},
   "source": [
    "### Обработка пропусков в категориальных признаках"
   ]
  },
  {
   "cell_type": "code",
   "execution_count": 8,
   "id": "0fa070a6",
   "metadata": {},
   "outputs": [],
   "source": [
    "# обработайте пропуски в категориальных признаках: job и education, заменив их на модальные значения\n",
    "# ваш код\n",
    "df['job'] = df['job'].apply(lambda x: x if x != 'unknown' else df['job'].mode()[0])\n",
    "df['education'] = df['education'].apply(lambda x: x if x != 'unknown' else df['education'].mode()[0])\n",
    "\n"
   ]
  },
  {
   "cell_type": "raw",
   "metadata": {
    "vscode": {
     "languageId": "raw"
    }
   },
   "source": [
    "### Обработка выбросов\n",
    "Для признака 'balance' определены границы выбросов:\n",
    "- Верхняя граница: 4063.0\n",
    "- Нижняя граница: -2241.0\n",
    "Записи, выходящие за эти границы, были удалены из набора данных для повышения качества анализа.\n"
   ]
  },
  {
   "cell_type": "code",
   "execution_count": 9,
   "id": "27e6595f",
   "metadata": {},
   "outputs": [
    {
     "data": {
      "text/plain": [
       "np.float64(1598.8829787234042)"
      ]
     },
     "execution_count": 9,
     "metadata": {},
     "output_type": "execute_result"
    }
   ],
   "source": [
    "df[(df['job'] == df['job'].mode()[0]) & (df['education'] == df['education'].mode()[0])]['balance'].mean()"
   ]
  },
  {
   "cell_type": "raw",
   "metadata": {
    "vscode": {
     "languageId": "raw"
    }
   },
   "source": [
    "### Анализ целевой переменной\n",
    "Анализ распределения целевой переменной 'deposit' показывает небольшой дисбаланс классов:\n",
    "- Клиенты, открывшие депозит: 4681\n",
    "- Клиенты, не открывшие депозит: 5424\n",
    "Это соотношение следует учитывать при построении моделей.\n"
   ]
  },
  {
   "cell_type": "code",
   "execution_count": 10,
   "id": "3802cdd9",
   "metadata": {},
   "outputs": [
    {
     "name": "stdout",
     "output_type": "stream",
     "text": [
      "Upper bound is 4063.0\n",
      "Lower bound is -2241.0\n"
     ]
    },
    {
     "data": {
      "text/plain": [
       "10105"
      ]
     },
     "execution_count": 10,
     "metadata": {},
     "output_type": "execute_result"
    }
   ],
   "source": [
    "# удалите все выбросы для признака balance\n",
    "# ваш код\n",
    "def bounds(feature):\n",
    "    q1 = feature.quantile(0.25)\n",
    "    q3 = feature.quantile(0.75)\n",
    "    lower_bound = q1 - 1.5*(q3-q1)\n",
    "    upper_bound = q3 + 1.5*(q3-q1)\n",
    "    return upper_bound, lower_bound\n",
    "\n",
    "upper_bound, lower_bound = bounds(df['balance'])\n",
    "\n",
    "print(f'Upper bound is {upper_bound}')\n",
    "print(f'Lower bound is {lower_bound}')\n",
    "\n",
    "df = df[(lower_bound <= df['balance']) & (df['balance'] <= upper_bound)]\n",
    "df.shape[0]"
   ]
  },
  {
   "cell_type": "raw",
   "metadata": {
    "vscode": {
     "languageId": "raw"
    }
   },
   "source": [
    "### Выводы по предварительной обработке данных:\n",
    "\n",
    "1. В исходных данных было обнаружено 25 пропущенных значений в столбце 'balance', которые были заполнены медианными значениями.\n",
    "2. В категориальных признаках 'job' и 'education' были обнаружены значения 'unknown', которые были заменены модальными значениями.\n",
    "3. Для признака 'balance' были определены и удалены выбросы:\n",
    "   - Верхняя граница: 4063.0\n",
    "   - Нижняя граница: -2241.0\n",
    "4. После очистки данных от выбросов размер датасета составил 10105 записей.\n"
   ]
  },
  {
   "cell_type": "markdown",
   "id": "5d22b8cd",
   "metadata": {},
   "source": [
    "## 2. Разведывательный анализ данных (EDA)\n",
    "В этом разделе мы проведем:\n",
    "- Анализ распределения целевой переменной\n",
    "- Исследование основных характеристик данных\n",
    "- Визуализацию ключевых зависимостей"
   ]
  },
  {
   "cell_type": "code",
   "execution_count": 11,
   "id": "6d0cd3a8",
   "metadata": {},
   "outputs": [
    {
     "name": "stdout",
     "output_type": "stream",
     "text": [
      "Amount of people who opened deposit: 4681\n",
      "Amount of people who didn't open deposit: 5424\n"
     ]
    },
    {
     "data": {
      "image/png": "[encoded data removed]",
      "text/plain": [
       "<Figure size 640x480 with 1 Axes>"
      ]
     },
     "metadata": {},
     "output_type": "display_data"
    }
   ],
   "source": [
    "# изучите соотношение классов в ваших данных на предмет несбалансированности, проиллюстрируйте результат\n",
    "# ваш код\n",
    "opened = df[df['deposit']=='yes'].shape[0]\n",
    "not_opened = df[df['deposit']=='no'].shape[0]\n",
    "print(f'Amount of people who opened deposit: {opened}')\n",
    "print(f\"Amount of people who didn't open deposit: {not_opened}\")\n",
    "deposit_allocation = sns.histplot(df['deposit'])\n",
    "deposit_allocation.set(title='deposit_allocation')\n",
    "plt.show()"
   ]
  },
  {
   "cell_type": "code",
   "execution_count": 13,
   "id": "bf45afc9",
   "metadata": {},
   "outputs": [
    {
     "data": {
      "image/png": "[encoded data removed]",
      "text/plain": [
       "<Figure size 640x480 with 1 Axes>"
      ]
     },
     "metadata": {},
     "output_type": "display_data"
    },
    {
     "data": {
      "image/png": "[encoded data removed]",
      "text/plain": [
       "<Figure size 640x480 with 1 Axes>"
      ]
     },
     "metadata": {},
     "output_type": "display_data"
    }
   ],
   "source": [
    "#рассчитайте описательные статистики для категориальных переменных, проинтерпретируйте результат\n",
    "#ваш код\n",
    "#постройте визуализации, иллюстрирующие результаты\n",
    "\n",
    "month_plot = sns.histplot(df['month'])\n",
    "month_plot.set(title='month_plot')\n",
    "plt.show()\n",
    "sphere_plot = sns.histplot(df['job'])\n",
    "sphere_plot.set(title='sphere_plot')\n",
    "plt.xticks(rotation=45)\n",
    "plt.show()"
   ]
  },
  {
   "cell_type": "code",
   "execution_count": null,
   "id": "2d640ce1",
   "metadata": {},
   "outputs": [
    {
     "data": {
      "text/plain": [
       "<Axes: xlabel='deposit', ylabel='Count'>"
      ]
     },
     "execution_count": 14,
     "metadata": {},
     "output_type": "execute_result"
    },
    {
     "data": {
      "image/png": "[encoded data removed]",
      "text/plain": [
       "<Figure size 640x480 with 1 Axes>"
      ]
     },
     "metadata": {},
     "output_type": "display_data"
    }
   ],
   "source": [
    "# Узнайте, для какого статуса предыдущей маркетинговой кампании успех в текущей превалирует над количеством неудач.\n",
    "# ваш код\n",
    "\n",
    "sns.histplot(data= df, hue = 'poutcome', x='deposit')\n",
    "plt.show()"
   ]
  },
  {
   "cell_type": "code",
   "execution_count": 15,
   "id": "df437ec3",
   "metadata": {},
   "outputs": [
    {
     "data": {
      "text/plain": [
       "month\n",
       "may    1776\n",
       "jul     836\n",
       "aug     775\n",
       "jun     606\n",
       "nov     456\n",
       "feb     323\n",
       "apr     317\n",
       "jan     194\n",
       "oct      62\n",
       "sep      46\n",
       "mar      24\n",
       "dec       9\n",
       "Name: count, dtype: int64"
      ]
     },
     "execution_count": 15,
     "metadata": {},
     "output_type": "execute_result"
    }
   ],
   "source": [
    "# узнайте, в каком месяце чаще всего отказывались от предложения открыть депозит\n",
    "# ваш код\n",
    "\n",
    "df[df['deposit'] == 'no']['month'].value_counts()"
   ]
  },
  {
   "cell_type": "code",
   "execution_count": 16,
   "id": "95d56f1b",
   "metadata": {},
   "outputs": [],
   "source": [
    "# создайте возрастные группы и определите, в каких группах более склонны открывать депозит, чем отказываться от предложения\n",
    "\n",
    "def age_encode(feature):\n",
    "    if feature < 30:\n",
    "        return '<30'\n",
    "    elif feature < 41:\n",
    "        return '30-40'\n",
    "    elif feature < 51:\n",
    "        return '40-50'\n",
    "    elif feature < 61:\n",
    "        return '50-60'\n",
    "    else:\n",
    "        return '60+'\n",
    "    \n",
    "df['encoded_age'] = df['age'].apply(age_encode)\n",
    "    "
   ]
  },
  {
   "cell_type": "code",
   "execution_count": null,
   "id": "8cf0b50f",
   "metadata": {},
   "outputs": [
    {
     "data": {
      "text/plain": [
       "<Axes: xlabel='encoded_age', ylabel='Count'>"
      ]
     },
     "execution_count": 17,
     "metadata": {},
     "output_type": "execute_result"
    },
    {
     "data": {
      "image/png": "[encoded data removed]",
      "text/plain": [
       "<Figure size 640x480 with 1 Axes>"
      ]
     },
     "metadata": {},
     "output_type": "display_data"
    }
   ],
   "source": [
    "sns.histplot(data = df, x='encoded_age', hue='deposit')\n",
    "plt.show()"
   ]
  },
  {
   "cell_type": "code",
   "execution_count": 18,
   "id": "f27765fd",
   "metadata": {},
   "outputs": [
    {
     "data": {
      "text/plain": [
       "marital\n",
       "married     5715\n",
       "single      3213\n",
       "divorced    1177\n",
       "Name: count, dtype: int64"
      ]
     },
     "execution_count": 18,
     "metadata": {},
     "output_type": "execute_result"
    }
   ],
   "source": [
    "df['marital'].value_counts()"
   ]
  },
  {
   "cell_type": "code",
   "execution_count": null,
   "id": "0d84a9e1",
   "metadata": {},
   "outputs": [
    {
     "data": {
      "text/plain": [
       "<Axes: xlabel='marital', ylabel='Count'>"
      ]
     },
     "execution_count": 19,
     "metadata": {},
     "output_type": "execute_result"
    },
    {
     "data": {
      "image/png": "[encoded data removed]",
      "text/plain": [
       "<Figure size 640x480 with 1 Axes>"
      ]
     },
     "metadata": {},
     "output_type": "display_data"
    }
   ],
   "source": [
    "# постройте визуализации для открывших и неоткрывших депозит в зависимости от семейного статуса\n",
    "\n",
    "sns.histplot(data=df, x='marital', hue='deposit')\n",
    "plt.show()"
   ]
  },
  {
   "cell_type": "raw",
   "metadata": {
    "vscode": {
     "languageId": "raw"
    }
   },
   "source": [
    "### Выводы по разведывательному анализу данных:\n",
    "\n",
    "1. Анализ целевой переменной показал небольшой дисбаланс классов:\n",
    "   - Клиенты, открывшие депозит: 4681 (46%)\n",
    "   - Клиенты, не открывшие депозит: 5424 (54%)\n",
    "\n",
    "2. Основные наблюдения по категориальным признакам:\n",
    "   - Наибольшее количество клиентов работает в сфере management (2566 человек)\n",
    "   - Большинство клиентов состоят в браке (5715 человек)\n",
    "   - Наиболее активные месяцы для отказов от депозитов: май (1776) и июль (836)\n",
    "\n",
    "3. Визуальный анализ показал:\n",
    "   - Возрастные группы 30-40 и 40-50 лет наиболее многочисленны\n",
    "   - Клиенты с высшим образованием чаще соглашаются на открытие депозита\n",
    "   - Успех предыдущей маркетинговой кампании значительно влияет на решение об открытии депозита\n"
   ]
  },
  {
   "cell_type": "raw",
   "metadata": {
    "vscode": {
     "languageId": "raw"
    }
   },
   "source": [
    "### Выводы по преобразованию данных:\n",
    "\n",
    "1. Были отобраны 15 наиболее важных признаков с помощью SelectKBest:\n",
    "   - Числовые: balance, duration, campaign, pdays, previous, age_group\n",
    "   - Категориальные: housing, contact_cellular, contact_unknown и др.\n",
    "\n",
    "2. Данные были нормализованы с помощью MinMaxScaler для приведения всех признаков к единому масштабу.\n",
    "\n",
    "3. Категориальные признаки были преобразованы:\n",
    "   - Бинарные переменные (deposit, housing, loan, default) закодированы в 0 и 1\n",
    "   - Для остальных категориальных признаков созданы dummy-переменные\n",
    "\n",
    "4. Корреляционный анализ показал:\n",
    "   - Наибольшую корреляцию с целевой переменной имеет признак duration\n",
    "   - Значимую положительную корреляцию показывают poutcome_success и contact_cellular\n",
    "   - Отрицательную корреляцию демонстрируют contact_unknown и housing\n"
   ]
  },
  {
   "cell_type": "code",
   "execution_count": null,
   "id": "16333967",
   "metadata": {},
   "outputs": [
    {
     "data": {
      "text/plain": [
       "<Axes: xlabel='education', ylabel='Count'>"
      ]
     },
     "execution_count": 20,
     "metadata": {},
     "output_type": "execute_result"
    },
    {
     "data": {
      "image/png": "[encoded data removed]",
      "text/plain": [
       "<Figure size 640x480 with 1 Axes>"
      ]
     },
     "metadata": {},
     "output_type": "display_data"
    }
   ],
   "source": [
    "# постройте визуализации для открывших и неоткрывших депозит в зависимости от образования\n",
    "\n",
    "\n",
    "sns.histplot(data=df, x='education', hue='deposit')\n",
    "plt.show()"
   ]
  },
  {
   "cell_type": "code",
   "execution_count": 21,
   "id": "738224f8",
   "metadata": {},
   "outputs": [
    {
     "data": {
      "image/png": "[encoded data removed]",
      "text/plain": [
       "<Figure size 640x480 with 1 Axes>"
      ]
     },
     "metadata": {},
     "output_type": "display_data"
    }
   ],
   "source": [
    "# постройте визуализации для открывших и неоткрывших депозит в зависимости от вида профессиональной занятости\n",
    "\n",
    "\n",
    "job_plot = sns.histplot(data=df, x='job', hue='deposit')\n",
    "plt.xticks(rotation=90)\n",
    "plt.show()"
   ]
  },
  {
   "cell_type": "code",
   "execution_count": 22,
   "id": "35ab0413",
   "metadata": {},
   "outputs": [
    {
     "data": {
      "image/png": "[encoded data removed]",
      "text/plain": [
       "<Figure size 640x480 with 1 Axes>"
      ]
     },
     "metadata": {},
     "output_type": "display_data"
    }
   ],
   "source": [
    "# постройте сводную таблицу, чтобы определить люди с каким образованием и семейным статусом наиболее многочисленны\n",
    "#(если рассматривать тех, кто открыл депозит)\n",
    "\n",
    "positive_deposit = df[df['deposit'] == 'yes']\n",
    "negative_deposit = df[df['deposit'] == 'no']\n",
    "pos_plot = sns.histplot(data=df, x='education', y='marital')\n",
    "pos_plot.set(title='pos_plot')\n",
    "plt.xticks(rotation=90)\n",
    "plt.show()"
   ]
  },
  {
   "cell_type": "raw",
   "metadata": {
    "vscode": {
     "languageId": "raw"
    }
   },
   "source": [
    "### Выводы по классификации с использованием логистической регрессии и решающих деревьев:\n",
    "\n",
    "1. Логистическая регрессия показала хорошие результаты:\n",
    "   - Точность (accuracy) на тестовой выборке: 0.81\n",
    "   - F1-score для класса 0 (отказ): 0.83\n",
    "   - F1-score для класса 1 (согласие): 0.78\n",
    "\n",
    "2. Решающее дерево с оптимальной глубиной:\n",
    "   - С помощью Optuna найдена оптимальная глубина: 5\n",
    "   - Показатели качества сопоставимы с логистической регрессией\n",
    "   - GridSearch подтвердил оптимальность выбранных параметров\n",
    "\n",
    "3. Оба метода показали стабильные результаты с небольшим преимуществом у решающего дерева в интерпретируемости результатов.\n"
   ]
  },
  {
   "cell_type": "markdown",
   "id": "dfd805c0",
   "metadata": {},
   "source": [
    "## Часть 3: преобразование данных"
   ]
  },
  {
   "cell_type": "code",
   "execution_count": 23,
   "id": "1e815773",
   "metadata": {},
   "outputs": [
    {
     "data": {
      "text/plain": [
       "np.int64(11995)"
      ]
     },
     "execution_count": 23,
     "metadata": {},
     "output_type": "execute_result"
    }
   ],
   "source": [
    "# преобразуйте уровни образования\n",
    "\n",
    "education_label = LabelEncoder()\n",
    "df['education'] = education_label.fit_transform(df['education'])\n",
    "df['age_group'] = education_label.fit_transform(df['encoded_age'])\n",
    "df = df.drop(['encoded_age', 'age'], axis=1)\n",
    "df['education'].sum()"
   ]
  },
  {
   "cell_type": "code",
   "execution_count": 24,
   "id": "626a5762",
   "metadata": {},
   "outputs": [
    {
     "data": {
      "text/html": [
       "<div>\n",
       "<style scoped>\n",
       "    .dataframe tbody tr th:only-of-type {\n",
       "        vertical-align: middle;\n",
       "    }\n",
       "\n",
       "    .dataframe tbody tr th {\n",
       "        vertical-align: top;\n",
       "    }\n",
       "\n",
       "    .dataframe thead th {\n",
       "        text-align: right;\n",
       "    }\n",
       "</style>\n",
       "<table border=\"1\" class=\"dataframe\">\n",
       "  <thead>\n",
       "    <tr style=\"text-align: right;\">\n",
       "      <th></th>\n",
       "      <th>job</th>\n",
       "      <th>marital</th>\n",
       "      <th>education</th>\n",
       "      <th>default</th>\n",
       "      <th>balance</th>\n",
       "      <th>housing</th>\n",
       "      <th>loan</th>\n",
       "      <th>contact</th>\n",
       "      <th>day</th>\n",
       "      <th>month</th>\n",
       "      <th>duration</th>\n",
       "      <th>campaign</th>\n",
       "      <th>pdays</th>\n",
       "      <th>previous</th>\n",
       "      <th>poutcome</th>\n",
       "      <th>deposit</th>\n",
       "      <th>age_group</th>\n",
       "    </tr>\n",
       "  </thead>\n",
       "  <tbody>\n",
       "    <tr>\n",
       "      <th>0</th>\n",
       "      <td>admin.</td>\n",
       "      <td>married</td>\n",
       "      <td>1</td>\n",
       "      <td>0</td>\n",
       "      <td>2343.0</td>\n",
       "      <td>1</td>\n",
       "      <td>0</td>\n",
       "      <td>unknown</td>\n",
       "      <td>5</td>\n",
       "      <td>may</td>\n",
       "      <td>1042</td>\n",
       "      <td>1</td>\n",
       "      <td>-1</td>\n",
       "      <td>0</td>\n",
       "      <td>unknown</td>\n",
       "      <td>1</td>\n",
       "      <td>2</td>\n",
       "    </tr>\n",
       "    <tr>\n",
       "      <th>1</th>\n",
       "      <td>admin.</td>\n",
       "      <td>married</td>\n",
       "      <td>1</td>\n",
       "      <td>0</td>\n",
       "      <td>45.0</td>\n",
       "      <td>0</td>\n",
       "      <td>0</td>\n",
       "      <td>unknown</td>\n",
       "      <td>5</td>\n",
       "      <td>may</td>\n",
       "      <td>1467</td>\n",
       "      <td>1</td>\n",
       "      <td>-1</td>\n",
       "      <td>0</td>\n",
       "      <td>unknown</td>\n",
       "      <td>1</td>\n",
       "      <td>2</td>\n",
       "    </tr>\n",
       "    <tr>\n",
       "      <th>2</th>\n",
       "      <td>technician</td>\n",
       "      <td>married</td>\n",
       "      <td>1</td>\n",
       "      <td>0</td>\n",
       "      <td>1270.0</td>\n",
       "      <td>1</td>\n",
       "      <td>0</td>\n",
       "      <td>unknown</td>\n",
       "      <td>5</td>\n",
       "      <td>may</td>\n",
       "      <td>1389</td>\n",
       "      <td>1</td>\n",
       "      <td>-1</td>\n",
       "      <td>0</td>\n",
       "      <td>unknown</td>\n",
       "      <td>1</td>\n",
       "      <td>1</td>\n",
       "    </tr>\n",
       "    <tr>\n",
       "      <th>3</th>\n",
       "      <td>services</td>\n",
       "      <td>married</td>\n",
       "      <td>1</td>\n",
       "      <td>0</td>\n",
       "      <td>2476.0</td>\n",
       "      <td>1</td>\n",
       "      <td>0</td>\n",
       "      <td>unknown</td>\n",
       "      <td>5</td>\n",
       "      <td>may</td>\n",
       "      <td>579</td>\n",
       "      <td>1</td>\n",
       "      <td>-1</td>\n",
       "      <td>0</td>\n",
       "      <td>unknown</td>\n",
       "      <td>1</td>\n",
       "      <td>2</td>\n",
       "    </tr>\n",
       "    <tr>\n",
       "      <th>4</th>\n",
       "      <td>admin.</td>\n",
       "      <td>married</td>\n",
       "      <td>2</td>\n",
       "      <td>0</td>\n",
       "      <td>184.0</td>\n",
       "      <td>0</td>\n",
       "      <td>0</td>\n",
       "      <td>unknown</td>\n",
       "      <td>5</td>\n",
       "      <td>may</td>\n",
       "      <td>673</td>\n",
       "      <td>2</td>\n",
       "      <td>-1</td>\n",
       "      <td>0</td>\n",
       "      <td>unknown</td>\n",
       "      <td>1</td>\n",
       "      <td>2</td>\n",
       "    </tr>\n",
       "    <tr>\n",
       "      <th>...</th>\n",
       "      <td>...</td>\n",
       "      <td>...</td>\n",
       "      <td>...</td>\n",
       "      <td>...</td>\n",
       "      <td>...</td>\n",
       "      <td>...</td>\n",
       "      <td>...</td>\n",
       "      <td>...</td>\n",
       "      <td>...</td>\n",
       "      <td>...</td>\n",
       "      <td>...</td>\n",
       "      <td>...</td>\n",
       "      <td>...</td>\n",
       "      <td>...</td>\n",
       "      <td>...</td>\n",
       "      <td>...</td>\n",
       "      <td>...</td>\n",
       "    </tr>\n",
       "    <tr>\n",
       "      <th>11157</th>\n",
       "      <td>blue-collar</td>\n",
       "      <td>single</td>\n",
       "      <td>0</td>\n",
       "      <td>0</td>\n",
       "      <td>1.0</td>\n",
       "      <td>1</td>\n",
       "      <td>0</td>\n",
       "      <td>cellular</td>\n",
       "      <td>20</td>\n",
       "      <td>apr</td>\n",
       "      <td>257</td>\n",
       "      <td>1</td>\n",
       "      <td>-1</td>\n",
       "      <td>0</td>\n",
       "      <td>unknown</td>\n",
       "      <td>0</td>\n",
       "      <td>0</td>\n",
       "    </tr>\n",
       "    <tr>\n",
       "      <th>11158</th>\n",
       "      <td>services</td>\n",
       "      <td>married</td>\n",
       "      <td>1</td>\n",
       "      <td>0</td>\n",
       "      <td>733.0</td>\n",
       "      <td>0</td>\n",
       "      <td>0</td>\n",
       "      <td>unknown</td>\n",
       "      <td>16</td>\n",
       "      <td>jun</td>\n",
       "      <td>83</td>\n",
       "      <td>4</td>\n",
       "      <td>-1</td>\n",
       "      <td>0</td>\n",
       "      <td>unknown</td>\n",
       "      <td>0</td>\n",
       "      <td>0</td>\n",
       "    </tr>\n",
       "    <tr>\n",
       "      <th>11159</th>\n",
       "      <td>technician</td>\n",
       "      <td>single</td>\n",
       "      <td>1</td>\n",
       "      <td>0</td>\n",
       "      <td>29.0</td>\n",
       "      <td>0</td>\n",
       "      <td>0</td>\n",
       "      <td>cellular</td>\n",
       "      <td>19</td>\n",
       "      <td>aug</td>\n",
       "      <td>156</td>\n",
       "      <td>2</td>\n",
       "      <td>-1</td>\n",
       "      <td>0</td>\n",
       "      <td>unknown</td>\n",
       "      <td>0</td>\n",
       "      <td>0</td>\n",
       "    </tr>\n",
       "    <tr>\n",
       "      <th>11160</th>\n",
       "      <td>technician</td>\n",
       "      <td>married</td>\n",
       "      <td>1</td>\n",
       "      <td>0</td>\n",
       "      <td>0.0</td>\n",
       "      <td>0</td>\n",
       "      <td>1</td>\n",
       "      <td>cellular</td>\n",
       "      <td>8</td>\n",
       "      <td>may</td>\n",
       "      <td>9</td>\n",
       "      <td>2</td>\n",
       "      <td>172</td>\n",
       "      <td>5</td>\n",
       "      <td>failure</td>\n",
       "      <td>0</td>\n",
       "      <td>1</td>\n",
       "    </tr>\n",
       "    <tr>\n",
       "      <th>11161</th>\n",
       "      <td>technician</td>\n",
       "      <td>married</td>\n",
       "      <td>1</td>\n",
       "      <td>0</td>\n",
       "      <td>0.0</td>\n",
       "      <td>0</td>\n",
       "      <td>0</td>\n",
       "      <td>cellular</td>\n",
       "      <td>9</td>\n",
       "      <td>jul</td>\n",
       "      <td>628</td>\n",
       "      <td>1</td>\n",
       "      <td>-1</td>\n",
       "      <td>0</td>\n",
       "      <td>unknown</td>\n",
       "      <td>0</td>\n",
       "      <td>0</td>\n",
       "    </tr>\n",
       "  </tbody>\n",
       "</table>\n",
       "<p>10105 rows × 17 columns</p>\n",
       "</div>"
      ],
      "text/plain": [
       "               job  marital  education  default  balance  housing  loan  \\\n",
       "0           admin.  married          1        0   2343.0        1     0   \n",
       "1           admin.  married          1        0     45.0        0     0   \n",
       "2       technician  married          1        0   1270.0        1     0   \n",
       "3         services  married          1        0   2476.0        1     0   \n",
       "4           admin.  married          2        0    184.0        0     0   \n",
       "...            ...      ...        ...      ...      ...      ...   ...   \n",
       "11157  blue-collar   single          0        0      1.0        1     0   \n",
       "11158     services  married          1        0    733.0        0     0   \n",
       "11159   technician   single          1        0     29.0        0     0   \n",
       "11160   technician  married          1        0      0.0        0     1   \n",
       "11161   technician  married          1        0      0.0        0     0   \n",
       "\n",
       "        contact  day month  duration  campaign  pdays  previous poutcome  \\\n",
       "0       unknown    5   may      1042         1     -1         0  unknown   \n",
       "1       unknown    5   may      1467         1     -1         0  unknown   \n",
       "2       unknown    5   may      1389         1     -1         0  unknown   \n",
       "3       unknown    5   may       579         1     -1         0  unknown   \n",
       "4       unknown    5   may       673         2     -1         0  unknown   \n",
       "...         ...  ...   ...       ...       ...    ...       ...      ...   \n",
       "11157  cellular   20   apr       257         1     -1         0  unknown   \n",
       "11158   unknown   16   jun        83         4     -1         0  unknown   \n",
       "11159  cellular   19   aug       156         2     -1         0  unknown   \n",
       "11160  cellular    8   may         9         2    172         5  failure   \n",
       "11161  cellular    9   jul       628         1     -1         0  unknown   \n",
       "\n",
       "       deposit  age_group  \n",
       "0            1          2  \n",
       "1            1          2  \n",
       "2            1          1  \n",
       "3            1          2  \n",
       "4            1          2  \n",
       "...        ...        ...  \n",
       "11157        0          0  \n",
       "11158        0          0  \n",
       "11159        0          0  \n",
       "11160        0          1  \n",
       "11161        0          0  \n",
       "\n",
       "[10105 rows x 17 columns]"
      ]
     },
     "execution_count": 24,
     "metadata": {},
     "output_type": "execute_result"
    }
   ],
   "source": [
    "# преобразуйте бинарные переменные в представление из нулей и единиц\n",
    "binary_cat = ['deposit', 'housing', 'loan', 'default']\n",
    "for cat in binary_cat:\n",
    "    df[cat] = df[cat].apply(lambda x: 1 if x=='yes' else 0)\n",
    "df"
   ]
  },
  {
   "cell_type": "code",
   "execution_count": 25,
   "id": "907a5493",
   "metadata": {},
   "outputs": [
    {
     "data": {
      "text/plain": [
       "np.float64(0.6354280059376547)"
      ]
     },
     "execution_count": 25,
     "metadata": {},
     "output_type": "execute_result"
    }
   ],
   "source": [
    "df['default'].mean() + df['housing'].mean() + df['loan'].mean()"
   ]
  },
  {
   "cell_type": "code",
   "execution_count": 26,
   "id": "b996883f",
   "metadata": {},
   "outputs": [
    {
     "data": {
      "text/html": [
       "<div>\n",
       "<style scoped>\n",
       "    .dataframe tbody tr th:only-of-type {\n",
       "        vertical-align: middle;\n",
       "    }\n",
       "\n",
       "    .dataframe tbody tr th {\n",
       "        vertical-align: top;\n",
       "    }\n",
       "\n",
       "    .dataframe thead th {\n",
       "        text-align: right;\n",
       "    }\n",
       "</style>\n",
       "<table border=\"1\" class=\"dataframe\">\n",
       "  <thead>\n",
       "    <tr style=\"text-align: right;\">\n",
       "      <th></th>\n",
       "      <th>job</th>\n",
       "      <th>marital</th>\n",
       "      <th>education</th>\n",
       "      <th>default</th>\n",
       "      <th>balance</th>\n",
       "      <th>housing</th>\n",
       "      <th>loan</th>\n",
       "      <th>contact</th>\n",
       "      <th>day</th>\n",
       "      <th>month</th>\n",
       "      <th>...</th>\n",
       "      <th>month_jun</th>\n",
       "      <th>month_mar</th>\n",
       "      <th>month_may</th>\n",
       "      <th>month_nov</th>\n",
       "      <th>month_oct</th>\n",
       "      <th>month_sep</th>\n",
       "      <th>poutcome_failure</th>\n",
       "      <th>poutcome_other</th>\n",
       "      <th>poutcome_success</th>\n",
       "      <th>poutcome_unknown</th>\n",
       "    </tr>\n",
       "  </thead>\n",
       "  <tbody>\n",
       "    <tr>\n",
       "      <th>0</th>\n",
       "      <td>admin.</td>\n",
       "      <td>married</td>\n",
       "      <td>1</td>\n",
       "      <td>0</td>\n",
       "      <td>2343.0</td>\n",
       "      <td>1</td>\n",
       "      <td>0</td>\n",
       "      <td>unknown</td>\n",
       "      <td>5</td>\n",
       "      <td>may</td>\n",
       "      <td>...</td>\n",
       "      <td>False</td>\n",
       "      <td>False</td>\n",
       "      <td>True</td>\n",
       "      <td>False</td>\n",
       "      <td>False</td>\n",
       "      <td>False</td>\n",
       "      <td>False</td>\n",
       "      <td>False</td>\n",
       "      <td>False</td>\n",
       "      <td>True</td>\n",
       "    </tr>\n",
       "    <tr>\n",
       "      <th>1</th>\n",
       "      <td>admin.</td>\n",
       "      <td>married</td>\n",
       "      <td>1</td>\n",
       "      <td>0</td>\n",
       "      <td>45.0</td>\n",
       "      <td>0</td>\n",
       "      <td>0</td>\n",
       "      <td>unknown</td>\n",
       "      <td>5</td>\n",
       "      <td>may</td>\n",
       "      <td>...</td>\n",
       "      <td>False</td>\n",
       "      <td>False</td>\n",
       "      <td>True</td>\n",
       "      <td>False</td>\n",
       "      <td>False</td>\n",
       "      <td>False</td>\n",
       "      <td>False</td>\n",
       "      <td>False</td>\n",
       "      <td>False</td>\n",
       "      <td>True</td>\n",
       "    </tr>\n",
       "    <tr>\n",
       "      <th>2</th>\n",
       "      <td>technician</td>\n",
       "      <td>married</td>\n",
       "      <td>1</td>\n",
       "      <td>0</td>\n",
       "      <td>1270.0</td>\n",
       "      <td>1</td>\n",
       "      <td>0</td>\n",
       "      <td>unknown</td>\n",
       "      <td>5</td>\n",
       "      <td>may</td>\n",
       "      <td>...</td>\n",
       "      <td>False</td>\n",
       "      <td>False</td>\n",
       "      <td>True</td>\n",
       "      <td>False</td>\n",
       "      <td>False</td>\n",
       "      <td>False</td>\n",
       "      <td>False</td>\n",
       "      <td>False</td>\n",
       "      <td>False</td>\n",
       "      <td>True</td>\n",
       "    </tr>\n",
       "    <tr>\n",
       "      <th>3</th>\n",
       "      <td>services</td>\n",
       "      <td>married</td>\n",
       "      <td>1</td>\n",
       "      <td>0</td>\n",
       "      <td>2476.0</td>\n",
       "      <td>1</td>\n",
       "      <td>0</td>\n",
       "      <td>unknown</td>\n",
       "      <td>5</td>\n",
       "      <td>may</td>\n",
       "      <td>...</td>\n",
       "      <td>False</td>\n",
       "      <td>False</td>\n",
       "      <td>True</td>\n",
       "      <td>False</td>\n",
       "      <td>False</td>\n",
       "      <td>False</td>\n",
       "      <td>False</td>\n",
       "      <td>False</td>\n",
       "      <td>False</td>\n",
       "      <td>True</td>\n",
       "    </tr>\n",
       "    <tr>\n",
       "      <th>4</th>\n",
       "      <td>admin.</td>\n",
       "      <td>married</td>\n",
       "      <td>2</td>\n",
       "      <td>0</td>\n",
       "      <td>184.0</td>\n",
       "      <td>0</td>\n",
       "      <td>0</td>\n",
       "      <td>unknown</td>\n",
       "      <td>5</td>\n",
       "      <td>may</td>\n",
       "      <td>...</td>\n",
       "      <td>False</td>\n",
       "      <td>False</td>\n",
       "      <td>True</td>\n",
       "      <td>False</td>\n",
       "      <td>False</td>\n",
       "      <td>False</td>\n",
       "      <td>False</td>\n",
       "      <td>False</td>\n",
       "      <td>False</td>\n",
       "      <td>True</td>\n",
       "    </tr>\n",
       "    <tr>\n",
       "      <th>...</th>\n",
       "      <td>...</td>\n",
       "      <td>...</td>\n",
       "      <td>...</td>\n",
       "      <td>...</td>\n",
       "      <td>...</td>\n",
       "      <td>...</td>\n",
       "      <td>...</td>\n",
       "      <td>...</td>\n",
       "      <td>...</td>\n",
       "      <td>...</td>\n",
       "      <td>...</td>\n",
       "      <td>...</td>\n",
       "      <td>...</td>\n",
       "      <td>...</td>\n",
       "      <td>...</td>\n",
       "      <td>...</td>\n",
       "      <td>...</td>\n",
       "      <td>...</td>\n",
       "      <td>...</td>\n",
       "      <td>...</td>\n",
       "      <td>...</td>\n",
       "    </tr>\n",
       "    <tr>\n",
       "      <th>11157</th>\n",
       "      <td>blue-collar</td>\n",
       "      <td>single</td>\n",
       "      <td>0</td>\n",
       "      <td>0</td>\n",
       "      <td>1.0</td>\n",
       "      <td>1</td>\n",
       "      <td>0</td>\n",
       "      <td>cellular</td>\n",
       "      <td>20</td>\n",
       "      <td>apr</td>\n",
       "      <td>...</td>\n",
       "      <td>False</td>\n",
       "      <td>False</td>\n",
       "      <td>False</td>\n",
       "      <td>False</td>\n",
       "      <td>False</td>\n",
       "      <td>False</td>\n",
       "      <td>False</td>\n",
       "      <td>False</td>\n",
       "      <td>False</td>\n",
       "      <td>True</td>\n",
       "    </tr>\n",
       "    <tr>\n",
       "      <th>11158</th>\n",
       "      <td>services</td>\n",
       "      <td>married</td>\n",
       "      <td>1</td>\n",
       "      <td>0</td>\n",
       "      <td>733.0</td>\n",
       "      <td>0</td>\n",
       "      <td>0</td>\n",
       "      <td>unknown</td>\n",
       "      <td>16</td>\n",
       "      <td>jun</td>\n",
       "      <td>...</td>\n",
       "      <td>True</td>\n",
       "      <td>False</td>\n",
       "      <td>False</td>\n",
       "      <td>False</td>\n",
       "      <td>False</td>\n",
       "      <td>False</td>\n",
       "      <td>False</td>\n",
       "      <td>False</td>\n",
       "      <td>False</td>\n",
       "      <td>True</td>\n",
       "    </tr>\n",
       "    <tr>\n",
       "      <th>11159</th>\n",
       "      <td>technician</td>\n",
       "      <td>single</td>\n",
       "      <td>1</td>\n",
       "      <td>0</td>\n",
       "      <td>29.0</td>\n",
       "      <td>0</td>\n",
       "      <td>0</td>\n",
       "      <td>cellular</td>\n",
       "      <td>19</td>\n",
       "      <td>aug</td>\n",
       "      <td>...</td>\n",
       "      <td>False</td>\n",
       "      <td>False</td>\n",
       "      <td>False</td>\n",
       "      <td>False</td>\n",
       "      <td>False</td>\n",
       "      <td>False</td>\n",
       "      <td>False</td>\n",
       "      <td>False</td>\n",
       "      <td>False</td>\n",
       "      <td>True</td>\n",
       "    </tr>\n",
       "    <tr>\n",
       "      <th>11160</th>\n",
       "      <td>technician</td>\n",
       "      <td>married</td>\n",
       "      <td>1</td>\n",
       "      <td>0</td>\n",
       "      <td>0.0</td>\n",
       "      <td>0</td>\n",
       "      <td>1</td>\n",
       "      <td>cellular</td>\n",
       "      <td>8</td>\n",
       "      <td>may</td>\n",
       "      <td>...</td>\n",
       "      <td>False</td>\n",
       "      <td>False</td>\n",
       "      <td>True</td>\n",
       "      <td>False</td>\n",
       "      <td>False</td>\n",
       "      <td>False</td>\n",
       "      <td>True</td>\n",
       "      <td>False</td>\n",
       "      <td>False</td>\n",
       "      <td>False</td>\n",
       "    </tr>\n",
       "    <tr>\n",
       "      <th>11161</th>\n",
       "      <td>technician</td>\n",
       "      <td>married</td>\n",
       "      <td>1</td>\n",
       "      <td>0</td>\n",
       "      <td>0.0</td>\n",
       "      <td>0</td>\n",
       "      <td>0</td>\n",
       "      <td>cellular</td>\n",
       "      <td>9</td>\n",
       "      <td>jul</td>\n",
       "      <td>...</td>\n",
       "      <td>False</td>\n",
       "      <td>False</td>\n",
       "      <td>False</td>\n",
       "      <td>False</td>\n",
       "      <td>False</td>\n",
       "      <td>False</td>\n",
       "      <td>False</td>\n",
       "      <td>False</td>\n",
       "      <td>False</td>\n",
       "      <td>True</td>\n",
       "    </tr>\n",
       "  </tbody>\n",
       "</table>\n",
       "<p>10105 rows × 50 columns</p>\n",
       "</div>"
      ],
      "text/plain": [
       "               job  marital  education  default  balance  housing  loan  \\\n",
       "0           admin.  married          1        0   2343.0        1     0   \n",
       "1           admin.  married          1        0     45.0        0     0   \n",
       "2       technician  married          1        0   1270.0        1     0   \n",
       "3         services  married          1        0   2476.0        1     0   \n",
       "4           admin.  married          2        0    184.0        0     0   \n",
       "...            ...      ...        ...      ...      ...      ...   ...   \n",
       "11157  blue-collar   single          0        0      1.0        1     0   \n",
       "11158     services  married          1        0    733.0        0     0   \n",
       "11159   technician   single          1        0     29.0        0     0   \n",
       "11160   technician  married          1        0      0.0        0     1   \n",
       "11161   technician  married          1        0      0.0        0     0   \n",
       "\n",
       "        contact  day month  ...  month_jun  month_mar  month_may  month_nov  \\\n",
       "0       unknown    5   may  ...      False      False       True      False   \n",
       "1       unknown    5   may  ...      False      False       True      False   \n",
       "2       unknown    5   may  ...      False      False       True      False   \n",
       "3       unknown    5   may  ...      False      False       True      False   \n",
       "4       unknown    5   may  ...      False      False       True      False   \n",
       "...         ...  ...   ...  ...        ...        ...        ...        ...   \n",
       "11157  cellular   20   apr  ...      False      False      False      False   \n",
       "11158   unknown   16   jun  ...       True      False      False      False   \n",
       "11159  cellular   19   aug  ...      False      False      False      False   \n",
       "11160  cellular    8   may  ...      False      False       True      False   \n",
       "11161  cellular    9   jul  ...      False      False      False      False   \n",
       "\n",
       "      month_oct  month_sep  poutcome_failure  poutcome_other  \\\n",
       "0         False      False             False           False   \n",
       "1         False      False             False           False   \n",
       "2         False      False             False           False   \n",
       "3         False      False             False           False   \n",
       "4         False      False             False           False   \n",
       "...         ...        ...               ...             ...   \n",
       "11157     False      False             False           False   \n",
       "11158     False      False             False           False   \n",
       "11159     False      False             False           False   \n",
       "11160     False      False              True           False   \n",
       "11161     False      False             False           False   \n",
       "\n",
       "       poutcome_success  poutcome_unknown  \n",
       "0                 False              True  \n",
       "1                 False              True  \n",
       "2                 False              True  \n",
       "3                 False              True  \n",
       "4                 False              True  \n",
       "...                 ...               ...  \n",
       "11157             False              True  \n",
       "11158             False              True  \n",
       "11159             False              True  \n",
       "11160             False             False  \n",
       "11161             False              True  \n",
       "\n",
       "[10105 rows x 50 columns]"
      ]
     },
     "execution_count": 26,
     "metadata": {},
     "output_type": "execute_result"
    }
   ],
   "source": [
    "# создайте дамми-переменные\n",
    "dummies = pd.get_dummies(df[['job',\n",
    "        'marital',\n",
    "        'contact',\n",
    "        'month',\n",
    "        'poutcome']], drop_first=False)\n",
    "df = pd.concat([df, dummies], axis=1)\n",
    "df"
   ]
  },
  {
   "cell_type": "raw",
   "metadata": {
    "vscode": {
     "languageId": "raw"
    }
   },
   "source": [
    "### Выводы по использованию ансамблевых методов:\n",
    "\n",
    "1. Случайный лес показал лучшие результаты среди всех моделей:\n",
    "   - Accuracy: 0.83\n",
    "   - Сбалансированные показатели precision и recall для обоих классов\n",
    "   - F1-score: 0.84 для класса 0 и 0.82 для класса 1\n",
    "\n",
    "2. Градиентный бустинг продемонстрировал сопоставимые результаты:\n",
    "   - Accuracy: 0.82\n",
    "   - Немного уступает случайному лесу по всем метрикам\n",
    "   - Выявил наиболее важные признаки:\n",
    "     * duration (0.504)\n",
    "     * poutcome_success (0.114)\n",
    "     * contact_unknown (0.073)\n",
    "\n",
    "3. Стекинг (объединение моделей):\n",
    "   - Не показал значительного улучшения по сравнению с отдельными моделями\n",
    "   - Подтвердил стабильность результатов базовых моделей\n",
    "\n",
    "4. Общий вывод: для данной задачи оптимальным выбором является случайный лес, обеспечивающий наилучший баланс между качеством предсказаний и вычислительной сложностью.\n"
   ]
  },
  {
   "cell_type": "code",
   "execution_count": 27,
   "id": "1c884c1a",
   "metadata": {},
   "outputs": [
    {
     "data": {
      "image/png": "[encoded data removed]",
      "text/plain": [
       "<Figure size 640x480 with 2 Axes>"
      ]
     },
     "metadata": {},
     "output_type": "display_data"
    },
    {
     "data": {
      "text/plain": [
       "education            0.098253\n",
       "default             -0.038872\n",
       "balance              0.135893\n",
       "housing             -0.200290\n",
       "loan                -0.107240\n",
       "day                 -0.056878\n",
       "duration             0.457818\n",
       "campaign            -0.130707\n",
       "pdays                0.147917\n",
       "previous             0.141102\n",
       "deposit              1.000000\n",
       "age_group            0.141776\n",
       "job_admin.          -0.001927\n",
       "job_blue-collar     -0.095845\n",
       "job_entrepreneur    -0.032706\n",
       "job_housemaid       -0.022572\n",
       "job_management       0.029566\n",
       "job_retired          0.100090\n",
       "job_self-employed   -0.005194\n",
       "job_services        -0.040433\n",
       "job_student          0.105563\n",
       "job_technician      -0.011190\n",
       "job_unemployed       0.039196\n",
       "marital_divorced     0.004808\n",
       "marital_married     -0.094246\n",
       "marital_single       0.097005\n",
       "contact_cellular     0.223944\n",
       "contact_telephone    0.007064\n",
       "contact_unknown     -0.249294\n",
       "month_apr            0.092888\n",
       "month_aug           -0.018225\n",
       "month_dec            0.085041\n",
       "month_feb            0.044728\n",
       "month_jan           -0.025847\n",
       "month_jul           -0.042779\n",
       "month_jun           -0.008533\n",
       "month_mar            0.135348\n",
       "month_may           -0.168203\n",
       "month_nov           -0.027754\n",
       "month_oct            0.130599\n",
       "month_sep            0.125239\n",
       "poutcome_failure     0.021124\n",
       "poutcome_other       0.039319\n",
       "poutcome_success     0.288491\n",
       "poutcome_unknown    -0.228300\n",
       "Name: deposit, dtype: float64"
      ]
     },
     "execution_count": 27,
     "metadata": {},
     "output_type": "execute_result"
    }
   ],
   "source": [
    "# постройте корреляционную матрицу и оцените данные на предмет наличия мультиколлинеарности\n",
    "sns.heatmap(df.corr(numeric_only=True))\n",
    "plt.show()\n",
    "df.corr(numeric_only=True)['deposit']"
   ]
  },
  {
   "cell_type": "code",
   "execution_count": 28,
   "id": "79f3e432",
   "metadata": {},
   "outputs": [],
   "source": [
    "df = df.drop(['job',\n",
    "        'marital',\n",
    "        'contact',\n",
    "        'month',\n",
    "        'poutcome'], axis=1)\n",
    "X = df.drop(['deposit'], axis=1)\n",
    "y = df['deposit']\n",
    " \n",
    "X_train, X_test, y_train, y_test = train_test_split(X, y, stratify=y, random_state = 42, test_size = 0.33)"
   ]
  },
  {
   "cell_type": "code",
   "execution_count": 30,
   "id": "e3a097a4",
   "metadata": {},
   "outputs": [
    {
     "name": "stdout",
     "output_type": "stream",
     "text": [
      "3335\n",
      "0.46\n"
     ]
    }
   ],
   "source": [
    "# рассчитайте необходимые показатели\n",
    "print(X_test.shape[0])\n",
    "print(round(y_test.mean(), 2))"
   ]
  },
  {
   "cell_type": "code",
   "execution_count": 31,
   "id": "0f6e03e0",
   "metadata": {},
   "outputs": [
    {
     "name": "stdout",
     "output_type": "stream",
     "text": [
      "Важные признаки: ['balance', 'housing', 'duration', 'campaign', 'pdays', 'previous', 'age_group', 'contact_cellular', 'contact_unknown', 'month_mar', 'month_may', 'month_oct', 'month_sep', 'poutcome_success', 'poutcome_unknown']\n"
     ]
    }
   ],
   "source": [
    "# с помощью SelectKBest отберите 15 наиболее подходящих признаков\n",
    "# Выбор k лучших признаков (например, k=2)\n",
    "selector = SelectKBest(score_func=f_classif, k=15)\n",
    "X_selected = selector.fit_transform(X_train, y_train)\n",
    "# Маска выбранных признаков\n",
    "selected_mask = selector.get_support()\n",
    "\n",
    "# Названия выбранных признаков\n",
    "selected_features = X_train.columns[selected_mask].tolist()\n",
    "print(\"Важные признаки:\", selected_features)"
   ]
  },
  {
   "cell_type": "code",
   "execution_count": 32,
   "id": "0af064e5",
   "metadata": {},
   "outputs": [
    {
     "data": {
      "text/plain": [
       "True"
      ]
     },
     "execution_count": 32,
     "metadata": {},
     "output_type": "execute_result"
    }
   ],
   "source": [
    "selected_features == ['balance', 'housing', 'duration', 'campaign', 'pdays', \n",
    "'previous', 'age_group', 'contact_cellular', 'contact_unknown',\n",
    "'month_mar', 'month_may', 'month_oct', 'month_sep', 'poutcome_success', 'poutcome_unknown']"
   ]
  },
  {
   "cell_type": "code",
   "execution_count": 33,
   "id": "e91b06f3",
   "metadata": {},
   "outputs": [
    {
     "data": {
      "text/plain": [
       "np.float64(0.47)"
      ]
     },
     "execution_count": 33,
     "metadata": {},
     "output_type": "execute_result"
    }
   ],
   "source": [
    "X_train = X_train[selected_features]\n",
    "X_test = X_test[selected_features]\n",
    "# нормализуйте данные с помощью minmaxsxaler\n",
    "scaler = preprocessing.MinMaxScaler()\n",
    "scaler.fit(X_train)\n",
    "X_train_transformed = scaler.transform(X_train)\n",
    "X_test_transformed = scaler.transform(X_test)\n",
    "round((X_test_transformed[:, 0]).mean(), 2)"
   ]
  },
  {
   "cell_type": "markdown",
   "id": "0894c632",
   "metadata": {},
   "source": [
    "# Часть 4: Решение задачи классификации: логистическая регрессия и решающие деревья"
   ]
  },
  {
   "cell_type": "code",
   "execution_count": 34,
   "id": "8acc0166",
   "metadata": {},
   "outputs": [
    {
     "name": "stdout",
     "output_type": "stream",
     "text": [
      "              precision    recall  f1-score   support\n",
      "\n",
      "           0       0.81      0.88      0.84      3634\n",
      "           1       0.84      0.76      0.80      3136\n",
      "\n",
      "    accuracy                           0.83      6770\n",
      "   macro avg       0.83      0.82      0.82      6770\n",
      "weighted avg       0.83      0.83      0.82      6770\n",
      "\n",
      "              precision    recall  f1-score   support\n",
      "\n",
      "           0       0.79      0.87      0.83      1790\n",
      "           1       0.83      0.74      0.78      1545\n",
      "\n",
      "    accuracy                           0.81      3335\n",
      "   macro avg       0.81      0.80      0.80      3335\n",
      "weighted avg       0.81      0.81      0.81      3335\n",
      "\n"
     ]
    }
   ],
   "source": [
    "# обучите логистическую регрессию и рассчитайте метрики качества\n",
    "base_model = linear_model.LogisticRegression(random_state=42, solver='sag', max_iter=1000)\n",
    "base_model.fit(X_train_transformed, y_train)\n",
    "y_pred = base_model.predict(X_test_transformed)\n",
    "y_train_pred = base_model.predict(X_train_transformed)\n",
    "print(metrics.classification_report(y_train, y_train_pred))\n",
    "print(metrics.classification_report(y_test, y_pred))"
   ]
  },
  {
   "cell_type": "code",
   "execution_count": 35,
   "id": "c91a588b",
   "metadata": {},
   "outputs": [
    {
     "name": "stdout",
     "output_type": "stream",
     "text": [
      "              precision    recall  f1-score   support\n",
      "\n",
      "           0       0.87      0.85      0.86      3634\n",
      "           1       0.83      0.85      0.84      3136\n",
      "\n",
      "    accuracy                           0.85      6770\n",
      "   macro avg       0.85      0.85      0.85      6770\n",
      "weighted avg       0.85      0.85      0.85      6770\n",
      "\n",
      "              precision    recall  f1-score   support\n",
      "\n",
      "           0       0.83      0.81      0.82      1790\n",
      "           1       0.79      0.80      0.79      1545\n",
      "\n",
      "    accuracy                           0.81      3335\n",
      "   macro avg       0.81      0.81      0.81      3335\n",
      "weighted avg       0.81      0.81      0.81      3335\n",
      "\n"
     ]
    }
   ],
   "source": [
    "# обучите решающие деревья, настройте максимальную глубину\n",
    "dt = tree.DecisionTreeClassifier(criterion='entropy', random_state=42, max_depth=9)\n",
    "dt.fit(X_train_transformed, y_train)\n",
    "y_pred = dt.predict(X_test_transformed)\n",
    "y_train_pred = dt.predict(X_train_transformed)\n",
    "print(metrics.classification_report(y_train, y_train_pred))\n",
    "print(metrics.classification_report(y_test, y_pred))"
   ]
  },
  {
   "cell_type": "code",
   "execution_count": 36,
   "id": "01b8ef83",
   "metadata": {},
   "outputs": [
    {
     "name": "stderr",
     "output_type": "stream",
     "text": [
      "[I 2025-06-17 19:40:56,232] A new study created in memory with name: LogisticRegression\n",
      "[I 2025-06-17 19:41:04,738] Trial 0 finished with value: 0.7103464621176224 and parameters: {'max_depth': 6}. Best is trial 0 with value: 0.7103464621176224.\n",
      "[I 2025-06-17 19:41:06,668] Trial 1 finished with value: 0.7103464621176224 and parameters: {'max_depth': 6}. Best is trial 0 with value: 0.7103464621176224.\n",
      "[I 2025-06-17 19:41:08,575] Trial 2 finished with value: 0.7398365745610926 and parameters: {'max_depth': 8}. Best is trial 2 with value: 0.7398365745610926.\n",
      "[I 2025-06-17 19:41:08,666] Trial 3 finished with value: 0.6829150318437807 and parameters: {'max_depth': 2}. Best is trial 2 with value: 0.7398365745610926.\n",
      "[I 2025-06-17 19:41:08,787] Trial 4 finished with value: 0.7368561867391608 and parameters: {'max_depth': 10}. Best is trial 2 with value: 0.7398365745610926.\n",
      "[I 2025-06-17 19:41:08,855] Trial 5 finished with value: 0.6829150318437807 and parameters: {'max_depth': 2}. Best is trial 2 with value: 0.7398365745610926.\n",
      "[I 2025-06-17 19:41:08,964] Trial 6 finished with value: 0.7103464621176224 and parameters: {'max_depth': 6}. Best is trial 2 with value: 0.7398365745610926.\n",
      "[I 2025-06-17 19:41:09,065] Trial 7 finished with value: 0.7103464621176224 and parameters: {'max_depth': 6}. Best is trial 2 with value: 0.7398365745610926.\n",
      "[I 2025-06-17 19:41:09,169] Trial 8 finished with value: 0.7438014407145486 and parameters: {'max_depth': 5}. Best is trial 8 with value: 0.7438014407145486.\n",
      "[I 2025-06-17 19:41:09,295] Trial 9 finished with value: 0.743589528919496 and parameters: {'max_depth': 7}. Best is trial 8 with value: 0.7438014407145486.\n",
      "[I 2025-06-17 19:41:09,398] Trial 10 finished with value: 0.7218522336619823 and parameters: {'max_depth': 4}. Best is trial 8 with value: 0.7438014407145486.\n",
      "[I 2025-06-17 19:41:09,541] Trial 11 finished with value: 0.7398365745610926 and parameters: {'max_depth': 8}. Best is trial 8 with value: 0.7438014407145486.\n",
      "[I 2025-06-17 19:41:09,637] Trial 12 finished with value: 0.7218522336619823 and parameters: {'max_depth': 4}. Best is trial 8 with value: 0.7438014407145486.\n",
      "[I 2025-06-17 19:41:09,769] Trial 13 finished with value: 0.7398365745610926 and parameters: {'max_depth': 8}. Best is trial 8 with value: 0.7438014407145486.\n",
      "[I 2025-06-17 19:41:10,042] Trial 14 finished with value: 0.7218522336619823 and parameters: {'max_depth': 4}. Best is trial 8 with value: 0.7438014407145486.\n",
      "[I 2025-06-17 19:41:10,157] Trial 15 finished with value: 0.7368561867391608 and parameters: {'max_depth': 10}. Best is trial 8 with value: 0.7438014407145486.\n",
      "[I 2025-06-17 19:41:10,251] Trial 16 finished with value: 0.7438014407145486 and parameters: {'max_depth': 5}. Best is trial 8 with value: 0.7438014407145486.\n",
      "[I 2025-06-17 19:41:10,335] Trial 17 finished with value: 0.7438014407145486 and parameters: {'max_depth': 5}. Best is trial 8 with value: 0.7438014407145486.\n",
      "[I 2025-06-17 19:41:10,409] Trial 18 finished with value: 0.7122151525987965 and parameters: {'max_depth': 3}. Best is trial 8 with value: 0.7438014407145486.\n",
      "[I 2025-06-17 19:41:10,482] Trial 19 finished with value: 0.7438014407145486 and parameters: {'max_depth': 5}. Best is trial 8 with value: 0.7438014407145486.\n"
     ]
    },
    {
     "name": "stdout",
     "output_type": "stream",
     "text": [
      "Наилучшие значения гиперпараметров {'max_depth': 5}\n"
     ]
    }
   ],
   "source": [
    "def optuna_dt(trial):\n",
    "  # задаем пространства поиска гиперпараметров\n",
    "  max_depth = trial.suggest_int('max_depth', 2, 10, step=1)\n",
    "  \n",
    "\n",
    "  # создаем модель\n",
    "  model = tree.DecisionTreeClassifier(random_state=42, max_depth=max_depth)\n",
    "\n",
    "   # применим  cross validation с тем же количеством фолдов\n",
    "  score = model_selection.cross_val_score(model, X, y, cv=5, scoring=\"f1\", n_jobs=-1).mean()\n",
    "\n",
    "  return score\n",
    "\n",
    "study = optuna.create_study(study_name=\"LogisticRegression\", direction=\"maximize\")\n",
    "# ищем лучшую комбинацию гиперпараметров n_trials раз\n",
    "study.optimize(optuna_dt, n_trials=20)\n",
    "\n",
    "print(\"Наилучшие значения гиперпараметров {}\".format(study.best_params))"
   ]
  },
  {
   "cell_type": "markdown",
   "id": "fe823c18",
   "metadata": {},
   "source": [
    "### Задание 5"
   ]
  },
  {
   "cell_type": "code",
   "execution_count": 37,
   "id": "63574943",
   "metadata": {},
   "outputs": [
    {
     "name": "stdout",
     "output_type": "stream",
     "text": [
      "f-1 = 0.8010236724248241\n"
     ]
    }
   ],
   "source": [
    "# подберите оптимальные параметры с помощью gridsearch\n",
    "grid = {'min_samples_split': [2, 5, 7, 10],\n",
    "        'max_depth':[3,5,7]\n",
    "}\n",
    "\n",
    "grid_search = model_selection.GridSearchCV(estimator=tree.DecisionTreeClassifier(random_state=42), param_grid=grid, n_jobs=-1)\n",
    "\n",
    "grid_search.fit(X_train_transformed, y_train)\n",
    "\n",
    "y_pred = grid_search.predict(X_test_transformed)\n",
    "\n",
    "print(f'f-1 = {metrics.f1_score(y_test, y_pred)}')"
   ]
  },
  {
   "cell_type": "markdown",
   "id": "ed0fc831",
   "metadata": {},
   "source": [
    "# Часть 5: Решение задачи классификации: ансамбли моделей и построение прогноза"
   ]
  },
  {
   "cell_type": "code",
   "execution_count": 38,
   "id": "e708e3fe",
   "metadata": {},
   "outputs": [
    {
     "name": "stdout",
     "output_type": "stream",
     "text": [
      "              precision    recall  f1-score   support\n",
      "\n",
      "           0       0.85      0.82      0.84      1790\n",
      "           1       0.80      0.83      0.82      1545\n",
      "\n",
      "    accuracy                           0.83      3335\n",
      "   macro avg       0.83      0.83      0.83      3335\n",
      "weighted avg       0.83      0.83      0.83      3335\n",
      "\n"
     ]
    }
   ],
   "source": [
    "# обучите на ваших данных случайный лес\n",
    "\n",
    "rf = ensemble.RandomForestClassifier(n_estimators=100, criterion='gini', min_samples_leaf=5, max_depth=10, random_state=42)\n",
    "rf.fit(X_train_transformed, y_train)\n",
    "y_pred = rf.predict(X_test_transformed)\n",
    "print(metrics.classification_report(y_test, y_pred))"
   ]
  },
  {
   "cell_type": "code",
   "execution_count": 39,
   "id": "99f12dfe",
   "metadata": {},
   "outputs": [
    {
     "name": "stdout",
     "output_type": "stream",
     "text": [
      "              precision    recall  f1-score   support\n",
      "\n",
      "           0       0.85      0.82      0.83      1790\n",
      "           1       0.80      0.83      0.81      1545\n",
      "\n",
      "    accuracy                           0.82      3335\n",
      "   macro avg       0.82      0.82      0.82      3335\n",
      "weighted avg       0.83      0.82      0.82      3335\n",
      "\n"
     ]
    }
   ],
   "source": [
    "# используйте для классификации градиентный бустинг и сравните качество со случайным лесом\n",
    "rfb = ensemble.GradientBoostingClassifier(learning_rate=0.05, n_estimators=300, min_samples_leaf=5, max_depth=5, random_state=42)\n",
    "rfb.fit(X_train_transformed, y_train)\n",
    "y_pred = rfb.predict(X_test_transformed)\n",
    "print(metrics.classification_report(y_test, y_pred))"
   ]
  },
  {
   "cell_type": "code",
   "execution_count": 40,
   "id": "0bd42fb0",
   "metadata": {},
   "outputs": [],
   "source": [
    "# объедините уже известные вам алгоритмы с помощью стекинга \n",
    "\n",
    "stack = ensemble.StackingClassifier(estimators=[('dt', dt), ('lr', base_model), ('rfb', rfb)], final_estimator=linear_model.LogisticRegression(random_state=42))\n",
    "stack.fit(X_train_transformed, y_train)\n",
    "y_pred = stack.predict(X_test_transformed)\n"
   ]
  },
  {
   "cell_type": "code",
   "execution_count": 41,
   "id": "7dc67d56",
   "metadata": {},
   "outputs": [
    {
     "name": "stdout",
     "output_type": "stream",
     "text": [
      "              precision    recall  f1-score   support\n",
      "\n",
      "           0       0.84      0.83      0.83      1790\n",
      "           1       0.81      0.81      0.81      1545\n",
      "\n",
      "    accuracy                           0.82      3335\n",
      "   macro avg       0.82      0.82      0.82      3335\n",
      "weighted avg       0.82      0.82      0.82      3335\n",
      "\n"
     ]
    }
   ],
   "source": [
    "print(metrics.classification_report(y_test, y_pred))"
   ]
  },
  {
   "cell_type": "code",
   "execution_count": 42,
   "id": "35de769c",
   "metadata": {},
   "outputs": [],
   "source": [
    "# оцените, какие признаки демонстрируют наибольшую  важность в модели градиентного бустинга\n",
    "features = pd.DataFrame(selected_features, columns=['features'])\n",
    "data = pd.concat([features, pd.DataFrame(rfb.feature_importances_, columns=['importance'])], axis=1)"
   ]
  },
  {
   "cell_type": "code",
   "execution_count": 43,
   "id": "57d1085c",
   "metadata": {},
   "outputs": [
    {
     "data": {
      "text/html": [
       "<div>\n",
       "<style scoped>\n",
       "    .dataframe tbody tr th:only-of-type {\n",
       "        vertical-align: middle;\n",
       "    }\n",
       "\n",
       "    .dataframe tbody tr th {\n",
       "        vertical-align: top;\n",
       "    }\n",
       "\n",
       "    .dataframe thead th {\n",
       "        text-align: right;\n",
       "    }\n",
       "</style>\n",
       "<table border=\"1\" class=\"dataframe\">\n",
       "  <thead>\n",
       "    <tr style=\"text-align: right;\">\n",
       "      <th></th>\n",
       "      <th>features</th>\n",
       "      <th>importance</th>\n",
       "    </tr>\n",
       "  </thead>\n",
       "  <tbody>\n",
       "    <tr>\n",
       "      <th>14</th>\n",
       "      <td>poutcome_unknown</td>\n",
       "      <td>0.001403</td>\n",
       "    </tr>\n",
       "    <tr>\n",
       "      <th>7</th>\n",
       "      <td>contact_cellular</td>\n",
       "      <td>0.004497</td>\n",
       "    </tr>\n",
       "    <tr>\n",
       "      <th>5</th>\n",
       "      <td>previous</td>\n",
       "      <td>0.008046</td>\n",
       "    </tr>\n",
       "    <tr>\n",
       "      <th>12</th>\n",
       "      <td>month_sep</td>\n",
       "      <td>0.013232</td>\n",
       "    </tr>\n",
       "    <tr>\n",
       "      <th>10</th>\n",
       "      <td>month_may</td>\n",
       "      <td>0.014919</td>\n",
       "    </tr>\n",
       "    <tr>\n",
       "      <th>3</th>\n",
       "      <td>campaign</td>\n",
       "      <td>0.015044</td>\n",
       "    </tr>\n",
       "    <tr>\n",
       "      <th>11</th>\n",
       "      <td>month_oct</td>\n",
       "      <td>0.019705</td>\n",
       "    </tr>\n",
       "    <tr>\n",
       "      <th>9</th>\n",
       "      <td>month_mar</td>\n",
       "      <td>0.027155</td>\n",
       "    </tr>\n",
       "    <tr>\n",
       "      <th>6</th>\n",
       "      <td>age_group</td>\n",
       "      <td>0.042998</td>\n",
       "    </tr>\n",
       "    <tr>\n",
       "      <th>1</th>\n",
       "      <td>housing</td>\n",
       "      <td>0.047964</td>\n",
       "    </tr>\n",
       "    <tr>\n",
       "      <th>4</th>\n",
       "      <td>pdays</td>\n",
       "      <td>0.056593</td>\n",
       "    </tr>\n",
       "    <tr>\n",
       "      <th>0</th>\n",
       "      <td>balance</td>\n",
       "      <td>0.057166</td>\n",
       "    </tr>\n",
       "    <tr>\n",
       "      <th>8</th>\n",
       "      <td>contact_unknown</td>\n",
       "      <td>0.072961</td>\n",
       "    </tr>\n",
       "    <tr>\n",
       "      <th>13</th>\n",
       "      <td>poutcome_success</td>\n",
       "      <td>0.114152</td>\n",
       "    </tr>\n",
       "    <tr>\n",
       "      <th>2</th>\n",
       "      <td>duration</td>\n",
       "      <td>0.504165</td>\n",
       "    </tr>\n",
       "  </tbody>\n",
       "</table>\n",
       "</div>"
      ],
      "text/plain": [
       "            features  importance\n",
       "14  poutcome_unknown    0.001403\n",
       "7   contact_cellular    0.004497\n",
       "5           previous    0.008046\n",
       "12         month_sep    0.013232\n",
       "10         month_may    0.014919\n",
       "3           campaign    0.015044\n",
       "11         month_oct    0.019705\n",
       "9          month_mar    0.027155\n",
       "6          age_group    0.042998\n",
       "1            housing    0.047964\n",
       "4              pdays    0.056593\n",
       "0            balance    0.057166\n",
       "8    contact_unknown    0.072961\n",
       "13  poutcome_success    0.114152\n",
       "2           duration    0.504165"
      ]
     },
     "execution_count": 43,
     "metadata": {},
     "output_type": "execute_result"
    }
   ],
   "source": [
    "data.sort_values(by='importance')"
   ]
  },
  {
   "cell_type": "code",
   "execution_count": 44,
   "id": "c48e29e9",
   "metadata": {},
   "outputs": [
    {
     "name": "stderr",
     "output_type": "stream",
     "text": [
      "[I 2025-06-17 19:41:36,189] A new study created in memory with name: gradient boost\n",
      "[I 2025-06-17 19:41:52,468] Trial 0 finished with value: 0.7891708318673716 and parameters: {'n_estimators': 130, 'max_depth': 22, 'min_samples_leaf': 9}. Best is trial 0 with value: 0.7891708318673716.\n",
      "[I 2025-06-17 19:42:13,654] Trial 1 finished with value: 0.7726587298974101 and parameters: {'n_estimators': 110, 'max_depth': 18, 'min_samples_leaf': 2}. Best is trial 0 with value: 0.7891708318673716.\n",
      "[I 2025-06-17 19:42:25,055] Trial 2 finished with value: 0.7915194294468291 and parameters: {'n_estimators': 133, 'max_depth': 11, 'min_samples_leaf': 6}. Best is trial 2 with value: 0.7915194294468291.\n",
      "[I 2025-06-17 19:42:44,280] Trial 3 finished with value: 0.7777071233559443 and parameters: {'n_estimators': 103, 'max_depth': 29, 'min_samples_leaf': 4}. Best is trial 2 with value: 0.7915194294468291.\n",
      "[I 2025-06-17 19:43:01,702] Trial 4 finished with value: 0.7892809550803527 and parameters: {'n_estimators': 125, 'max_depth': 29, 'min_samples_leaf': 9}. Best is trial 2 with value: 0.7915194294468291.\n",
      "[I 2025-06-17 19:43:16,619] Trial 5 finished with value: 0.7912162964600093 and parameters: {'n_estimators': 171, 'max_depth': 12, 'min_samples_leaf': 5}. Best is trial 2 with value: 0.7915194294468291.\n",
      "[I 2025-06-17 19:43:53,692] Trial 6 finished with value: 0.7847710631475417 and parameters: {'n_estimators': 187, 'max_depth': 18, 'min_samples_leaf': 2}. Best is trial 2 with value: 0.7915194294468291.\n",
      "[I 2025-06-17 19:44:06,836] Trial 7 finished with value: 0.787375985679097 and parameters: {'n_estimators': 129, 'max_depth': 14, 'min_samples_leaf': 7}. Best is trial 2 with value: 0.7915194294468291.\n",
      "[I 2025-06-17 19:44:25,564] Trial 8 finished with value: 0.7830263648518512 and parameters: {'n_estimators': 113, 'max_depth': 20, 'min_samples_leaf': 5}. Best is trial 2 with value: 0.7915194294468291.\n",
      "[I 2025-06-17 19:44:54,388] Trial 9 finished with value: 0.7855282909921386 and parameters: {'n_estimators': 162, 'max_depth': 29, 'min_samples_leaf': 5}. Best is trial 2 with value: 0.7915194294468291.\n",
      "[I 2025-06-17 19:45:04,732] Trial 10 finished with value: 0.7925976152010802 and parameters: {'n_estimators': 147, 'max_depth': 10, 'min_samples_leaf': 7}. Best is trial 10 with value: 0.7925976152010802.\n",
      "[I 2025-06-17 19:45:15,218] Trial 11 finished with value: 0.7932353155668302 and parameters: {'n_estimators': 150, 'max_depth': 10, 'min_samples_leaf': 7}. Best is trial 11 with value: 0.7932353155668302.\n",
      "[I 2025-06-17 19:45:26,208] Trial 12 finished with value: 0.7929104810726895 and parameters: {'n_estimators': 149, 'max_depth': 10, 'min_samples_leaf': 8}. Best is trial 11 with value: 0.7932353155668302.\n",
      "[I 2025-06-17 19:45:42,277] Trial 13 finished with value: 0.7935946457460427 and parameters: {'n_estimators': 152, 'max_depth': 15, 'min_samples_leaf': 10}. Best is trial 13 with value: 0.7935946457460427.\n",
      "[I 2025-06-17 19:45:57,766] Trial 14 finished with value: 0.7914672971001797 and parameters: {'n_estimators': 167, 'max_depth': 14, 'min_samples_leaf': 10}. Best is trial 13 with value: 0.7935946457460427.\n",
      "[I 2025-06-17 19:46:17,411] Trial 15 finished with value: 0.7908185365848406 and parameters: {'n_estimators': 199, 'max_depth': 15, 'min_samples_leaf': 10}. Best is trial 13 with value: 0.7935946457460427.\n",
      "[I 2025-06-17 19:46:38,820] Trial 16 finished with value: 0.7905860158848503 and parameters: {'n_estimators': 157, 'max_depth': 24, 'min_samples_leaf': 8}. Best is trial 13 with value: 0.7935946457460427.\n",
      "[I 2025-06-17 19:46:58,240] Trial 17 finished with value: 0.7927269032806088 and parameters: {'n_estimators': 180, 'max_depth': 16, 'min_samples_leaf': 9}. Best is trial 13 with value: 0.7935946457460427.\n",
      "[I 2025-06-17 19:47:11,799] Trial 18 finished with value: 0.7900990477645056 and parameters: {'n_estimators': 143, 'max_depth': 13, 'min_samples_leaf': 7}. Best is trial 13 with value: 0.7935946457460427.\n",
      "[I 2025-06-17 19:47:34,529] Trial 19 finished with value: 0.7813496898255025 and parameters: {'n_estimators': 142, 'max_depth': 17, 'min_samples_leaf': 3}. Best is trial 13 with value: 0.7935946457460427.\n"
     ]
    },
    {
     "name": "stdout",
     "output_type": "stream",
     "text": [
      "Наилучшие значения гиперпараметров {'n_estimators': 152, 'max_depth': 15, 'min_samples_leaf': 10}\n"
     ]
    }
   ],
   "source": [
    "# реализуйте оптимизацию гиперпараметров с помощью Optuna\n",
    "\n",
    "def optuna_boost(trial):\n",
    "  # задаем пространства поиска гиперпараметров\n",
    "    \n",
    "    n_estimators = trial.suggest_int('n_estimators', 100, 200, 1)\n",
    "    max_depth = trial.suggest_int('max_depth', 10, 30, 1)\n",
    "    min_samples_leaf = trial.suggest_int('min_samples_leaf', 2, 10, 1)\n",
    "\n",
    "  \n",
    "\n",
    "  # создаем модель\n",
    "    model = ensemble.GradientBoostingClassifier(learning_rate=0.05, n_estimators=n_estimators, min_samples_leaf=min_samples_leaf, max_depth=max_depth, random_state=42)\n",
    "\n",
    "   # применим  cross validation с тем же количеством фолдов\n",
    "    score = model_selection.cross_val_score(model, X, y, cv=5, scoring=\"f1\", n_jobs=-1).mean()\n",
    "\n",
    "    return score\n",
    "\n",
    "study = optuna.create_study(study_name=\"gradient boost\", direction=\"maximize\")\n",
    "# ищем лучшую комбинацию гиперпараметров n_trials раз\n",
    "study.optimize(optuna_boost, n_trials=20)\n",
    "\n",
    "print(\"Наилучшие значения гиперпараметров {}\".format(study.best_params))"
   ]
  },
  {
   "cell_type": "code",
   "execution_count": 45,
   "id": "9df60a30",
   "metadata": {},
   "outputs": [
    {
     "name": "stdout",
     "output_type": "stream",
     "text": [
      "              precision    recall  f1-score   support\n",
      "\n",
      "           0       0.84      0.81      0.82      1790\n",
      "           1       0.79      0.82      0.81      1545\n",
      "\n",
      "    accuracy                           0.81      3335\n",
      "   macro avg       0.81      0.82      0.81      3335\n",
      "weighted avg       0.82      0.81      0.82      3335\n",
      "\n"
     ]
    }
   ],
   "source": [
    "model = ensemble.GradientBoostingClassifier(**study.best_params, learning_rate=0.05, random_state=42)\n",
    "model.fit(X_train_transformed, y_train)\n",
    "y_pred = model.predict(X_test_transformed)\n",
    "print(metrics.classification_report(y_test, y_pred))"
   ]
  },
  {
   "cell_type": "code",
   "execution_count": 46,
   "id": "52ec7c59",
   "metadata": {},
   "outputs": [
    {
     "name": "stdout",
     "output_type": "stream",
     "text": [
      "              precision    recall  f1-score   support\n",
      "\n",
      "           0       0.85      0.82      0.83      1790\n",
      "           1       0.79      0.83      0.81      1545\n",
      "\n",
      "    accuracy                           0.82      3335\n",
      "   macro avg       0.82      0.82      0.82      3335\n",
      "weighted avg       0.82      0.82      0.82      3335\n",
      "\n"
     ]
    }
   ],
   "source": [
    "model = ensemble.GradientBoostingClassifier(n_estimators = 132, max_depth = 10, min_samples_leaf = 7, learning_rate=0.05, random_state=42)\n",
    "model.fit(X_train_transformed, y_train)\n",
    "y_pred = model.predict(X_test_transformed)\n",
    "print(metrics.classification_report(y_test, y_pred))"
   ]
  },
  {
   "cell_type": "raw",
   "id": "4d661d61",
   "metadata": {},
   "source": [
    "## Общие выводы по проекту\n",
    "\n",
    "### 1. Анализ данных и подготовка:\n",
    "- Исходный датасет содержал небольшое количество пропусков и выбросов, которые были успешно обработаны\n",
    "- После очистки и подготовки данных получен сбалансированный набор из 10105 записей\n",
    "- Выявлен небольшой дисбаланс классов (46% vs 54%), не требующий специальной обработки\n",
    "\n",
    "### 2. Ключевые факторы, влияющие на открытие депозита:\n",
    "- Продолжительность разговора (duration) - самый важный фактор (важность 0.504)\n",
    "- Успешность предыдущей кампании (poutcome_success) - второй по важности фактор (0.114)\n",
    "- Тип контакта с клиентом (contact_unknown) - третий по важности фактор (0.073)\n",
    "- Баланс счета и возрастная группа также показали значимое влияние\n",
    "\n",
    "### 3. Сравнение моделей:\n",
    "1. Случайный лес:\n",
    "   - Лучшая точность: 0.83\n",
    "   - Наиболее стабильные результаты\n",
    "   - Оптимальный баланс между сложностью и качеством\n",
    "\n",
    "2. Градиентный бустинг:\n",
    "   - Точность: 0.82\n",
    "   - Хорошая интерпретируемость результатов\n",
    "   - Эффективное определение важности признаков\n",
    "\n",
    "3. Стекинг:\n",
    "   - Точность: 0.82\n",
    "   - Подтвердил надежность базовых моделей\n",
    "   - Не показал значительного улучшения\n",
    "\n",
    "### 4. Практические рекомендации:\n",
    "1. Для предсказания вероятности открытия депозита рекомендуется использовать модель случайного леса\n",
    "2. При работе с клиентами следует уделять особое внимание:\n",
    "   - Длительности разговора с клиентом\n",
    "   - Клиентам, успешно участвовавшим в предыдущих кампаниях\n",
    "   - Прямым контактам с клиентом (избегать неизвестных каналов связи)\n",
    "3. Оптимальное время для проведения кампаний:\n",
    "   - Избегать мая и июля (наибольшее количество отказов)\n",
    "   - Использовать март, октябрь и сентябрь (более высокая успешность)\n",
    "\n",
    "### 5. Возможные улучшения:\n",
    "1. Сбор дополнительных данных о клиентах\n",
    "2. Тестирование других алгоритмов машинного обучения\n",
    "3. Более глубокий анализ взаимодействия признаков\n",
    "4. Разработка специфических стратегий для разных возрастных групп\n"
   ]
  }
 ],
 "metadata": {
  "kernelspec": {
   "display_name": "Python 3",
   "language": "python",
   "name": "python3"
  },
  "language_info": {
   "codemirror_mode": {
    "name": "ipython",
    "version": 3
   },
   "file_extension": ".py",
   "mimetype": "text/x-python",
   "name": "python",
   "nbconvert_exporter": "python",
   "pygments_lexer": "ipython3",
   "version": "3.12.4"
  }
 },
 "nbformat": 4,
 "nbformat_minor": 5
}
