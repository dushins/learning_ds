{
 "cells": [
  {
   "cell_type": "code",
   "execution_count": 1,
   "metadata": {},
   "outputs": [],
   "source": [
    "import  pandas as pd"
   ]
  },
  {
   "cell_type": "code",
   "execution_count": 7,
   "metadata": {},
   "outputs": [
    {
     "data": {
      "text/plain": [
       "(386803, 17)"
      ]
     },
     "execution_count": 7,
     "metadata": {},
     "output_type": "execute_result"
    }
   ],
   "source": [
    "df = pd.read_csv('data/hotels.csv', sep=',')\n",
    "hotels = df.copy()\n",
    "hotels.shape"
   ]
  },
  {
   "cell_type": "code",
   "execution_count": 8,
   "metadata": {},
   "outputs": [
    {
     "name": "stdout",
     "output_type": "stream",
     "text": [
      "<class 'pandas.core.frame.DataFrame'>\n",
      "RangeIndex: 386803 entries, 0 to 386802\n",
      "Data columns (total 17 columns):\n",
      " #   Column                                      Non-Null Count   Dtype  \n",
      "---  ------                                      --------------   -----  \n",
      " 0   hotel_address                               386803 non-null  object \n",
      " 1   additional_number_of_scoring                386803 non-null  int64  \n",
      " 2   review_date                                 386803 non-null  object \n",
      " 3   average_score                               386803 non-null  float64\n",
      " 4   hotel_name                                  386803 non-null  object \n",
      " 5   reviewer_nationality                        386803 non-null  object \n",
      " 6   negative_review                             386803 non-null  object \n",
      " 7   review_total_negative_word_counts           386803 non-null  int64  \n",
      " 8   total_number_of_reviews                     386803 non-null  int64  \n",
      " 9   positive_review                             386803 non-null  object \n",
      " 10  review_total_positive_word_counts           386803 non-null  int64  \n",
      " 11  total_number_of_reviews_reviewer_has_given  386803 non-null  int64  \n",
      " 12  reviewer_score                              386803 non-null  float64\n",
      " 13  tags                                        386803 non-null  object \n",
      " 14  days_since_review                           386803 non-null  object \n",
      " 15  lat                                         384355 non-null  float64\n",
      " 16  lng                                         384355 non-null  float64\n",
      "dtypes: float64(4), int64(5), object(8)\n",
      "memory usage: 50.2+ MB\n"
     ]
    }
   ],
   "source": [
    "hotels.info()"
   ]
  },
  {
   "cell_type": "code",
   "execution_count": 1,
   "metadata": {},
   "outputs": [
    {
     "ename": "IndentationError",
     "evalue": "unexpected indent (1528104961.py, line 3)",
     "output_type": "error",
     "traceback": [
      "\u001b[0;36m  Cell \u001b[0;32mIn[1], line 3\u001b[0;36m\u001b[0m\n\u001b[0;31m    X = df.drop(['reviewer_score'], axis = 1)\u001b[0m\n\u001b[0m    ^\u001b[0m\n\u001b[0;31mIndentationError\u001b[0m\u001b[0;31m:\u001b[0m unexpected indent\n"
     ]
    }
   ],
   "source": [
    "# Разбиваем датафрейм на части, необходимые для обучения и тестирования модели  \n",
    "    # Х — данные с информацией об отелях, у — целевая переменная (рейтинги отелей)  \n",
    "    X = df.drop(['reviewer_score'], axis = 1)  \n",
    "    y = df['reviewer_score']  \n",
    "      \n",
    "    # Загружаем специальный инструмент для разбивки:  \n",
    "    from sklearn.model_selection import train_test_split  \n",
    "      \n",
    "    # Наборы данных с меткой \"train\" будут использоваться для обучения модели, \"test\" — для тестирования.  \n",
    "    # Для тестирования мы будем использовать 25 % от исходного датасета.  \n",
    "    X_train, X_test, y_train, y_test = train_test_split(X, y, test_size=0.25, random_state=42)"
   ]
  },
  {
   "cell_type": "code",
   "execution_count": null,
   "metadata": {},
   "outputs": [],
   "source": []
  }
 ],
 "metadata": {
  "kernelspec": {
   "display_name": "Python 3",
   "language": "python",
   "name": "python3"
  },
  "language_info": {
   "codemirror_mode": {
    "name": "ipython",
    "version": 3
   },
   "file_extension": ".py",
   "mimetype": "text/x-python",
   "name": "python",
   "nbconvert_exporter": "python",
   "pygments_lexer": "ipython3",
   "version": "3.12.4"
  }
 },
 "nbformat": 4,
 "nbformat_minor": 2
}
