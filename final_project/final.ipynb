{
 "cells": [
  {
   "metadata": {},
   "cell_type": "markdown",
   "source": [
    "# Прогнозирование цен на Airbnb\n",
    "Данный проект направлен на прогнозирование стоимости одной ночи проживания. Итоговую модель можно использовать как для разместителей объявлений, чтобы назначить наиболее конкурентную стоимость ночи и увеличить среднюю загрузку за период, так и для туристов, чтобы выбрать наиболее привлекательное для них предложение.\n",
    "Целевой метрикой будет метрика $R^2$, необходимо получить значение метрики не менее 0,7"
   ],
   "id": "f8a8f4d1e6d3dd67"
  },
  {
   "metadata": {},
   "cell_type": "markdown",
   "source": "# Загрузка данных и импорт необходимых библиотек",
   "id": "4eecbbf5be11bcaf"
  },
  {
   "cell_type": "code",
   "id": "initial_id",
   "metadata": {
    "collapsed": true,
    "ExecuteTime": {
     "end_time": "2025-08-12T17:31:57.085189Z",
     "start_time": "2025-08-12T17:31:57.070276Z"
    }
   },
   "source": [
    "# импортируем необходимые библиотеки\n",
    "import pandas as pd\n",
    "import numpy as np\n",
    "import matplotlib.pyplot as plt\n",
    "import seaborn as sns\n",
    "import scipy.stats as stats\n",
    "from sklearn.dummy import DummyRegressor\n",
    "from sklearn.model_selection import train_test_split\n",
    "from sklearn import metrics\n",
    "from sklearn.tree import DecisionTreeRegressor\n",
    "from sklearn.ensemble import RandomForestRegressor\n",
    "from sklearn.ensemble import GradientBoostingRegressor\n",
    "from sklearn.feature_selection import SelectKBest\n",
    "from sklearn import model_selection\n",
    "from hyperopt import hp, fmin, tpe, Trials\n",
    "from sklearn.base import BaseEstimator, TransformerMixin\n",
    "from sklearn.pipeline import Pipeline\n",
    "\n"
   ],
   "outputs": [],
   "execution_count": 316
  },
  {
   "metadata": {
    "ExecuteTime": {
     "end_time": "2025-08-12T17:32:03.652494Z",
     "start_time": "2025-08-12T17:31:57.098008Z"
    }
   },
   "cell_type": "code",
   "source": [
    "# загружаем данные\n",
    "airnbnb_data = pd.read_csv('data/train.csv')\n",
    "data = airnbnb_data.copy()\n",
    "data.head()"
   ],
   "id": "a0a413cff02e2b4a",
   "outputs": [
    {
     "data": {
      "text/plain": [
       "                    id                                               name  \\\n",
       "0  1234376912864523021               Spacious Garden Apt in Center Square   \n",
       "1   887167811237271928                                     The Comfort II   \n",
       "2   938271786418327576                    Knickerbocker 3 The Argus Hotel   \n",
       "3   898743867240851780  Airy 5Br-2Ba,Kids Rm, 6TVs,Pvt Fence-yard&Park...   \n",
       "4  1005978346817864540  Massive 4BD/3BA 2-Fl Townhouse Apt Downtown Al...   \n",
       "\n",
       "                                         description  \\\n",
       "0  Nestled in the vibrant heart of the historic C...   \n",
       "1  Your family will be close to everything when y...   \n",
       "2  Large queen room with queen pull out couch loc...   \n",
       "3  Whatever brings you to Albany, New York – wish...   \n",
       "4  Stay in our 4-bedroom townhouse-style 2-story ...   \n",
       "\n",
       "                               neighborhood_overview    host_id  host_name  \\\n",
       "0                                                NaN  564967431  Stephanie   \n",
       "1                                                NaN  459472925    Gabriel   \n",
       "2  The Argus Hotel is located directly on Washing...  526358730      Argus   \n",
       "3                                                NaN  516414095    Rashawn   \n",
       "4  + 92 Walkscore<br />+ 5-minute walk to MVP Are...   44434571       Earl   \n",
       "\n",
       "   host_since host_location  \\\n",
       "0  2024-03-02           NaN   \n",
       "1  2022-05-16    Albany, NY   \n",
       "2  2023-07-17           NaN   \n",
       "3  2023-05-24    Albany, NY   \n",
       "4  2015-09-17           NaN   \n",
       "\n",
       "                                          host_about  host_response_time  ...  \\\n",
       "0                                                NaN      within an hour  ...   \n",
       "1                                                NaN  within a few hours  ...   \n",
       "2                                                NaN      within an hour  ...   \n",
       "3                                                NaN      within an hour  ...   \n",
       "4  I grew up in Cebu, Philippines and moved to Ne...      within an hour  ...   \n",
       "\n",
       "  last_review review_scores_rating review_scores_accuracy  \\\n",
       "0  2024-10-28                 5.00                   5.00   \n",
       "1  2025-02-17                 4.73                   4.69   \n",
       "2         NaN                  NaN                    NaN   \n",
       "3  2025-01-26                 4.88                   4.88   \n",
       "4  2025-01-26                 4.80                   4.86   \n",
       "\n",
       "  review_scores_cleanliness  review_scores_checkin  \\\n",
       "0                      5.00                   5.00   \n",
       "1                      4.69                   4.92   \n",
       "2                       NaN                    NaN   \n",
       "3                      4.86                   4.94   \n",
       "4                      4.84                   4.86   \n",
       "\n",
       "   review_scores_communication review_scores_location review_scores_value  \\\n",
       "0                         5.00                   5.00                5.00   \n",
       "1                         5.00                   4.12                4.65   \n",
       "2                          NaN                    NaN                 NaN   \n",
       "3                         4.98                   4.80                4.92   \n",
       "4                         4.90                   4.61                4.76   \n",
       "\n",
       "  reviews_per_month    city  \n",
       "0              0.44  Albany  \n",
       "1              1.23  Albany  \n",
       "2               NaN  Albany  \n",
       "3              2.36  Albany  \n",
       "4              2.99  Albany  \n",
       "\n",
       "[5 rows x 55 columns]"
      ],
      "text/html": [
       "<div>\n",
       "<style scoped>\n",
       "    .dataframe tbody tr th:only-of-type {\n",
       "        vertical-align: middle;\n",
       "    }\n",
       "\n",
       "    .dataframe tbody tr th {\n",
       "        vertical-align: top;\n",
       "    }\n",
       "\n",
       "    .dataframe thead th {\n",
       "        text-align: right;\n",
       "    }\n",
       "</style>\n",
       "<table border=\"1\" class=\"dataframe\">\n",
       "  <thead>\n",
       "    <tr style=\"text-align: right;\">\n",
       "      <th></th>\n",
       "      <th>id</th>\n",
       "      <th>name</th>\n",
       "      <th>description</th>\n",
       "      <th>neighborhood_overview</th>\n",
       "      <th>host_id</th>\n",
       "      <th>host_name</th>\n",
       "      <th>host_since</th>\n",
       "      <th>host_location</th>\n",
       "      <th>host_about</th>\n",
       "      <th>host_response_time</th>\n",
       "      <th>...</th>\n",
       "      <th>last_review</th>\n",
       "      <th>review_scores_rating</th>\n",
       "      <th>review_scores_accuracy</th>\n",
       "      <th>review_scores_cleanliness</th>\n",
       "      <th>review_scores_checkin</th>\n",
       "      <th>review_scores_communication</th>\n",
       "      <th>review_scores_location</th>\n",
       "      <th>review_scores_value</th>\n",
       "      <th>reviews_per_month</th>\n",
       "      <th>city</th>\n",
       "    </tr>\n",
       "  </thead>\n",
       "  <tbody>\n",
       "    <tr>\n",
       "      <th>0</th>\n",
       "      <td>1234376912864523021</td>\n",
       "      <td>Spacious Garden Apt in Center Square</td>\n",
       "      <td>Nestled in the vibrant heart of the historic C...</td>\n",
       "      <td>NaN</td>\n",
       "      <td>564967431</td>\n",
       "      <td>Stephanie</td>\n",
       "      <td>2024-03-02</td>\n",
       "      <td>NaN</td>\n",
       "      <td>NaN</td>\n",
       "      <td>within an hour</td>\n",
       "      <td>...</td>\n",
       "      <td>2024-10-28</td>\n",
       "      <td>5.00</td>\n",
       "      <td>5.00</td>\n",
       "      <td>5.00</td>\n",
       "      <td>5.00</td>\n",
       "      <td>5.00</td>\n",
       "      <td>5.00</td>\n",
       "      <td>5.00</td>\n",
       "      <td>0.44</td>\n",
       "      <td>Albany</td>\n",
       "    </tr>\n",
       "    <tr>\n",
       "      <th>1</th>\n",
       "      <td>887167811237271928</td>\n",
       "      <td>The Comfort II</td>\n",
       "      <td>Your family will be close to everything when y...</td>\n",
       "      <td>NaN</td>\n",
       "      <td>459472925</td>\n",
       "      <td>Gabriel</td>\n",
       "      <td>2022-05-16</td>\n",
       "      <td>Albany, NY</td>\n",
       "      <td>NaN</td>\n",
       "      <td>within a few hours</td>\n",
       "      <td>...</td>\n",
       "      <td>2025-02-17</td>\n",
       "      <td>4.73</td>\n",
       "      <td>4.69</td>\n",
       "      <td>4.69</td>\n",
       "      <td>4.92</td>\n",
       "      <td>5.00</td>\n",
       "      <td>4.12</td>\n",
       "      <td>4.65</td>\n",
       "      <td>1.23</td>\n",
       "      <td>Albany</td>\n",
       "    </tr>\n",
       "    <tr>\n",
       "      <th>2</th>\n",
       "      <td>938271786418327576</td>\n",
       "      <td>Knickerbocker 3 The Argus Hotel</td>\n",
       "      <td>Large queen room with queen pull out couch loc...</td>\n",
       "      <td>The Argus Hotel is located directly on Washing...</td>\n",
       "      <td>526358730</td>\n",
       "      <td>Argus</td>\n",
       "      <td>2023-07-17</td>\n",
       "      <td>NaN</td>\n",
       "      <td>NaN</td>\n",
       "      <td>within an hour</td>\n",
       "      <td>...</td>\n",
       "      <td>NaN</td>\n",
       "      <td>NaN</td>\n",
       "      <td>NaN</td>\n",
       "      <td>NaN</td>\n",
       "      <td>NaN</td>\n",
       "      <td>NaN</td>\n",
       "      <td>NaN</td>\n",
       "      <td>NaN</td>\n",
       "      <td>NaN</td>\n",
       "      <td>Albany</td>\n",
       "    </tr>\n",
       "    <tr>\n",
       "      <th>3</th>\n",
       "      <td>898743867240851780</td>\n",
       "      <td>Airy 5Br-2Ba,Kids Rm, 6TVs,Pvt Fence-yard&amp;Park...</td>\n",
       "      <td>Whatever brings you to Albany, New York – wish...</td>\n",
       "      <td>NaN</td>\n",
       "      <td>516414095</td>\n",
       "      <td>Rashawn</td>\n",
       "      <td>2023-05-24</td>\n",
       "      <td>Albany, NY</td>\n",
       "      <td>NaN</td>\n",
       "      <td>within an hour</td>\n",
       "      <td>...</td>\n",
       "      <td>2025-01-26</td>\n",
       "      <td>4.88</td>\n",
       "      <td>4.88</td>\n",
       "      <td>4.86</td>\n",
       "      <td>4.94</td>\n",
       "      <td>4.98</td>\n",
       "      <td>4.80</td>\n",
       "      <td>4.92</td>\n",
       "      <td>2.36</td>\n",
       "      <td>Albany</td>\n",
       "    </tr>\n",
       "    <tr>\n",
       "      <th>4</th>\n",
       "      <td>1005978346817864540</td>\n",
       "      <td>Massive 4BD/3BA 2-Fl Townhouse Apt Downtown Al...</td>\n",
       "      <td>Stay in our 4-bedroom townhouse-style 2-story ...</td>\n",
       "      <td>+ 92 Walkscore&lt;br /&gt;+ 5-minute walk to MVP Are...</td>\n",
       "      <td>44434571</td>\n",
       "      <td>Earl</td>\n",
       "      <td>2015-09-17</td>\n",
       "      <td>NaN</td>\n",
       "      <td>I grew up in Cebu, Philippines and moved to Ne...</td>\n",
       "      <td>within an hour</td>\n",
       "      <td>...</td>\n",
       "      <td>2025-01-26</td>\n",
       "      <td>4.80</td>\n",
       "      <td>4.86</td>\n",
       "      <td>4.84</td>\n",
       "      <td>4.86</td>\n",
       "      <td>4.90</td>\n",
       "      <td>4.61</td>\n",
       "      <td>4.76</td>\n",
       "      <td>2.99</td>\n",
       "      <td>Albany</td>\n",
       "    </tr>\n",
       "  </tbody>\n",
       "</table>\n",
       "<p>5 rows × 55 columns</p>\n",
       "</div>"
      ]
     },
     "execution_count": 317,
     "metadata": {},
     "output_type": "execute_result"
    }
   ],
   "execution_count": 317
  },
  {
   "metadata": {
    "ExecuteTime": {
     "end_time": "2025-08-12T17:32:03.959851Z",
     "start_time": "2025-08-12T17:32:03.714286Z"
    }
   },
   "cell_type": "code",
   "source": "data.info()",
   "id": "da35c4d816928a96",
   "outputs": [
    {
     "name": "stdout",
     "output_type": "stream",
     "text": [
      "<class 'pandas.core.frame.DataFrame'>\n",
      "RangeIndex: 261894 entries, 0 to 261893\n",
      "Data columns (total 55 columns):\n",
      " #   Column                       Non-Null Count   Dtype  \n",
      "---  ------                       --------------   -----  \n",
      " 0   id                           261894 non-null  int64  \n",
      " 1   name                         261894 non-null  object \n",
      " 2   description                  255801 non-null  object \n",
      " 3   neighborhood_overview        127687 non-null  object \n",
      " 4   host_id                      261894 non-null  int64  \n",
      " 5   host_name                    261780 non-null  object \n",
      " 6   host_since                   261771 non-null  object \n",
      " 7   host_location                195064 non-null  object \n",
      " 8   host_about                   135708 non-null  object \n",
      " 9   host_response_time           221647 non-null  object \n",
      " 10  host_response_rate           221647 non-null  object \n",
      " 11  host_acceptance_rate         239348 non-null  object \n",
      " 12  host_is_superhost            254521 non-null  object \n",
      " 13  host_neighbourhood           102915 non-null  object \n",
      " 14  host_listings_count          261771 non-null  float64\n",
      " 15  host_total_listings_count    261771 non-null  float64\n",
      " 16  host_verifications           261771 non-null  object \n",
      " 17  host_has_profile_pic         261771 non-null  object \n",
      " 18  host_identity_verified       261771 non-null  object \n",
      " 19  neighbourhood                127688 non-null  object \n",
      " 20  neighbourhood_cleansed       253201 non-null  object \n",
      " 21  latitude                     261894 non-null  float64\n",
      " 22  longitude                    261894 non-null  float64\n",
      " 23  property_type                261894 non-null  object \n",
      " 24  room_type                    261894 non-null  object \n",
      " 25  accommodates                 261894 non-null  int64  \n",
      " 26  bathrooms                    261769 non-null  float64\n",
      " 27  bathrooms_text               261660 non-null  object \n",
      " 28  bedrooms                     261542 non-null  float64\n",
      " 29  beds                         261404 non-null  float64\n",
      " 30  amenities                    261894 non-null  object \n",
      " 31  price                        261894 non-null  float64\n",
      " 32  has_availability             259608 non-null  object \n",
      " 33  availability_30              261894 non-null  int64  \n",
      " 34  availability_60              261894 non-null  int64  \n",
      " 35  availability_90              261894 non-null  int64  \n",
      " 36  availability_365             261894 non-null  int64  \n",
      " 37  number_of_reviews            261894 non-null  int64  \n",
      " 38  number_of_reviews_ltm        261894 non-null  int64  \n",
      " 39  number_of_reviews_l30d       261894 non-null  int64  \n",
      " 40  availability_eoy             122229 non-null  float64\n",
      " 41  number_of_reviews_ly         122229 non-null  float64\n",
      " 42  estimated_occupancy_l365d    122229 non-null  float64\n",
      " 43  estimated_revenue_l365d      122229 non-null  float64\n",
      " 44  first_review                 210943 non-null  object \n",
      " 45  last_review                  210943 non-null  object \n",
      " 46  review_scores_rating         210942 non-null  float64\n",
      " 47  review_scores_accuracy       210935 non-null  float64\n",
      " 48  review_scores_cleanliness    210934 non-null  float64\n",
      " 49  review_scores_checkin        210927 non-null  float64\n",
      " 50  review_scores_communication  210933 non-null  float64\n",
      " 51  review_scores_location       210929 non-null  float64\n",
      " 52  review_scores_value          210928 non-null  float64\n",
      " 53  reviews_per_month            210943 non-null  float64\n",
      " 54  city                         261894 non-null  object \n",
      "dtypes: float64(20), int64(10), object(25)\n",
      "memory usage: 109.9+ MB\n"
     ]
    }
   ],
   "execution_count": 318
  },
  {
   "metadata": {},
   "cell_type": "markdown",
   "source": "Сразу удалим столбец id, так как все значения в нем уникальные и проверим количество полных дубликатов в данных и удали их\n",
   "id": "13543df43241977c"
  },
  {
   "metadata": {
    "ExecuteTime": {
     "end_time": "2025-08-12T17:32:05.181638Z",
     "start_time": "2025-08-12T17:32:03.970144Z"
    }
   },
   "cell_type": "code",
   "source": [
    "data.drop(['id'], axis=1, inplace=True)\n",
    "print(f'Количество полных дубликатов в данных: {data.duplicated().sum()}')"
   ],
   "id": "b065e8ce1be82ebc",
   "outputs": [
    {
     "name": "stdout",
     "output_type": "stream",
     "text": [
      "Количество полных дубликатов в данных: 37\n"
     ]
    }
   ],
   "execution_count": 319
  },
  {
   "metadata": {
    "ExecuteTime": {
     "end_time": "2025-08-12T17:32:06.293065Z",
     "start_time": "2025-08-12T17:32:05.215043Z"
    }
   },
   "cell_type": "code",
   "source": "data.drop_duplicates(inplace=True)",
   "id": "e3a3f6bcaf84c6a3",
   "outputs": [],
   "execution_count": 320
  },
  {
   "metadata": {},
   "cell_type": "markdown",
   "source": "# Предобработка данных и разведывательный анализ",
   "id": "9247b3cc49654b84"
  },
  {
   "metadata": {},
   "cell_type": "markdown",
   "source": "Подробнее рассмотрим целевой признак",
   "id": "69995231d52ef08"
  },
  {
   "metadata": {
    "ExecuteTime": {
     "end_time": "2025-08-12T17:32:06.335413Z",
     "start_time": "2025-08-12T17:32:06.308912Z"
    }
   },
   "cell_type": "code",
   "source": "data['price'].describe()",
   "id": "8724cc5f8e1bfe04",
   "outputs": [
    {
     "data": {
      "text/plain": [
       "count    261857.000000\n",
       "mean        207.064172\n",
       "std         197.296222\n",
       "min           0.000000\n",
       "25%          81.000000\n",
       "50%         136.000000\n",
       "75%         249.000000\n",
       "max        1000.000000\n",
       "Name: price, dtype: float64"
      ]
     },
     "execution_count": 321,
     "metadata": {},
     "output_type": "execute_result"
    }
   ],
   "execution_count": 321
  },
  {
   "metadata": {},
   "cell_type": "markdown",
   "source": "Можно выделить потенциальные выбросы, такие как объекты с нулевой стоимостью",
   "id": "38910050b981e0c"
  },
  {
   "metadata": {
    "ExecuteTime": {
     "end_time": "2025-08-12T17:32:06.417970Z",
     "start_time": "2025-08-12T17:32:06.343354Z"
    }
   },
   "cell_type": "code",
   "source": "data = data[data['price'] > 0]",
   "id": "89f46228f460fa3",
   "outputs": [],
   "execution_count": 322
  },
  {
   "metadata": {},
   "cell_type": "markdown",
   "source": "Удалив очевидные выбросы, посмотрим на распределение целевой переменной",
   "id": "1a9d01753610201a"
  },
  {
   "metadata": {
    "ExecuteTime": {
     "end_time": "2025-08-12T17:32:06.747034Z",
     "start_time": "2025-08-12T17:32:06.424571Z"
    }
   },
   "cell_type": "code",
   "source": "sns.histplot(data=data, x='price')",
   "id": "d47167bd7f4d44bd",
   "outputs": [
    {
     "data": {
      "text/plain": [
       "<Axes: xlabel='price', ylabel='Count'>"
      ]
     },
     "execution_count": 323,
     "metadata": {},
     "output_type": "execute_result"
    },
    {
     "data": {
      "text/plain": [
       "<Figure size 640x480 with 1 Axes>"
      ],
      "image/png": "[encoded data removed]"
     },
     "metadata": {},
     "output_type": "display_data"
    }
   ],
   "execution_count": 323
  },
  {
   "metadata": {},
   "cell_type": "markdown",
   "source": "распределение напоминает логнормальное",
   "id": "8e608f2203907aeb"
  },
  {
   "metadata": {
    "ExecuteTime": {
     "end_time": "2025-08-12T17:32:07.912643Z",
     "start_time": "2025-08-12T17:32:06.762978Z"
    }
   },
   "cell_type": "code",
   "source": [
    "data['log_price'] = np.log(data['price'])\n",
    "sns.histplot(data['log_price']);"
   ],
   "id": "cef8f45580a7d334",
   "outputs": [
    {
     "data": {
      "text/plain": [
       "<Figure size 640x480 with 1 Axes>"
      ],
      "image/png": "[encoded data removed]"
     },
     "metadata": {},
     "output_type": "display_data"
    }
   ],
   "execution_count": 324
  },
  {
   "metadata": {},
   "cell_type": "markdown",
   "source": "Проверим нормальность распределения с помощью статистических тестов",
   "id": "86215a690c5dd400"
  },
  {
   "metadata": {
    "ExecuteTime": {
     "end_time": "2025-08-12T17:32:07.972635Z",
     "start_time": "2025-08-12T17:32:07.929460Z"
    }
   },
   "cell_type": "code",
   "source": [
    "# Anderson-Darling test\n",
    "result = stats.anderson(data['log_price'], dist='norm')\n",
    "print(f'AD statistic: {result.statistic:.3f}')\n",
    "print('Critical values:', result.critical_values)\n",
    "\n",
    "# D'Agostino's K² test\n",
    "k2, p = stats.normaltest(data['log_price'])\n",
    "print(f'K² statistic: {k2:.3f}, p-value = {p:.3e}')"
   ],
   "id": "e14d5e08bfea2064",
   "outputs": [
    {
     "name": "stdout",
     "output_type": "stream",
     "text": [
      "AD statistic: 958.656\n",
      "Critical values: [0.576 0.656 0.787 0.918 1.092]\n",
      "K² statistic: 5565.170, p-value = 0.000e+00\n"
     ]
    }
   ],
   "execution_count": 325
  },
  {
   "metadata": {
    "ExecuteTime": {
     "end_time": "2025-08-12T17:32:08.002579Z",
     "start_time": "2025-08-12T17:32:07.987384Z"
    }
   },
   "cell_type": "code",
   "source": [
    "print(f'Асимметрия: {stats.skew(data['log_price']):.3f}')\n",
    "print(f'Эксцесс: {stats.kurtosis(data['log_price'], fisher=False):.3f}')\n",
    "print(f'Среднее: {np.mean(data['log_price']):.3f} vs Median: {np.median(data['log_price']):.3f}')"
   ],
   "id": "905030a898b7e980",
   "outputs": [
    {
     "name": "stdout",
     "output_type": "stream",
     "text": [
      "Асимметрия: 0.302\n",
      "Эксцесс: 2.668\n",
      "Среднее: 4.987 vs Median: 4.913\n"
     ]
    }
   ],
   "execution_count": 326
  },
  {
   "metadata": {
    "ExecuteTime": {
     "end_time": "2025-08-12T17:32:08.354959Z",
     "start_time": "2025-08-12T17:32:08.012189Z"
    }
   },
   "cell_type": "code",
   "source": [
    "plt.figure(figsize=(12, 6))\n",
    "plt.hist(data['log_price'], bins=150, density=True, alpha=0.6)\n",
    "mu, std = np.mean(data['log_price']), np.std(data['log_price'])\n",
    "x = np.linspace(mu - 4*std, mu + 4*std, 100)\n",
    "plt.plot(x, stats.norm.pdf(x, mu, std), 'r-', lw=2)\n",
    "plt.show()\n",
    "\n",
    "stats.probplot(data['log_price'], plot=plt)\n",
    "plt.show()"
   ],
   "id": "3638e488029b7732",
   "outputs": [
    {
     "data": {
      "text/plain": [
       "<Figure size 1200x600 with 1 Axes>"
      ],
      "image/png": "[encoded data removed]"
     },
     "metadata": {},
     "output_type": "display_data"
    },
    {
     "data": {
      "text/plain": [
       "<Figure size 640x480 with 1 Axes>"
      ],
      "image/png": "[encoded data removed]"
     },
     "metadata": {},
     "output_type": "display_data"
    }
   ],
   "execution_count": 327
  },
  {
   "metadata": {},
   "cell_type": "markdown",
   "source": "После визуальных и статистических тестов нельзя однозначно что исходное распределение логнормальное, вероятнее всего это смесь нескольких распределений",
   "id": "bbaff99156c5c317"
  },
  {
   "metadata": {
    "ExecuteTime": {
     "end_time": "2025-08-12T17:32:09.927903Z",
     "start_time": "2025-08-12T17:32:08.369909Z"
    }
   },
   "cell_type": "code",
   "source": "data.nunique() / len(data) * 100",
   "id": "366c987883c432e8",
   "outputs": [
    {
     "data": {
      "text/plain": [
       "name                           97.717830\n",
       "description                    89.616049\n",
       "neighborhood_overview          42.453104\n",
       "host_id                        66.296361\n",
       "host_name                      17.025388\n",
       "host_since                      2.151946\n",
       "host_location                   3.891070\n",
       "host_about                     28.826149\n",
       "host_response_time              0.001528\n",
       "host_response_rate              0.038189\n",
       "host_acceptance_rate            0.038571\n",
       "host_is_superhost               0.000764\n",
       "host_neighbourhood              3.150968\n",
       "host_listings_count             0.281452\n",
       "host_total_listings_count       0.341791\n",
       "host_verifications              0.003437\n",
       "host_has_profile_pic            0.000764\n",
       "host_identity_verified          0.000764\n",
       "neighbourhood                   2.858823\n",
       "neighbourhood_cleansed          2.061438\n",
       "latitude                       89.382332\n",
       "longitude                      91.314310\n",
       "property_type                   0.053846\n",
       "room_type                       0.001528\n",
       "accommodates                    0.006110\n",
       "bathrooms                       0.014130\n",
       "bathrooms_text                  0.025205\n",
       "bedrooms                        0.011457\n",
       "beds                            0.016039\n",
       "amenities                      95.484923\n",
       "price                           0.380744\n",
       "has_availability                0.000764\n",
       "availability_30                 0.011839\n",
       "availability_60                 0.023295\n",
       "availability_90                 0.034752\n",
       "availability_365                0.139771\n",
       "number_of_reviews               0.362413\n",
       "number_of_reviews_ltm           0.102728\n",
       "number_of_reviews_l30d          0.017567\n",
       "availability_eoy                0.121441\n",
       "number_of_reviews_ly            0.090890\n",
       "estimated_occupancy_l365d       0.053083\n",
       "estimated_revenue_l365d         3.954845\n",
       "first_review                    1.886533\n",
       "last_review                     1.159034\n",
       "review_scores_rating            0.075232\n",
       "review_scores_accuracy          0.072559\n",
       "review_scores_cleanliness       0.082870\n",
       "review_scores_checkin           0.070650\n",
       "review_scores_communication     0.069886\n",
       "review_scores_location          0.076378\n",
       "review_scores_value             0.078287\n",
       "reviews_per_month               0.519369\n",
       "city                            0.041244\n",
       "log_price                       0.380744\n",
       "dtype: float64"
      ]
     },
     "execution_count": 328,
     "metadata": {},
     "output_type": "execute_result"
    }
   ],
   "execution_count": 328
  },
  {
   "metadata": {},
   "cell_type": "markdown",
   "source": "Удалим неинформативные признаки и признаки с большим количеством уникальных значений",
   "id": "b849b484d99f234b"
  },
  {
   "metadata": {
    "ExecuteTime": {
     "end_time": "2025-08-12T17:32:10.194166Z",
     "start_time": "2025-08-12T17:32:09.946016Z"
    }
   },
   "cell_type": "code",
   "source": "data.drop(['name', 'log_price', 'description', 'host_id', 'host_name', 'host_about', 'host_location', 'neighbourhood_cleansed', 'host_verifications', 'first_review', 'last_review' ], axis=1, inplace=True)",
   "id": "9057fe2ccf622c88",
   "outputs": [],
   "execution_count": 329
  },
  {
   "metadata": {},
   "cell_type": "markdown",
   "source": "Выделим и удалим признаки в которых более 50% пропусков",
   "id": "5581837a153c348"
  },
  {
   "metadata": {
    "ExecuteTime": {
     "end_time": "2025-08-12T17:32:10.741698Z",
     "start_time": "2025-08-12T17:32:10.212090Z"
    }
   },
   "cell_type": "code",
   "source": [
    "for feature in data.columns:\n",
    "    if (data[feature].isna().sum() / len(data) * 100) > 40:\n",
    "        data.drop(feature, axis=1, inplace=True)\n",
    "data.isna().sum() / len(data) * 100"
   ],
   "id": "a7b8e8c96c33641a",
   "outputs": [
    {
     "data": {
      "text/plain": [
       "host_since                      0.046972\n",
       "host_response_time             15.368370\n",
       "host_response_rate             15.368370\n",
       "host_acceptance_rate            8.608930\n",
       "host_is_superhost               2.815670\n",
       "host_listings_count             0.046972\n",
       "host_total_listings_count       0.046972\n",
       "host_has_profile_pic            0.046972\n",
       "host_identity_verified          0.046972\n",
       "latitude                        0.000000\n",
       "longitude                       0.000000\n",
       "property_type                   0.000000\n",
       "room_type                       0.000000\n",
       "accommodates                    0.000000\n",
       "bathrooms                       0.047736\n",
       "bathrooms_text                  0.089362\n",
       "bedrooms                        0.133279\n",
       "beds                            0.187126\n",
       "amenities                       0.000000\n",
       "price                           0.000000\n",
       "has_availability                0.872999\n",
       "availability_30                 0.000000\n",
       "availability_60                 0.000000\n",
       "availability_90                 0.000000\n",
       "availability_365                0.000000\n",
       "number_of_reviews               0.000000\n",
       "number_of_reviews_ltm           0.000000\n",
       "number_of_reviews_l30d          0.000000\n",
       "review_scores_rating           19.443511\n",
       "review_scores_accuracy         19.446184\n",
       "review_scores_cleanliness      19.446566\n",
       "review_scores_checkin          19.449239\n",
       "review_scores_communication    19.446948\n",
       "review_scores_location         19.448475\n",
       "review_scores_value            19.448857\n",
       "reviews_per_month              19.443129\n",
       "city                            0.000000\n",
       "dtype: float64"
      ]
     },
     "execution_count": 330,
     "metadata": {},
     "output_type": "execute_result"
    }
   ],
   "execution_count": 330
  },
  {
   "metadata": {},
   "cell_type": "markdown",
   "source": "Разделим удобства на категории и разобьем на отдельные признаки",
   "id": "5f43ebf67a66a99c"
  },
  {
   "metadata": {
    "ExecuteTime": {
     "end_time": "2025-08-12T17:32:22.969056Z",
     "start_time": "2025-08-12T17:32:10.749888Z"
    }
   },
   "cell_type": "code",
   "source": [
    "basic_amenities = ['essentials', 'hot water', 'heating', 'air conditioning', 'wifi', 'dedicated workspace', 'hangers',\n",
    "                   'bed linens', 'iron', 'clothing storage']\n",
    "\n",
    "kitchen_amenities = ['kitchen', 'refrigerator', 'microwave', 'oven', 'stove', 'cooking basics', 'dishes and silverware',\n",
    "                     'wine glasses', 'coffee maker', 'toaster', 'hot water kettle', 'blender', 'rice maker']\n",
    "\n",
    "safety_amenities = ['smoke alarm', 'carbon monoxide alarm', 'fire extinguisher', 'first aid kit',\n",
    "                    'exterior security cameras', 'safe', 'lock on bedroom door']\n",
    "\n",
    "bathroom_amenities = ['hair dryer', 'shampoo', 'conditioner', 'shower gel', 'body soap', 'bathtub', 'bidet']\n",
    "\n",
    "entertainment_amenities = ['tv', 'netflix', 'hulu', 'amazon prime video', 'sound system', 'board games',\n",
    "                           'books and reading material']\n",
    "\n",
    "laundry_amenities = ['washer', 'dryer', 'drying rack for clothing', 'laundromat nearby']\n",
    "\n",
    "parking_amenities = ['free parking on premises', 'free street parking', 'paid parking']\n",
    "\n",
    "kids_amenities = [\"crib\", \"high chair\", \"children's dinnerware\", \"children's books and toys\", 'baby bath']\n",
    "\n",
    "accessibility_amenities = ['elevator', 'single level home', 'step-free access']\n",
    "\n",
    "outdoor_amenities = ['outdoor furniture', 'bbq grill', 'garden, patio or balcony', 'outdoor dining area']\n",
    "\n",
    "special_amenities = ['pool', 'hot tub', 'gym', 'sauna', 'indoor fireplace', 'beach access']\n",
    "basic_data = []\n",
    "kitchen_data = []\n",
    "safety_data = []\n",
    "parking_data = []\n",
    "accessibility_data = []\n",
    "outdoor_data = []\n",
    "special_data = []\n",
    "kids_data = []\n",
    "laundry_data = []\n",
    "entertainment_data = []\n",
    "bathroom_data = []\n",
    "other_data = []\n",
    "for i in range(len(data)):\n",
    "    words = data['amenities'].iloc[i].replace('[', '').replace(']', '').replace('\"', '').split(', ')\n",
    "    basic_counter = 0\n",
    "    kitchen_counter = 0\n",
    "    safety_counter = 0\n",
    "    parking_counter = 0\n",
    "    accessibility_counter = 0\n",
    "    outdoor_counter = 0\n",
    "    special_counter = 0\n",
    "    kids_counter = 0\n",
    "    laundry_counter = 0\n",
    "    entertainment_counter = 0\n",
    "    bathroom_counter = 0\n",
    "    other_counter = 0\n",
    "    for word in words:\n",
    "        if word.lower() in basic_amenities:\n",
    "            basic_counter += 1\n",
    "        if word.lower() in kitchen_amenities:\n",
    "            kitchen_counter += 1\n",
    "        if word.lower() in safety_amenities:\n",
    "            safety_counter += 1\n",
    "        if word.lower() in parking_amenities:\n",
    "            parking_counter += 1\n",
    "        if word.lower() in accessibility_amenities:\n",
    "            accessibility_counter += 1\n",
    "        if word.lower() in outdoor_amenities:\n",
    "            outdoor_counter += 1\n",
    "        if word.lower() in special_amenities:\n",
    "            special_counter += 1\n",
    "        if word.lower() in kids_amenities:\n",
    "            kids_counter += 1\n",
    "        if word.lower() in laundry_amenities:\n",
    "            laundry_counter += 1\n",
    "        if word.lower() in entertainment_amenities:\n",
    "            entertainment_counter += 1\n",
    "        if word.lower() in bathroom_amenities:\n",
    "            bathroom_counter += 1\n",
    "        else:\n",
    "            other_counter += 1\n",
    "    basic_data.append(basic_counter)\n",
    "    kitchen_data.append(kitchen_counter)\n",
    "    safety_data.append(safety_counter)\n",
    "    parking_data.append(parking_counter)\n",
    "    accessibility_data.append(accessibility_counter)\n",
    "    outdoor_data.append(outdoor_counter)\n",
    "    special_data.append(special_counter)\n",
    "    kids_data.append(kids_counter)\n",
    "    laundry_data.append(laundry_counter)\n",
    "    entertainment_data.append(entertainment_counter)\n",
    "    bathroom_data.append(bathroom_counter)\n",
    "    other_data.append(other_counter)\n",
    "\n",
    "data['basic_amenities'] = basic_data\n",
    "data['kitchen_amenities'] = kitchen_data\n",
    "data['safety_amenities'] = safety_data\n",
    "data['parking_amenities'] = parking_data\n",
    "data['accessibility_amenities'] = accessibility_data\n",
    "data['outdoor_amenities'] = outdoor_data\n",
    "data['kids_amenities'] = kids_data\n",
    "data['laundry_amenities'] = laundry_data\n",
    "data['entertainment_amenities'] = entertainment_data\n",
    "data['bathroom_amenities'] = bathroom_data\n",
    "data['other_amenities'] = other_data\n",
    "data['special_amenities'] = special_data\n",
    "data.drop(['amenities'], axis=1, inplace=True)"
   ],
   "id": "82dda2d0753d86d0",
   "outputs": [],
   "execution_count": 331
  },
  {
   "metadata": {},
   "cell_type": "markdown",
   "source": "Переведем и закодируем время ответа хоста",
   "id": "2a9df1a965996995"
  },
  {
   "metadata": {
    "ExecuteTime": {
     "end_time": "2025-08-12T17:32:23.152918Z",
     "start_time": "2025-08-12T17:32:22.993660Z"
    }
   },
   "cell_type": "code",
   "source": [
    "data['host_response_time'] = data['host_response_time'].fillna('no data')\n",
    "dummies = pd.get_dummies(data['host_response_time'])\n",
    "data = pd.concat([data, dummies], axis=1)\n",
    "data.drop(['host_response_time'], axis=1, inplace=True)\n"
   ],
   "id": "8de3a0cf4f77fbc4",
   "outputs": [],
   "execution_count": 332
  },
  {
   "metadata": {},
   "cell_type": "markdown",
   "source": "Переведем дату появление хоста на airbnb в категориальный признак срока его использования сайта",
   "id": "6efd58315b939630"
  },
  {
   "metadata": {
    "ExecuteTime": {
     "end_time": "2025-08-12T17:32:25.009110Z",
     "start_time": "2025-08-12T17:32:23.162257Z"
    }
   },
   "cell_type": "code",
   "source": [
    "data['host_since'] = pd.to_datetime(data['host_since'])\n",
    "data['host_since_diff'] = 2025 - data['host_since'].dt.year\n",
    "data.drop(['host_since'], axis=1, inplace=True)\n",
    "host_duration = []\n",
    "for i in range(len(data)):\n",
    "    if data['host_since_diff'].iloc[i] < 4:\n",
    "        host_duration.append('less than 4 years')\n",
    "    elif data['host_since_diff'].iloc[i] < 8:\n",
    "        host_duration.append('4 to 8 years')\n",
    "    elif data['host_since_diff'].iloc[i] < 12:\n",
    "        host_duration.append('8 to 12 years')\n",
    "    else:\n",
    "        host_duration.append('more than 12 years')\n",
    "data['host_duration'] = host_duration\n",
    "dummies = pd.get_dummies(data['host_duration'], prefix='host_duration')\n",
    "data = pd.concat([data, dummies], axis=1)\n",
    "data.drop(['host_duration', 'host_since_diff'], axis=1, inplace=True)"
   ],
   "id": "c35dcdac5948b52f",
   "outputs": [],
   "execution_count": 333
  },
  {
   "metadata": {},
   "cell_type": "markdown",
   "source": "Переведем все признаки с условными обозначениями в булевый формат",
   "id": "c4e3568c8ec76e8f"
  },
  {
   "metadata": {
    "ExecuteTime": {
     "end_time": "2025-08-12T17:32:25.106445Z",
     "start_time": "2025-08-12T17:32:25.015820Z"
    }
   },
   "cell_type": "code",
   "source": [
    "data['host_is_superhost'] = data['host_is_superhost'].apply(lambda x: True if x == 't' else False)\n",
    "data['host_has_profile_pic'] = data['host_has_profile_pic'].apply(lambda x: True if x == 't' else False)\n",
    "data['host_identity_verified'] = data['host_identity_verified'].apply(lambda x: True if x == 't' else False)\n",
    "data['has_availability'] = data['has_availability'].apply(lambda x: True if x == 't' else False)"
   ],
   "id": "c51560f178833e71",
   "outputs": [],
   "execution_count": 334
  },
  {
   "metadata": {},
   "cell_type": "markdown",
   "source": "Переведем в категориальный формат и закодируем процент ответов и одобрений хоста",
   "id": "7b58b2844ac92936"
  },
  {
   "metadata": {
    "ExecuteTime": {
     "end_time": "2025-08-12T17:32:28.851035Z",
     "start_time": "2025-08-12T17:32:25.111120Z"
    }
   },
   "cell_type": "code",
   "source": [
    "host_response = []\n",
    "data['host_response_rate'] = data['host_response_rate'].fillna('109%')\n",
    "for i in range(len(data)):\n",
    "    if int((data['host_response_rate'].iloc[i]).replace('%', '')) < 25:\n",
    "        host_response.append('less than 25%')\n",
    "    elif int((data['host_response_rate'].iloc[i]).replace('%', '')) < 50:\n",
    "        host_response.append('25% to 50%')\n",
    "    elif int((data['host_response_rate'].iloc[i]).replace('%', '')) < 75:\n",
    "        host_response.append('50% to 75%')\n",
    "    elif int((data['host_response_rate'].iloc[i]).replace('%', '')) < 90:\n",
    "        host_response.append('75% to 90%')\n",
    "    elif int((data['host_response_rate'].iloc[i]).replace('%', '')) < 100:\n",
    "        host_response.append('90% to 100%')\n",
    "    else:\n",
    "        host_response.append('no data')\n",
    "data['host_response_rate'] = host_response\n",
    "\n",
    "dummies = pd.get_dummies(data['host_response_rate'], prefix='host_response_rate')\n",
    "data = pd.concat([data, dummies], axis=1)\n",
    "data.drop(['host_response_rate'], axis=1, inplace=True)"
   ],
   "id": "4c06569fd4623654",
   "outputs": [],
   "execution_count": 335
  },
  {
   "metadata": {
    "ExecuteTime": {
     "end_time": "2025-08-12T17:32:32.215740Z",
     "start_time": "2025-08-12T17:32:28.862854Z"
    }
   },
   "cell_type": "code",
   "source": [
    "host_acceptance = []\n",
    "data['host_acceptance_rate'] = data['host_acceptance_rate'].fillna('109%')\n",
    "for i in range(len(data)):\n",
    "    if int((data['host_acceptance_rate'].iloc[i]).replace('%', '')) < 25:\n",
    "        host_acceptance.append('less than 25%')\n",
    "    elif int((data['host_acceptance_rate'].iloc[i]).replace('%', '')) < 50:\n",
    "        host_acceptance.append('25% to 50%')\n",
    "    elif int((data['host_acceptance_rate'].iloc[i]).replace('%', '')) < 75:\n",
    "        host_acceptance.append('50% to 75%')\n",
    "    elif int((data['host_acceptance_rate'].iloc[i]).replace('%', '')) < 90:\n",
    "        host_acceptance.append('75% to 90%')\n",
    "    elif int((data['host_acceptance_rate'].iloc[i]).replace('%', '')) < 100:\n",
    "        host_acceptance.append('90% to 100%')\n",
    "    else:\n",
    "        host_acceptance.append('no data')\n",
    "data['host_acceptance_rate'] = host_acceptance\n",
    "dummies = pd.get_dummies(data['host_acceptance_rate'], prefix='host_acceptance')\n",
    "data = pd.concat([data, dummies], axis=1)\n",
    "data.drop(['host_acceptance_rate'], axis=1, inplace=True)"
   ],
   "id": "6808e64fda1e4f0f",
   "outputs": [],
   "execution_count": 336
  },
  {
   "metadata": {},
   "cell_type": "markdown",
   "source": [
    "Закодируем тип комнат\n",
    "\n"
   ],
   "id": "49778448c8927d9a"
  },
  {
   "metadata": {
    "ExecuteTime": {
     "end_time": "2025-08-12T17:32:32.268140Z",
     "start_time": "2025-08-12T17:32:32.220686Z"
    }
   },
   "cell_type": "code",
   "source": [
    "dumies = pd.get_dummies(data['room_type'], prefix='room_type')\n",
    "data = pd.concat([data, dumies], axis=1)\n",
    "data.drop(['room_type'], axis=1, inplace=True)"
   ],
   "id": "c4d377aee423b7f1",
   "outputs": [],
   "execution_count": 337
  },
  {
   "metadata": {},
   "cell_type": "markdown",
   "source": "Выделим 4 наиболее встречающихся типов зданий, все остальные отнесем к \"other\", после чего закодируем признак",
   "id": "3ebbdf9fe33f15b8"
  },
  {
   "metadata": {
    "ExecuteTime": {
     "end_time": "2025-08-12T17:32:32.455978Z",
     "start_time": "2025-08-12T17:32:32.273122Z"
    }
   },
   "cell_type": "code",
   "source": [
    "top_property = data['property_type'].value_counts(normalize=True).nlargest(4).index\n",
    "data['property_type'] = data['property_type'].apply(lambda x: x if x in top_property else 'other')\n",
    "dummies = pd.get_dummies(data['property_type'], prefix='property_type')\n",
    "data = pd.concat([data, dummies], axis=1)\n",
    "data.drop(['property_type'], axis=1, inplace=True)"
   ],
   "id": "4edfa79e6940ba33",
   "outputs": [],
   "execution_count": 338
  },
  {
   "metadata": {},
   "cell_type": "markdown",
   "source": "Закодируем города количеством их вхождений в данные",
   "id": "e084e1a0ba6edf8"
  },
  {
   "metadata": {
    "ExecuteTime": {
     "end_time": "2025-08-12T17:32:32.490619Z",
     "start_time": "2025-08-12T17:32:32.461095Z"
    }
   },
   "cell_type": "code",
   "source": [
    "data['city_encoded'] = data['city'].map(data['city'].value_counts())\n",
    "data.drop(['city'], axis=1, inplace=True)"
   ],
   "id": "386ddb7d72d00ecc",
   "outputs": [],
   "execution_count": 339
  },
  {
   "metadata": {},
   "cell_type": "markdown",
   "source": " Обработаем текстовый признак ванн, выделив их количество и необходимость их делить",
   "id": "39b5eaf49b690748"
  },
  {
   "metadata": {
    "ExecuteTime": {
     "end_time": "2025-08-12T17:32:40.862014Z",
     "start_time": "2025-08-12T17:32:32.495294Z"
    }
   },
   "cell_type": "code",
   "source": [
    "def extract_bath_features(text):\n",
    "    if pd.isna(text):\n",
    "        return np.nan, np.nan\n",
    "\n",
    "    # Разбиваем строку на части\n",
    "    parts = text.split()\n",
    "\n",
    "    # Извлекаем количество ванн (если есть число)\n",
    "    bath_count = None\n",
    "    for part in parts:\n",
    "        # Пытаемся извлечь число (целое или дробное)\n",
    "        cleaned_part = ''.join([c for c in part if c.isdigit() or c == '.'])\n",
    "        if cleaned_part:\n",
    "            try:\n",
    "                bath_count = float(cleaned_part)\n",
    "                break\n",
    "            except ValueError:\n",
    "                continue\n",
    "\n",
    "    # Если число не найдено (например, \"Shared half-bath\"), считаем 1 или 0.5 для half-bath\n",
    "    if bath_count is None:\n",
    "        if 'half' in text.lower():\n",
    "            bath_count = 0.5\n",
    "        else:\n",
    "            bath_count = 1.0  # или 0.0, если \"no bath\"\n",
    "\n",
    "    # Определяем тип ванной (private/shared/half/standard)\n",
    "    bath_type = (\n",
    "        'private' if 'private' in text.lower() else\n",
    "        'shared' if 'shared' in text.lower() else\n",
    "        'half' if 'half' in text.lower() else\n",
    "        'standard'\n",
    "    )\n",
    "\n",
    "    return bath_count, bath_type\n",
    "\n",
    "# Применяем функцию\n",
    "data[['bath_count', 'bath_type']] = data['bathrooms_text'].apply(\n",
    "    lambda x: pd.Series(extract_bath_features(x))\n",
    ")\n",
    "\n",
    "# Заполняем пропуски (если были)\n",
    "data['bath_count'] = data['bath_count'].fillna(0.0)  # или median()\n",
    "data['bath_type'] = data['bath_type'].fillna('unknown')\n",
    "\n",
    "# Дополнительные бинарные признаки\n",
    "data['bath_is_shared'] = data['bathrooms_text'].str.contains('shared', case=False, na=False).astype(int)\n",
    "data['bath_is_half'] = data['bathrooms_text'].str.contains('half', case=False, na=False).astype(int)\n",
    "data.drop(['bathrooms_text'], axis=1, inplace=True)\n",
    "dummies = pd.get_dummies(data['bath_type'], prefix='bath_type')\n",
    "data = pd.concat([data, dummies], axis=1)\n",
    "data.drop(['bath_type'], axis=1, inplace=True)\n",
    "# удалим оставшиеся строки с пропусками\n",
    "data = data.dropna()"
   ],
   "id": "915f5d77c106b55f",
   "outputs": [],
   "execution_count": 340
  },
  {
   "metadata": {},
   "cell_type": "markdown",
   "source": "# Обучение и настройка моделей",
   "id": "c1da3b900a51e2b9"
  },
  {
   "metadata": {
    "ExecuteTime": {
     "end_time": "2025-08-12T17:32:41.659227Z",
     "start_time": "2025-08-12T17:32:40.871877Z"
    }
   },
   "cell_type": "code",
   "source": [
    "# разделим данные на отдельные признаки и целевой признак\n",
    "X = data.drop(['price'], axis=1)\n",
    "y = data['price']\n",
    "X_train, X_test, y_train, y_test = train_test_split(X,y, test_size=0.2, random_state=42)\n",
    "# сразу оставим лишь половину признаков, оставив только наиболее статистически важные\n",
    "selector = SelectKBest(k=40).fit(X_train, y_train).get_feature_names_out()\n",
    "X_train = X_train[selector]\n",
    "X_test = X_test[selector]\n"
   ],
   "id": "c2301926f604a982",
   "outputs": [],
   "execution_count": 341
  },
  {
   "metadata": {},
   "cell_type": "markdown",
   "source": "Создадим baseline модель которая предсказывает медианное значение",
   "id": "7feb7de9858c4fd4"
  },
  {
   "metadata": {
    "ExecuteTime": {
     "end_time": "2025-08-12T17:32:41.677598Z",
     "start_time": "2025-08-12T17:32:41.669863Z"
    }
   },
   "cell_type": "code",
   "source": [
    "baseline = DummyRegressor(strategy=\"median\")\n",
    "baseline.fit(X_train, y_train)\n",
    "print(\"Baseline R^2:\", metrics.r2_score(y_test, baseline.predict(X_test)))"
   ],
   "id": "6a89759a03751dcd",
   "outputs": [
    {
     "name": "stdout",
     "output_type": "stream",
     "text": [
      "Baseline R^2: -0.12911996130277914\n"
     ]
    }
   ],
   "execution_count": 342
  },
  {
   "metadata": {},
   "cell_type": "markdown",
   "source": "Обучим дерево решений",
   "id": "b586922ef576e438"
  },
  {
   "metadata": {
    "ExecuteTime": {
     "end_time": "2025-08-12T17:32:42.465771Z",
     "start_time": "2025-08-12T17:32:41.706111Z"
    }
   },
   "cell_type": "code",
   "source": [
    "dt = DecisionTreeRegressor(max_depth=6, min_samples_leaf=10)\n",
    "dt.fit(X_train, y_train)\n",
    "y_pred = dt.predict(X_test)\n",
    "y_pred_train = dt.predict(X_train)\n",
    "\n",
    "\n",
    "print(f'test score{metrics.r2_score(y_test, y_pred)}')\n",
    "print(f'train score{metrics.r2_score(y_train, y_pred_train)}')"
   ],
   "id": "31ea042f7c191eb9",
   "outputs": [
    {
     "name": "stdout",
     "output_type": "stream",
     "text": [
      "test score0.5586935801549494\n",
      "train score0.5627522468135846\n"
     ]
    }
   ],
   "execution_count": 343
  },
  {
   "metadata": {
    "ExecuteTime": {
     "end_time": "2025-08-12T17:33:24.286928Z",
     "start_time": "2025-08-12T17:32:42.475104Z"
    }
   },
   "cell_type": "code",
   "source": [
    "space={\n",
    "       'max_depth' : hp.quniform('max_depth', 2, 26, 1),\n",
    "       'min_samples_leaf': hp.quniform('min_samples_leaf', 2, 15, 1)\n",
    "      }\n",
    "def hyperopt_dt(params, cv=5, X=X_train, y=y_train, random_state=42):\n",
    "    # функция получает комбинацию гиперпараметров в \"params\"\n",
    "    params = {\n",
    "              'max_depth': int(params['max_depth']),\n",
    "             'min_samples_leaf': int(params['min_samples_leaf'])\n",
    "              }\n",
    "\n",
    "    # используем эту комбинацию для построения модели\n",
    "    model = DecisionTreeRegressor(**params, random_state=random_state)\n",
    "\n",
    "    # обучаем модель\n",
    "\n",
    "\n",
    "\n",
    "\n",
    "    # применим  cross validation с тем же количеством фолдов\n",
    "    score = model_selection.cross_val_score(model, X, y, cv=cv, scoring=\"r2\", n_jobs=-1).mean()\n",
    "\n",
    "    # метрику необходимо минимизировать, поэтому ставим знак минус\n",
    "    return -score\n",
    "\n",
    "\n",
    "# начинаем подбор гиперпараметров\n",
    "\n",
    "trials = Trials() # используется для логирования результатов\n",
    "\n",
    "best_param = fmin(hyperopt_dt, # наша функция\n",
    "          space=space, # пространство гиперпараметров\n",
    "          algo=tpe.suggest, # алгоритм оптимизации, установлен по умолчанию, задавать необязательно\n",
    "          max_evals=20, # максимальное количество итераций\n",
    "          trials=trials, # логирование результатов\n",
    "          rstate=np.random.default_rng(42)# фиксируем для повторяемости результата\n",
    "         )\n",
    "print(\"Наилучшие значения гиперпараметров {}\".format(best_param))"
   ],
   "id": "999f061cb3008766",
   "outputs": [
    {
     "name": "stdout",
     "output_type": "stream",
     "text": [
      "100%|██████████| 20/20 [00:41<00:00,  2.09s/trial, best loss: -0.6340689222963436]\n",
      "Наилучшие значения гиперпараметров {'max_depth': np.float64(17.0), 'min_samples_leaf': np.float64(13.0)}\n"
     ]
    }
   ],
   "execution_count": 344
  },
  {
   "metadata": {
    "ExecuteTime": {
     "end_time": "2025-08-12T17:33:26.129020Z",
     "start_time": "2025-08-12T17:33:24.319362Z"
    }
   },
   "cell_type": "code",
   "source": [
    "dt = DecisionTreeRegressor(max_depth=int(best_param['max_depth']), min_samples_leaf=int(best_param['min_samples_leaf']))\n",
    "dt.fit(X_train, y_train)\n",
    "y_pred = dt.predict(X_test)\n",
    "y_pred_train = dt.predict(X_train)\n",
    "\n",
    "\n",
    "print(f'test score{metrics.r2_score(y_test, y_pred)}')\n",
    "print(f'train score{metrics.r2_score(y_train, y_pred_train)}')"
   ],
   "id": "65a46b0fd34e052",
   "outputs": [
    {
     "name": "stdout",
     "output_type": "stream",
     "text": [
      "test score0.6421606221187357\n",
      "train score0.7605952858772009\n"
     ]
    }
   ],
   "execution_count": 345
  },
  {
   "metadata": {},
   "cell_type": "markdown",
   "source": "Дерево решений неплохо справляется с предсказанием, но получение значение метрики не удовлетворяет заданному значению",
   "id": "e7d4def8b74e4c1a"
  },
  {
   "metadata": {},
   "cell_type": "markdown",
   "source": "Попробуем обучить случайный лес",
   "id": "aac5fcb5c728b5cb"
  },
  {
   "metadata": {
    "ExecuteTime": {
     "end_time": "2025-08-12T17:34:28.405136Z",
     "start_time": "2025-08-12T17:33:26.141484Z"
    }
   },
   "cell_type": "code",
   "source": [
    "rf = RandomForestRegressor(random_state=42, max_depth=10, min_samples_leaf=4, n_estimators=85)\n",
    "rf.fit(X_train, y_train)\n",
    "y_pred = rf.predict(X_test)\n",
    "y_pred_train = rf.predict(X_train)\n",
    "print(f'test score{metrics.r2_score(y_test, y_pred)}')\n",
    "print(f'train score{metrics.r2_score(y_train, y_pred_train)}')"
   ],
   "id": "b78dce5555fa235d",
   "outputs": [
    {
     "name": "stdout",
     "output_type": "stream",
     "text": [
      "test score0.6657131722789615\n",
      "train score0.6945873471055615\n"
     ]
    }
   ],
   "execution_count": 346
  },
  {
   "metadata": {
    "ExecuteTime": {
     "end_time": "2025-08-12T17:42:13.375074Z",
     "start_time": "2025-08-12T17:34:28.568123Z"
    }
   },
   "cell_type": "code",
   "source": [
    "space = {\n",
    "    'max_depth': hp.quniform('max_depth', 2, 10, 1),\n",
    "    'min_samples_leaf': hp.quniform('min_samples_leaf', 2, 15, 1),\n",
    "    'n_estimators': hp.quniform('n_estimators', 10, 100, 1),\n",
    "}\n",
    "def hyperopt_rf(params, cv=5, X=X_train, y=y_train, random_state=42):\n",
    "    params = {\n",
    "        'max_depth': int(params['max_depth']),\n",
    "        'min_samples_leaf': int(params['min_samples_leaf'])\n",
    "    }\n",
    "    model = RandomForestRegressor(**params, random_state=42)\n",
    "    score = model_selection.cross_val_score(model, X, y, cv=cv, scoring=\"r2\", n_jobs=-1).mean()\n",
    "    return -score\n",
    "\n",
    "trials = Trials() # используется для логирования результатов\n",
    "\n",
    "best_param = fmin(hyperopt_rf, # наша функция\n",
    "          space=space, # пространство гиперпараметров\n",
    "          algo=tpe.suggest, # алгоритм оптимизации, установлен по умолчанию, задавать необязательно\n",
    "          max_evals=10, # максимальное количество итераций\n",
    "          trials=trials, # логирование результатов\n",
    "          rstate=np.random.default_rng(42)# фиксируем для повторяемости результата\n",
    "         )\n",
    "print(\"Наилучшие значения гиперпараметров {}\".format(best_param))"
   ],
   "id": "7cccd4900fd2b662",
   "outputs": [
    {
     "name": "stdout",
     "output_type": "stream",
     "text": [
      "100%|██████████| 10/10 [07:44<00:00, 46.47s/trial, best loss: -0.6515432326629129]\n",
      "Наилучшие значения гиперпараметров {'max_depth': np.float64(9.0), 'min_samples_leaf': np.float64(10.0), 'n_estimators': np.float64(83.0)}\n"
     ]
    }
   ],
   "execution_count": 347
  },
  {
   "metadata": {
    "ExecuteTime": {
     "end_time": "2025-08-12T17:43:09.220921Z",
     "start_time": "2025-08-12T17:42:13.440360Z"
    }
   },
   "cell_type": "code",
   "source": [
    "rf = RandomForestRegressor(random_state=42, max_depth=int(best_param['max_depth']), min_samples_leaf=int(best_param['min_samples_leaf']), n_estimators=int(best_param['n_estimators']))\n",
    "rf.fit(X_train, y_train)\n",
    "y_pred = rf.predict(X_test)\n",
    "y_pred_train = rf.predict(X_train)\n",
    "print(f'test score{metrics.r2_score(y_test, y_pred)}')\n",
    "print(f'train score{metrics.r2_score(y_train, y_pred_train)}')"
   ],
   "id": "971156338e649080",
   "outputs": [
    {
     "name": "stdout",
     "output_type": "stream",
     "text": [
      "test score0.6519913665220711\n",
      "train score0.6687363580936202\n"
     ]
    }
   ],
   "execution_count": 348
  },
  {
   "metadata": {
    "ExecuteTime": {
     "end_time": "2025-08-12T17:49:00.462417Z",
     "start_time": "2025-08-12T17:43:09.303201Z"
    }
   },
   "cell_type": "code",
   "source": [
    "gb = GradientBoostingRegressor( #функция потерь\n",
    "    learning_rate=0.2, #темп обучения\n",
    "    n_estimators=1000, #число деревьев\n",
    "    max_depth=3, #максимальная глубина дерева\n",
    "    random_state=42, #генератор случайных чисел,\n",
    "    min_samples_leaf=7\n",
    ")\n",
    "# Обучаем модель\n",
    "gb.fit(X_train, y_train)\n",
    "# Формируем предсказание для тестовой выборки\n",
    "y_pred = gb.predict(X_test)\n",
    "y_pred_train = gb.predict(X_train)\n",
    "\n",
    "print(f'test score{metrics.r2_score(y_test, y_pred)}')\n",
    "print(f'train score{metrics.r2_score(y_train, y_pred_train)}')"
   ],
   "id": "52f902dc823de8dc",
   "outputs": [
    {
     "name": "stdout",
     "output_type": "stream",
     "text": [
      "test score0.7241030015068832\n",
      "train score0.7522296548482615\n"
     ]
    }
   ],
   "execution_count": 349
  },
  {
   "metadata": {
    "ExecuteTime": {
     "end_time": "2025-08-12T17:49:00.905899Z",
     "start_time": "2025-08-12T17:49:00.525369Z"
    }
   },
   "cell_type": "code",
   "source": [
    "# Получение важности признаков\n",
    "importance = gb.feature_importances_\n",
    "feature_namess = X_train.columns\n",
    "# Создание DataFrame для удобства\n",
    "feature_importance = pd.DataFrame({\n",
    "    'Feature': feature_namess,\n",
    "    'Importance': importance\n",
    "}).sort_values('Importance', ascending=False)\n",
    "\n",
    "# Построение графика\n",
    "plt.figure(figsize=(10, 6))\n",
    "sns.barplot(x='Importance', y='Feature', data=feature_importance, )\n",
    "plt.title('Feature Importance (XGBoost)')\n",
    "plt.xlabel('Importance Score')\n",
    "plt.ylabel('Features')\n",
    "plt.tight_layout()\n",
    "plt.show()"
   ],
   "id": "2ad686d3bd34810f",
   "outputs": [
    {
     "data": {
      "text/plain": [
       "<Figure size 1000x600 with 1 Axes>"
      ],
      "image/png": "[encoded data removed]"
     },
     "metadata": {},
     "output_type": "display_data"
    }
   ],
   "execution_count": 350
  },
  {
   "metadata": {},
   "cell_type": "markdown",
   "source": "С помощью использования градиентного бустинга удалось достичь поставленной метрики, однако попробуем еще немного улучшить показатели модели с помощью настройки гиперпараметров",
   "id": "5e0cbb87b2cf2b0d"
  },
  {
   "metadata": {},
   "cell_type": "markdown",
   "source": "Создаем новый трансформер для того чтобы завернуть всю необходимую предобработку в пайплайн",
   "id": "4a67fe723bd9b6e0"
  },
  {
   "metadata": {},
   "cell_type": "markdown",
   "source": "# Подготовка к продакшену",
   "id": "fb4eac8ab42f4cf1"
  },
  {
   "metadata": {
    "ExecuteTime": {
     "end_time": "2025-08-12T18:05:07.036572Z",
     "start_time": "2025-08-12T18:05:06.995867Z"
    }
   },
   "cell_type": "code",
   "source": [
    "class AirbnbFinalFeaturesPreprocessor(BaseEstimator, TransformerMixin):\n",
    "    def __init__(self):\n",
    "        # Категории аментис\n",
    "        self.amenity_categories = {\n",
    "            'basic': ['essentials', 'hot water', 'heating', 'air conditioning', 'wifi',\n",
    "                     'dedicated workspace', 'hangers', 'bed linens', 'iron', 'clothing storage'],\n",
    "            'kitchen': ['kitchen', 'refrigerator', 'microwave', 'oven', 'stove',\n",
    "                       'cooking basics', 'dishes and silverware', 'wine glasses',\n",
    "                       'coffee maker', 'toaster', 'hot water kettle', 'blender', 'rice maker'],\n",
    "            'safety': ['smoke alarm', 'carbon monoxide alarm', 'fire extinguisher',\n",
    "                      'first aid kit', 'exterior security cameras', 'safe', 'lock on bedroom door'],\n",
    "            'bathroom': ['hair dryer', 'shampoo', 'conditioner', 'shower gel',\n",
    "                        'body soap', 'bathtub', 'bidet'],\n",
    "            'outdoor': ['outdoor furniture', 'bbq grill', 'garden, patio or balcony',\n",
    "                       'outdoor dining area'],\n",
    "            'special': ['pool', 'hot tub', 'gym', 'sauna', 'indoor fireplace', 'beach access']\n",
    "        }\n",
    "\n",
    "        # Фиксированный список типов собственности\n",
    "        self.property_types = [\n",
    "            'Entire rental unit',\n",
    "            'Entire home',\n",
    "            'Private room in rental unit'\n",
    "        ]\n",
    "\n",
    "        # Фиксированный список фичей для сохранения\n",
    "        self.final_features = [\n",
    "            'host_listings_count', 'host_total_listings_count', 'latitude',\n",
    "            'longitude', 'accommodates', 'bathrooms', 'bedrooms', 'beds',\n",
    "            'availability_30', 'availability_60', 'availability_90',\n",
    "            'availability_365', 'number_of_reviews_l30d',\n",
    "            'review_scores_rating', 'review_scores_location',\n",
    "            'reviews_per_month', 'basic_amenities', 'kitchen_amenities',\n",
    "            'safety_amenities', 'outdoor_amenities', 'bathroom_amenities',\n",
    "            'other_amenities', 'special_amenities', 'no data',\n",
    "            'within an hour', 'room_type_Entire home/apt',\n",
    "            'room_type_Private room', 'property_type_Entire home',\n",
    "            'property_type_Entire rental unit',\n",
    "            'property_type_Private room in rental unit', 'city_encoded',\n",
    "            'bath_count', 'bath_is_shared', 'bath_type_shared',\n",
    "            'bath_type_standard'\n",
    "        ]\n",
    "\n",
    "        self.city_encoding = {'Albany': 19, 'Amsterdam': 390, 'Antwerp': 271, 'Asheville': 309, 'Athens': 1692, 'Austin': 1282, 'Bangkok': 279, 'Barcelona': 1761, 'Barossa Valley': 27, 'Barwon South West, Vic': 956, 'Belize': 315, 'Bergamo': 573, 'Berlin': 1022, 'Bologna': 616, 'Bordeaux': 712, 'Boston': 352, 'Bozeman': 55, 'Brisbane': 344, 'Bristol': 177, 'Broward County': 2546, 'Brussels': 528, 'Cambridge': 65, 'Cape Town': 269, 'Chicago': 754, 'Clark County, NV': 1787, 'Columbus': 238, 'Copenhagen': 225, 'Crete': 4159, 'Dallas': 543, 'Denver': 442, 'Dublin': 376, 'Edinburgh': 414, 'Euskadi': 973, 'Florence': 1539, 'Fort Worth': 167, 'Geneva': 182, 'Ghent': 93, 'Girona': 3667, 'Greater Manchester': 595, 'Hawaii': 5603, 'Hong Kong': 411, 'Ireland': 2615, 'Istanbul': 189, 'Jersey City': 200, 'Lisbon': 2786, 'London': 5159, 'Los Angeles': 3476, 'Lyon': 552, 'Madrid': 2280, 'Mallorca': 2556, 'Malta': 1625, 'Melbourne': 1609, 'Menorca': 676, 'Mexico City': 655, 'Mid North Coast': 705, 'Milan': 2051, 'Montreal': 842, 'Mornington Peninsula': 720, 'Munich': 416, 'Naples': 1369, 'Nashville': 1210, 'New Brunswick': 400, 'New Orleans': 861, 'New York City': 1822, 'Newark': 145, 'Northern Rivers': 665, 'Oakland': 186, 'Oslo': 144, 'Ottawa': 180, 'Pacific Grove': 34, 'Paris': 6976, 'Portland': 407, 'Porto': 1848, 'Prague': 143, 'Puglia': 6637, 'Quebec City': 233, 'Rhode Island': 579, 'Riga': 377, 'Rio de Janeiro': 3242, 'Rochester': 61, 'Rotterdam': 64, 'Salem, OR': 25, 'San Diego': 1524, 'San Francisco': 526, 'San Mateo County': 277, 'Santa Clara County': 414, 'Santa Cruz County': 256, 'Seattle': 659, 'Sicily': 8186, 'Singapore': 177, 'South Aegean': 4448, 'Sunshine Coast': 987, 'Sydney': 1457, 'Taipei': 39, 'Tasmania': 683, 'The Hague': 90, 'Thessaloniki': 587, 'Toronto': 1256, 'Twin Cities MSA': 532, 'Valencia': 986, 'Vancouver': 256, 'Vaud': 514, 'Venice': 994, 'Victoria': 375, 'Vienna': 1390, 'Washington, D.C': 533, 'Western Australia': 1347, 'Winnipeg': 58}\n",
    "\n",
    "        # Для one-hot кодирования\n",
    "        self.room_type_categories = ['Entire home/apt', 'Private room']\n",
    "        self.response_time_categories = ['no data', 'within an hour']\n",
    "        self.bath_type_categories = ['shared', 'standard']\n",
    "\n",
    "    @staticmethod\n",
    "    def extract_bath_features(text):\n",
    "        if pd.isna(text):\n",
    "            return np.nan, np.nan\n",
    "\n",
    "        text = str(text).lower()  # Приводим к строке и нижнему регистру\n",
    "        parts = text.split()\n",
    "        bath_count = None\n",
    "\n",
    "        for part in parts:\n",
    "            cleaned_part = ''.join([c for c in part if c.isdigit() or c == '.'])\n",
    "            if cleaned_part:\n",
    "                try:\n",
    "                    bath_count = float(cleaned_part)\n",
    "                    break\n",
    "                except ValueError:\n",
    "                    continue\n",
    "\n",
    "        if bath_count is None:\n",
    "            if 'half' in text:\n",
    "                bath_count = 0.5\n",
    "            else:\n",
    "                bath_count = 1.0  # Значение по умолчанию\n",
    "\n",
    "        bath_type = (\n",
    "            'private' if 'private' in text else\n",
    "            'shared' if 'shared' in text else\n",
    "            'standard'\n",
    "        )\n",
    "\n",
    "        return bath_count, bath_type\n",
    "\n",
    "    def fit(self, X, y=None):\n",
    "        # Проверяем наличие обязательных колонок\n",
    "        required_columns = {'amenities', 'room_type', 'host_response_time',\n",
    "                          'bathrooms_text', 'property_type', 'city'}\n",
    "        if not required_columns.issubset(X.columns):\n",
    "            missing = required_columns - set(X.columns)\n",
    "            raise ValueError(f\"Отсутствуют обязательные колонки: {missing}\")\n",
    "        return self\n",
    "\n",
    "    def transform(self, X):\n",
    "        if not isinstance(X, pd.DataFrame):\n",
    "            X = pd.DataFrame(X)\n",
    "\n",
    "        X_transformed = X.copy()\n",
    "\n",
    "        numeric_cols = ['host_listings_count', 'host_total_listings_count', 'latitude',\n",
    "                      'longitude', 'accommodates', 'bathrooms', 'bedrooms', 'beds',\n",
    "                      'availability_30', 'availability_60', 'availability_90',\n",
    "                      'availability_365', 'number_of_reviews_l30d',\n",
    "                      'review_scores_rating', 'review_scores_location',\n",
    "                      'reviews_per_month']\n",
    "\n",
    "        for col in numeric_cols:\n",
    "            if col in X_transformed.columns:\n",
    "                X_transformed[col] = X_transformed[col].fillna(0)\n",
    "\n",
    "        # 1. Обработка аментис\n",
    "        X_transformed['amenities'] = X_transformed['amenities'].fillna('[]')\n",
    "        def process_amenities(amenities_str):\n",
    "            amenities_str = str(amenities_str).lower()\n",
    "            counts = {f'{cat}_amenities': 0 for cat in self.amenity_categories}\n",
    "            counts['other_amenities'] = 0\n",
    "\n",
    "            amenities_list = amenities_str.replace('[', '').replace(']', '').replace('\"', '').split(',')\n",
    "\n",
    "            for amenity in amenities_list:\n",
    "                amenity = amenity.strip()\n",
    "                found = False\n",
    "                for category, items in self.amenity_categories.items():\n",
    "                    if amenity in items:\n",
    "                        counts[f'{category}_amenities'] += 1\n",
    "                        found = True\n",
    "                        break\n",
    "                if not found:\n",
    "                    counts['other_amenities'] += 1\n",
    "\n",
    "            return pd.Series(counts)\n",
    "\n",
    "        amenities_counts = X_transformed['amenities'].apply(process_amenities)\n",
    "        X_transformed = pd.concat([X_transformed, amenities_counts], axis=1)\n",
    "\n",
    "        # 2. One-hot кодирование room_type\n",
    "        if 'room_type' in X_transformed.columns:\n",
    "            X_transformed['room_type'] = X_transformed['room_type'].fillna('Unknown')\n",
    "        if 'room_type' in X_transformed.columns:\n",
    "            for category in self.room_type_categories:\n",
    "                col_name = f'room_type_{category.replace(\"/\", \"_\")}'\n",
    "                X_transformed[col_name] = (X_transformed['room_type'] == category).astype(int)\n",
    "\n",
    "        # 3. Обработка host_response_time\n",
    "\n",
    "        if 'host_response_time' in X_transformed.columns:\n",
    "            X_transformed['host_response_time'] = X_transformed['host_response_time'].fillna('no data')\n",
    "            for category in self.response_time_categories:\n",
    "                X_transformed[category] = (X_transformed['host_response_time'] == category).astype(int)\n",
    "\n",
    "        # 4. Обработка bathrooms_text\n",
    "        if 'bathrooms_text' in X_transformed.columns:\n",
    "            X_transformed['bathrooms_text'] = X_transformed['bathrooms_text'].fillna('1 bath')\n",
    "        if 'bathrooms_text' in X_transformed.columns:\n",
    "            bath_features = X_transformed['bathrooms_text'].apply(self.extract_bath_features)\n",
    "            X_transformed['bath_count'] = [x[0] for x in bath_features]\n",
    "            X_transformed['bath_type'] = [x[1] for x in bath_features]\n",
    "\n",
    "            X_transformed['bath_count'] = X_transformed['bath_count'].fillna(1.0)  # Значение по умолчанию\n",
    "            X_transformed['bath_type'] = X_transformed['bath_type'].fillna('standard')\n",
    "\n",
    "            X_transformed['bath_is_shared'] = X_transformed['bathrooms_text'].str.contains(\n",
    "                'shared', case=False, na=False).astype(int)\n",
    "\n",
    "            for category in self.bath_type_categories:\n",
    "                col_name = f'bath_type_{category}'\n",
    "                X_transformed[col_name] = (X_transformed['bath_type'] == category).astype(int)\n",
    "\n",
    "        # 5. Обработка property_type\n",
    "        if 'property_type' in X_transformed.columns:\n",
    "            X_transformed['property_type'] = X_transformed['property_type'].fillna('other')\n",
    "        if 'property_type' in X_transformed.columns:\n",
    "            X_transformed['property_type'] = X_transformed['property_type'].apply(\n",
    "                lambda x: x if x in self.property_types else 'other')\n",
    "\n",
    "            for prop_type in self.property_types:\n",
    "                col_name = f'property_type_{prop_type.replace(\" \", \"_\")}'\n",
    "                X_transformed[col_name] = (X_transformed['property_type'] == prop_type).astype(int)\n",
    "\n",
    "        # 6. Кодирование города\n",
    "        if 'city' in X_transformed.columns:\n",
    "            X_transformed['city'] = X_transformed['city'].fillna('Unknown')\n",
    "        if 'city' in X_transformed.columns:\n",
    "            X_transformed['city_encoded'] = X_transformed['city'].map(self.city_encoding).fillna(0)\n",
    "\n",
    "        # Добавляем недостающие колонки с нулями\n",
    "        for feature in set(self.final_features) - set(X_transformed.columns):\n",
    "            X_transformed[feature] = 0\n",
    "\n",
    "        # Возвращаем только нужные фичи в правильном порядке\n",
    "        return X_transformed[self.final_features]"
   ],
   "id": "7a4250700beffdfd",
   "outputs": [],
   "execution_count": 354
  },
  {
   "metadata": {
    "ExecuteTime": {
     "end_time": "2025-08-12T18:05:10.126415Z",
     "start_time": "2025-08-12T18:05:10.120989Z"
    }
   },
   "cell_type": "code",
   "source": [
    "# создаем пайплайн\n",
    "\n",
    "pipeline = Pipeline([\n",
    "    ('preprocessor', AirbnbFinalFeaturesPreprocessor()),\n",
    "    ('model', GradientBoostingRegressor( #функция потерь\n",
    "    learning_rate=0.2, #темп обучения\n",
    "    n_estimators=500, #число деревьев\n",
    "    max_depth=3, #максимальная глубина дерева\n",
    "    random_state=42, #генератор случайных чисел,\n",
    "    min_samples_leaf=7\n",
    "))\n",
    "])"
   ],
   "id": "8ab641da95bd0c4f",
   "outputs": [],
   "execution_count": 356
  },
  {
   "metadata": {
    "ExecuteTime": {
     "end_time": "2025-08-12T18:10:33.311827Z",
     "start_time": "2025-08-12T18:05:11.919940Z"
    }
   },
   "cell_type": "code",
   "source": [
    "# разделим данные на отдельные признаки и целевой признаки\n",
    "\n",
    "X = airnbnb_data.drop(['price'], axis=1)\n",
    "y = airnbnb_data['price']\n",
    "\n",
    "X_train, X_test, y_train, y_test = train_test_split(X, y, test_size=0.2, random_state=42)\n",
    "\n",
    "pipeline.fit(X_train, y_train)"
   ],
   "id": "aace2bc2470a9f48",
   "outputs": [
    {
     "data": {
      "text/plain": [
       "Pipeline(steps=[('preprocessor', AirbnbFinalFeaturesPreprocessor()),\n",
       "                ('model',\n",
       "                 GradientBoostingRegressor(learning_rate=0.2,\n",
       "                                           min_samples_leaf=7, n_estimators=500,\n",
       "                                           random_state=42))])"
      ],
      "text/html": [
       "<style>#sk-container-id-10 {\n",
       "  /* Definition of color scheme common for light and dark mode */\n",
       "  --sklearn-color-text: black;\n",
       "  --sklearn-color-line: gray;\n",
       "  /* Definition of color scheme for unfitted estimators */\n",
       "  --sklearn-color-unfitted-level-0: #fff5e6;\n",
       "  --sklearn-color-unfitted-level-1: #f6e4d2;\n",
       "  --sklearn-color-unfitted-level-2: #ffe0b3;\n",
       "  --sklearn-color-unfitted-level-3: chocolate;\n",
       "  /* Definition of color scheme for fitted estimators */\n",
       "  --sklearn-color-fitted-level-0: #f0f8ff;\n",
       "  --sklearn-color-fitted-level-1: #d4ebff;\n",
       "  --sklearn-color-fitted-level-2: #b3dbfd;\n",
       "  --sklearn-color-fitted-level-3: cornflowerblue;\n",
       "\n",
       "  /* Specific color for light theme */\n",
       "  --sklearn-color-text-on-default-background: var(--sg-text-color, var(--theme-code-foreground, var(--jp-content-font-color1, black)));\n",
       "  --sklearn-color-background: var(--sg-background-color, var(--theme-background, var(--jp-layout-color0, white)));\n",
       "  --sklearn-color-border-box: var(--sg-text-color, var(--theme-code-foreground, var(--jp-content-font-color1, black)));\n",
       "  --sklearn-color-icon: #696969;\n",
       "\n",
       "  @media (prefers-color-scheme: dark) {\n",
       "    /* Redefinition of color scheme for dark theme */\n",
       "    --sklearn-color-text-on-default-background: var(--sg-text-color, var(--theme-code-foreground, var(--jp-content-font-color1, white)));\n",
       "    --sklearn-color-background: var(--sg-background-color, var(--theme-background, var(--jp-layout-color0, #111)));\n",
       "    --sklearn-color-border-box: var(--sg-text-color, var(--theme-code-foreground, var(--jp-content-font-color1, white)));\n",
       "    --sklearn-color-icon: #878787;\n",
       "  }\n",
       "}\n",
       "\n",
       "#sk-container-id-10 {\n",
       "  color: var(--sklearn-color-text);\n",
       "}\n",
       "\n",
       "#sk-container-id-10 pre {\n",
       "  padding: 0;\n",
       "}\n",
       "\n",
       "#sk-container-id-10 input.sk-hidden--visually {\n",
       "  border: 0;\n",
       "  clip: rect(1px 1px 1px 1px);\n",
       "  clip: rect(1px, 1px, 1px, 1px);\n",
       "  height: 1px;\n",
       "  margin: -1px;\n",
       "  overflow: hidden;\n",
       "  padding: 0;\n",
       "  position: absolute;\n",
       "  width: 1px;\n",
       "}\n",
       "\n",
       "#sk-container-id-10 div.sk-dashed-wrapped {\n",
       "  border: 1px dashed var(--sklearn-color-line);\n",
       "  margin: 0 0.4em 0.5em 0.4em;\n",
       "  box-sizing: border-box;\n",
       "  padding-bottom: 0.4em;\n",
       "  background-color: var(--sklearn-color-background);\n",
       "}\n",
       "\n",
       "#sk-container-id-10 div.sk-container {\n",
       "  /* jupyter's `normalize.less` sets `[hidden] { display: none; }`\n",
       "     but bootstrap.min.css set `[hidden] { display: none !important; }`\n",
       "     so we also need the `!important` here to be able to override the\n",
       "     default hidden behavior on the sphinx rendered scikit-learn.org.\n",
       "     See: https://github.com/scikit-learn/scikit-learn/issues/21755 */\n",
       "  display: inline-block !important;\n",
       "  position: relative;\n",
       "}\n",
       "\n",
       "#sk-container-id-10 div.sk-text-repr-fallback {\n",
       "  display: none;\n",
       "}\n",
       "\n",
       "div.sk-parallel-item,\n",
       "div.sk-serial,\n",
       "div.sk-item {\n",
       "  /* draw centered vertical line to link estimators */\n",
       "  background-image: linear-gradient(var(--sklearn-color-text-on-default-background), var(--sklearn-color-text-on-default-background));\n",
       "  background-size: 2px 100%;\n",
       "  background-repeat: no-repeat;\n",
       "  background-position: center center;\n",
       "}\n",
       "\n",
       "/* Parallel-specific style estimator block */\n",
       "\n",
       "#sk-container-id-10 div.sk-parallel-item::after {\n",
       "  content: \"\";\n",
       "  width: 100%;\n",
       "  border-bottom: 2px solid var(--sklearn-color-text-on-default-background);\n",
       "  flex-grow: 1;\n",
       "}\n",
       "\n",
       "#sk-container-id-10 div.sk-parallel {\n",
       "  display: flex;\n",
       "  align-items: stretch;\n",
       "  justify-content: center;\n",
       "  background-color: var(--sklearn-color-background);\n",
       "  position: relative;\n",
       "}\n",
       "\n",
       "#sk-container-id-10 div.sk-parallel-item {\n",
       "  display: flex;\n",
       "  flex-direction: column;\n",
       "}\n",
       "\n",
       "#sk-container-id-10 div.sk-parallel-item:first-child::after {\n",
       "  align-self: flex-end;\n",
       "  width: 50%;\n",
       "}\n",
       "\n",
       "#sk-container-id-10 div.sk-parallel-item:last-child::after {\n",
       "  align-self: flex-start;\n",
       "  width: 50%;\n",
       "}\n",
       "\n",
       "#sk-container-id-10 div.sk-parallel-item:only-child::after {\n",
       "  width: 0;\n",
       "}\n",
       "\n",
       "/* Serial-specific style estimator block */\n",
       "\n",
       "#sk-container-id-10 div.sk-serial {\n",
       "  display: flex;\n",
       "  flex-direction: column;\n",
       "  align-items: center;\n",
       "  background-color: var(--sklearn-color-background);\n",
       "  padding-right: 1em;\n",
       "  padding-left: 1em;\n",
       "}\n",
       "\n",
       "\n",
       "/* Toggleable style: style used for estimator/Pipeline/ColumnTransformer box that is\n",
       "clickable and can be expanded/collapsed.\n",
       "- Pipeline and ColumnTransformer use this feature and define the default style\n",
       "- Estimators will overwrite some part of the style using the `sk-estimator` class\n",
       "*/\n",
       "\n",
       "/* Pipeline and ColumnTransformer style (default) */\n",
       "\n",
       "#sk-container-id-10 div.sk-toggleable {\n",
       "  /* Default theme specific background. It is overwritten whether we have a\n",
       "  specific estimator or a Pipeline/ColumnTransformer */\n",
       "  background-color: var(--sklearn-color-background);\n",
       "}\n",
       "\n",
       "/* Toggleable label */\n",
       "#sk-container-id-10 label.sk-toggleable__label {\n",
       "  cursor: pointer;\n",
       "  display: block;\n",
       "  width: 100%;\n",
       "  margin-bottom: 0;\n",
       "  padding: 0.5em;\n",
       "  box-sizing: border-box;\n",
       "  text-align: center;\n",
       "}\n",
       "\n",
       "#sk-container-id-10 label.sk-toggleable__label-arrow:before {\n",
       "  /* Arrow on the left of the label */\n",
       "  content: \"▸\";\n",
       "  float: left;\n",
       "  margin-right: 0.25em;\n",
       "  color: var(--sklearn-color-icon);\n",
       "}\n",
       "\n",
       "#sk-container-id-10 label.sk-toggleable__label-arrow:hover:before {\n",
       "  color: var(--sklearn-color-text);\n",
       "}\n",
       "\n",
       "/* Toggleable content - dropdown */\n",
       "\n",
       "#sk-container-id-10 div.sk-toggleable__content {\n",
       "  max-height: 0;\n",
       "  max-width: 0;\n",
       "  overflow: hidden;\n",
       "  text-align: left;\n",
       "  /* unfitted */\n",
       "  background-color: var(--sklearn-color-unfitted-level-0);\n",
       "}\n",
       "\n",
       "#sk-container-id-10 div.sk-toggleable__content.fitted {\n",
       "  /* fitted */\n",
       "  background-color: var(--sklearn-color-fitted-level-0);\n",
       "}\n",
       "\n",
       "#sk-container-id-10 div.sk-toggleable__content pre {\n",
       "  margin: 0.2em;\n",
       "  border-radius: 0.25em;\n",
       "  color: var(--sklearn-color-text);\n",
       "  /* unfitted */\n",
       "  background-color: var(--sklearn-color-unfitted-level-0);\n",
       "}\n",
       "\n",
       "#sk-container-id-10 div.sk-toggleable__content.fitted pre {\n",
       "  /* unfitted */\n",
       "  background-color: var(--sklearn-color-fitted-level-0);\n",
       "}\n",
       "\n",
       "#sk-container-id-10 input.sk-toggleable__control:checked~div.sk-toggleable__content {\n",
       "  /* Expand drop-down */\n",
       "  max-height: 200px;\n",
       "  max-width: 100%;\n",
       "  overflow: auto;\n",
       "}\n",
       "\n",
       "#sk-container-id-10 input.sk-toggleable__control:checked~label.sk-toggleable__label-arrow:before {\n",
       "  content: \"▾\";\n",
       "}\n",
       "\n",
       "/* Pipeline/ColumnTransformer-specific style */\n",
       "\n",
       "#sk-container-id-10 div.sk-label input.sk-toggleable__control:checked~label.sk-toggleable__label {\n",
       "  color: var(--sklearn-color-text);\n",
       "  background-color: var(--sklearn-color-unfitted-level-2);\n",
       "}\n",
       "\n",
       "#sk-container-id-10 div.sk-label.fitted input.sk-toggleable__control:checked~label.sk-toggleable__label {\n",
       "  background-color: var(--sklearn-color-fitted-level-2);\n",
       "}\n",
       "\n",
       "/* Estimator-specific style */\n",
       "\n",
       "/* Colorize estimator box */\n",
       "#sk-container-id-10 div.sk-estimator input.sk-toggleable__control:checked~label.sk-toggleable__label {\n",
       "  /* unfitted */\n",
       "  background-color: var(--sklearn-color-unfitted-level-2);\n",
       "}\n",
       "\n",
       "#sk-container-id-10 div.sk-estimator.fitted input.sk-toggleable__control:checked~label.sk-toggleable__label {\n",
       "  /* fitted */\n",
       "  background-color: var(--sklearn-color-fitted-level-2);\n",
       "}\n",
       "\n",
       "#sk-container-id-10 div.sk-label label.sk-toggleable__label,\n",
       "#sk-container-id-10 div.sk-label label {\n",
       "  /* The background is the default theme color */\n",
       "  color: var(--sklearn-color-text-on-default-background);\n",
       "}\n",
       "\n",
       "/* On hover, darken the color of the background */\n",
       "#sk-container-id-10 div.sk-label:hover label.sk-toggleable__label {\n",
       "  color: var(--sklearn-color-text);\n",
       "  background-color: var(--sklearn-color-unfitted-level-2);\n",
       "}\n",
       "\n",
       "/* Label box, darken color on hover, fitted */\n",
       "#sk-container-id-10 div.sk-label.fitted:hover label.sk-toggleable__label.fitted {\n",
       "  color: var(--sklearn-color-text);\n",
       "  background-color: var(--sklearn-color-fitted-level-2);\n",
       "}\n",
       "\n",
       "/* Estimator label */\n",
       "\n",
       "#sk-container-id-10 div.sk-label label {\n",
       "  font-family: monospace;\n",
       "  font-weight: bold;\n",
       "  display: inline-block;\n",
       "  line-height: 1.2em;\n",
       "}\n",
       "\n",
       "#sk-container-id-10 div.sk-label-container {\n",
       "  text-align: center;\n",
       "}\n",
       "\n",
       "/* Estimator-specific */\n",
       "#sk-container-id-10 div.sk-estimator {\n",
       "  font-family: monospace;\n",
       "  border: 1px dotted var(--sklearn-color-border-box);\n",
       "  border-radius: 0.25em;\n",
       "  box-sizing: border-box;\n",
       "  margin-bottom: 0.5em;\n",
       "  /* unfitted */\n",
       "  background-color: var(--sklearn-color-unfitted-level-0);\n",
       "}\n",
       "\n",
       "#sk-container-id-10 div.sk-estimator.fitted {\n",
       "  /* fitted */\n",
       "  background-color: var(--sklearn-color-fitted-level-0);\n",
       "}\n",
       "\n",
       "/* on hover */\n",
       "#sk-container-id-10 div.sk-estimator:hover {\n",
       "  /* unfitted */\n",
       "  background-color: var(--sklearn-color-unfitted-level-2);\n",
       "}\n",
       "\n",
       "#sk-container-id-10 div.sk-estimator.fitted:hover {\n",
       "  /* fitted */\n",
       "  background-color: var(--sklearn-color-fitted-level-2);\n",
       "}\n",
       "\n",
       "/* Specification for estimator info (e.g. \"i\" and \"?\") */\n",
       "\n",
       "/* Common style for \"i\" and \"?\" */\n",
       "\n",
       ".sk-estimator-doc-link,\n",
       "a:link.sk-estimator-doc-link,\n",
       "a:visited.sk-estimator-doc-link {\n",
       "  float: right;\n",
       "  font-size: smaller;\n",
       "  line-height: 1em;\n",
       "  font-family: monospace;\n",
       "  background-color: var(--sklearn-color-background);\n",
       "  border-radius: 1em;\n",
       "  height: 1em;\n",
       "  width: 1em;\n",
       "  text-decoration: none !important;\n",
       "  margin-left: 1ex;\n",
       "  /* unfitted */\n",
       "  border: var(--sklearn-color-unfitted-level-1) 1pt solid;\n",
       "  color: var(--sklearn-color-unfitted-level-1);\n",
       "}\n",
       "\n",
       ".sk-estimator-doc-link.fitted,\n",
       "a:link.sk-estimator-doc-link.fitted,\n",
       "a:visited.sk-estimator-doc-link.fitted {\n",
       "  /* fitted */\n",
       "  border: var(--sklearn-color-fitted-level-1) 1pt solid;\n",
       "  color: var(--sklearn-color-fitted-level-1);\n",
       "}\n",
       "\n",
       "/* On hover */\n",
       "div.sk-estimator:hover .sk-estimator-doc-link:hover,\n",
       ".sk-estimator-doc-link:hover,\n",
       "div.sk-label-container:hover .sk-estimator-doc-link:hover,\n",
       ".sk-estimator-doc-link:hover {\n",
       "  /* unfitted */\n",
       "  background-color: var(--sklearn-color-unfitted-level-3);\n",
       "  color: var(--sklearn-color-background);\n",
       "  text-decoration: none;\n",
       "}\n",
       "\n",
       "div.sk-estimator.fitted:hover .sk-estimator-doc-link.fitted:hover,\n",
       ".sk-estimator-doc-link.fitted:hover,\n",
       "div.sk-label-container:hover .sk-estimator-doc-link.fitted:hover,\n",
       ".sk-estimator-doc-link.fitted:hover {\n",
       "  /* fitted */\n",
       "  background-color: var(--sklearn-color-fitted-level-3);\n",
       "  color: var(--sklearn-color-background);\n",
       "  text-decoration: none;\n",
       "}\n",
       "\n",
       "/* Span, style for the box shown on hovering the info icon */\n",
       ".sk-estimator-doc-link span {\n",
       "  display: none;\n",
       "  z-index: 9999;\n",
       "  position: relative;\n",
       "  font-weight: normal;\n",
       "  right: .2ex;\n",
       "  padding: .5ex;\n",
       "  margin: .5ex;\n",
       "  width: min-content;\n",
       "  min-width: 20ex;\n",
       "  max-width: 50ex;\n",
       "  color: var(--sklearn-color-text);\n",
       "  box-shadow: 2pt 2pt 4pt #999;\n",
       "  /* unfitted */\n",
       "  background: var(--sklearn-color-unfitted-level-0);\n",
       "  border: .5pt solid var(--sklearn-color-unfitted-level-3);\n",
       "}\n",
       "\n",
       ".sk-estimator-doc-link.fitted span {\n",
       "  /* fitted */\n",
       "  background: var(--sklearn-color-fitted-level-0);\n",
       "  border: var(--sklearn-color-fitted-level-3);\n",
       "}\n",
       "\n",
       ".sk-estimator-doc-link:hover span {\n",
       "  display: block;\n",
       "}\n",
       "\n",
       "/* \"?\"-specific style due to the `<a>` HTML tag */\n",
       "\n",
       "#sk-container-id-10 a.estimator_doc_link {\n",
       "  float: right;\n",
       "  font-size: 1rem;\n",
       "  line-height: 1em;\n",
       "  font-family: monospace;\n",
       "  background-color: var(--sklearn-color-background);\n",
       "  border-radius: 1rem;\n",
       "  height: 1rem;\n",
       "  width: 1rem;\n",
       "  text-decoration: none;\n",
       "  /* unfitted */\n",
       "  color: var(--sklearn-color-unfitted-level-1);\n",
       "  border: var(--sklearn-color-unfitted-level-1) 1pt solid;\n",
       "}\n",
       "\n",
       "#sk-container-id-10 a.estimator_doc_link.fitted {\n",
       "  /* fitted */\n",
       "  border: var(--sklearn-color-fitted-level-1) 1pt solid;\n",
       "  color: var(--sklearn-color-fitted-level-1);\n",
       "}\n",
       "\n",
       "/* On hover */\n",
       "#sk-container-id-10 a.estimator_doc_link:hover {\n",
       "  /* unfitted */\n",
       "  background-color: var(--sklearn-color-unfitted-level-3);\n",
       "  color: var(--sklearn-color-background);\n",
       "  text-decoration: none;\n",
       "}\n",
       "\n",
       "#sk-container-id-10 a.estimator_doc_link.fitted:hover {\n",
       "  /* fitted */\n",
       "  background-color: var(--sklearn-color-fitted-level-3);\n",
       "}\n",
       "</style><div id=\"sk-container-id-10\" class=\"sk-top-container\"><div class=\"sk-text-repr-fallback\"><pre>Pipeline(steps=[(&#x27;preprocessor&#x27;, AirbnbFinalFeaturesPreprocessor()),\n",
       "                (&#x27;model&#x27;,\n",
       "                 GradientBoostingRegressor(learning_rate=0.2,\n",
       "                                           min_samples_leaf=7, n_estimators=500,\n",
       "                                           random_state=42))])</pre><b>In a Jupyter environment, please rerun this cell to show the HTML representation or trust the notebook. <br />On GitHub, the HTML representation is unable to render, please try loading this page with nbviewer.org.</b></div><div class=\"sk-container\" hidden><div class=\"sk-item sk-dashed-wrapped\"><div class=\"sk-label-container\"><div class=\"sk-label fitted sk-toggleable\"><input class=\"sk-toggleable__control sk-hidden--visually\" id=\"sk-estimator-id-28\" type=\"checkbox\" ><label for=\"sk-estimator-id-28\" class=\"sk-toggleable__label fitted sk-toggleable__label-arrow fitted\">&nbsp;&nbsp;Pipeline<a class=\"sk-estimator-doc-link fitted\" rel=\"noreferrer\" target=\"_blank\" href=\"https://scikit-learn.org/1.5/modules/generated/sklearn.pipeline.Pipeline.html\">?<span>Documentation for Pipeline</span></a><span class=\"sk-estimator-doc-link fitted\">i<span>Fitted</span></span></label><div class=\"sk-toggleable__content fitted\"><pre>Pipeline(steps=[(&#x27;preprocessor&#x27;, AirbnbFinalFeaturesPreprocessor()),\n",
       "                (&#x27;model&#x27;,\n",
       "                 GradientBoostingRegressor(learning_rate=0.2,\n",
       "                                           min_samples_leaf=7, n_estimators=500,\n",
       "                                           random_state=42))])</pre></div> </div></div><div class=\"sk-serial\"><div class=\"sk-item\"><div class=\"sk-estimator fitted sk-toggleable\"><input class=\"sk-toggleable__control sk-hidden--visually\" id=\"sk-estimator-id-29\" type=\"checkbox\" ><label for=\"sk-estimator-id-29\" class=\"sk-toggleable__label fitted sk-toggleable__label-arrow fitted\">AirbnbFinalFeaturesPreprocessor</label><div class=\"sk-toggleable__content fitted\"><pre>AirbnbFinalFeaturesPreprocessor()</pre></div> </div></div><div class=\"sk-item\"><div class=\"sk-estimator fitted sk-toggleable\"><input class=\"sk-toggleable__control sk-hidden--visually\" id=\"sk-estimator-id-30\" type=\"checkbox\" ><label for=\"sk-estimator-id-30\" class=\"sk-toggleable__label fitted sk-toggleable__label-arrow fitted\">&nbsp;GradientBoostingRegressor<a class=\"sk-estimator-doc-link fitted\" rel=\"noreferrer\" target=\"_blank\" href=\"https://scikit-learn.org/1.5/modules/generated/sklearn.ensemble.GradientBoostingRegressor.html\">?<span>Documentation for GradientBoostingRegressor</span></a></label><div class=\"sk-toggleable__content fitted\"><pre>GradientBoostingRegressor(learning_rate=0.2, min_samples_leaf=7,\n",
       "                          n_estimators=500, random_state=42)</pre></div> </div></div></div></div></div></div>"
      ]
     },
     "execution_count": 357,
     "metadata": {},
     "output_type": "execute_result"
    }
   ],
   "execution_count": 357
  },
  {
   "metadata": {},
   "cell_type": "markdown",
   "source": "сохраним обученый пайплайн в пикл файл",
   "id": "75e55ee06b881672"
  },
  {
   "metadata": {
    "ExecuteTime": {
     "end_time": "2025-08-12T19:53:40.855785Z",
     "start_time": "2025-08-12T19:53:40.718494Z"
    }
   },
   "cell_type": "code",
   "source": [
    "# import pickle\n",
    "\n",
    "#\n",
    "# # Сохраняем весь пайплайн в файл\n",
    "# with open('data/airbnb_pipeline.pkl', 'wb') as f:\n",
    "#     pickle.dump(pipeline, f)"
   ],
   "id": "38c31b147489a9e9",
   "outputs": [],
   "execution_count": 358
  }
 ],
 "metadata": {
  "kernelspec": {
   "display_name": "Python 3",
   "language": "python",
   "name": "python3"
  },
  "language_info": {
   "codemirror_mode": {
    "name": "ipython",
    "version": 2
   },
   "file_extension": ".py",
   "mimetype": "text/x-python",
   "name": "python",
   "nbconvert_exporter": "python",
   "pygments_lexer": "ipython2",
   "version": "2.7.6"
  }
 },
 "nbformat": 4,
 "nbformat_minor": 5
}
